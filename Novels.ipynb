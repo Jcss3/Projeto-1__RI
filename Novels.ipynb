{
 "cells": [
  {
   "cell_type": "markdown",
   "metadata": {},
   "source": [
    "### Bibliotecas"
   ]
  },
  {
   "cell_type": "code",
   "execution_count": 2,
   "metadata": {},
   "outputs": [],
   "source": [
    "import pandas as pd\n",
    "import numpy as np\n",
    "import scipy as scp\n",
    "from bs4 import BeautifulSoup\n",
    "import requests as rq\n",
    "import re"
   ]
  },
  {
   "cell_type": "markdown",
   "metadata": {},
   "source": [
    "### Crawler\n",
    "Testando crawler na busca de novels no site novelmania"
   ]
  },
  {
   "cell_type": "code",
   "execution_count": 3,
   "metadata": {},
   "outputs": [],
   "source": [
    "## max_pages numero maximo de paginas que queremos crawlear\n",
    "def novels_crawler(max_paginas):\n",
    "    pagina = 1\n",
    "    while pagina <= max_paginas:\n",
    "        # endereço do dominio\n",
    "        url = 'http://novelmania.com.br/page/' + str(pagina)\n",
    "        # codigo fonte da pagina\n",
    "        codigo_fonte = rq.get(url)\n",
    "        ## texto,links dentro do codigo_fonte\n",
    "        texto = codigo_fonte.text\n",
    "        soup = BeautifulSoup(texto,'html.parser')\n",
    "       \n",
    "        # Todos os links dos post do site\n",
    "        for post in soup.findAll('span',{'class':'posted-on'}):\n",
    "            for link in post.findAll('a',''):\n",
    "                href = link.get('href')\n",
    "                dataPost = link.text\n",
    "                print('Data: '+ dataPost)\n",
    "                print(href)\n",
    "\n",
    "        # Loop que me retorna todos os links do menu - pode ser usado para uma pesquisa direcionada\n",
    "        '''for lista in soup.findAll('ul',class_='sub-menu'):\n",
    "            for link in lista.findAll('a',''):\n",
    "                href = link.get('href')\n",
    "                print(href)'''\n",
    "        pagina += 1"
   ]
  },
  {
   "cell_type": "code",
   "execution_count": 4,
   "metadata": {},
   "outputs": [
    {
     "name": "stdout",
     "output_type": "stream",
     "text": [
      "Data: 10/09/201910/09/2019\n",
      "http://novelmania.com.br/recrutamento-de-tradutores/\n",
      "Data: 15/09/2019\n",
      "http://novelmania.com.br/lms-volume-39-capitulo-8/\n",
      "Data: 15/09/2019\n",
      "http://novelmania.com.br/lms-volume-39-capitulo-7/\n",
      "Data: 15/09/201914/09/2019\n",
      "http://novelmania.com.br/ter-capitulos-191-192/\n",
      "Data: 15/09/201914/09/2019\n",
      "http://novelmania.com.br/arifureta-capitulo-149/\n",
      "Data: 15/09/201914/09/2019\n",
      "http://novelmania.com.br/cc-capitulo-275/\n",
      "Data: 14/09/2019\n",
      "http://novelmania.com.br/ri-capitulo-1077/\n",
      "Data: 14/09/201914/09/2019\n",
      "http://novelmania.com.br/ri-capitulo-1076/\n",
      "Data: 14/09/201915/09/2019\n",
      "http://novelmania.com.br/srvf-volume-8-capitulo-8/\n",
      "Data: 13/09/201908/09/2019\n",
      "http://novelmania.com.br/ri-capitulo-1075/\n",
      "Data: 12/09/201908/09/2019\n",
      "http://novelmania.com.br/ri-capitulo-1074/\n"
     ]
    }
   ],
   "source": [
    "linksUmaPagina = novels_crawler(1)\n",
    "linksUmaPagina"
   ]
  },
  {
   "cell_type": "code",
   "execution_count": 5,
   "metadata": {},
   "outputs": [
    {
     "name": "stdout",
     "output_type": "stream",
     "text": [
      "Data: 10/09/201910/09/2019\n",
      "http://novelmania.com.br/recrutamento-de-tradutores/\n",
      "Data: 15/09/2019\n",
      "http://novelmania.com.br/lms-volume-39-capitulo-8/\n",
      "Data: 15/09/2019\n",
      "http://novelmania.com.br/lms-volume-39-capitulo-7/\n",
      "Data: 15/09/201914/09/2019\n",
      "http://novelmania.com.br/ter-capitulos-191-192/\n",
      "Data: 15/09/201914/09/2019\n",
      "http://novelmania.com.br/arifureta-capitulo-149/\n",
      "Data: 15/09/201914/09/2019\n",
      "http://novelmania.com.br/cc-capitulo-275/\n",
      "Data: 14/09/2019\n",
      "http://novelmania.com.br/ri-capitulo-1077/\n",
      "Data: 14/09/201914/09/2019\n",
      "http://novelmania.com.br/ri-capitulo-1076/\n",
      "Data: 14/09/201915/09/2019\n",
      "http://novelmania.com.br/srvf-volume-8-capitulo-8/\n",
      "Data: 13/09/201908/09/2019\n",
      "http://novelmania.com.br/ri-capitulo-1075/\n",
      "Data: 12/09/201908/09/2019\n",
      "http://novelmania.com.br/ri-capitulo-1074/\n",
      "Data: 11/09/201908/09/2019\n",
      "http://novelmania.com.br/ri-capitulo-1073/\n",
      "Data: 10/09/201908/09/2019\n",
      "http://novelmania.com.br/ri-capitulo-1072/\n",
      "Data: 10/09/201910/09/2019\n",
      "http://novelmania.com.br/recrutamento-de-tradutores/\n",
      "Data: 09/09/201908/09/2019\n",
      "http://novelmania.com.br/ri-capitulo-1071/\n",
      "Data: 08/09/2019\n",
      "http://novelmania.com.br/setes-volume-7-capitulo-4/\n",
      "Data: 08/09/2019\n",
      "http://novelmania.com.br/lms-volume-39-capitulo-6/\n",
      "Data: 08/09/2019\n",
      "http://novelmania.com.br/ddu-capitulo-255/\n",
      "Data: 08/09/2019\n",
      "http://novelmania.com.br/lms-volume-39-capitulo-5/\n",
      "Data: 08/09/201907/09/2019\n",
      "http://novelmania.com.br/ter-capitulo-189-190/\n",
      "Data: 08/09/201907/09/2019\n",
      "http://novelmania.com.br/arifureta-capitulo-148/\n",
      "Data: 07/09/201907/09/2019\n",
      "http://novelmania.com.br/ri-capitulo-1070/\n",
      "Data: 07/09/2019\n",
      "http://novelmania.com.br/srvf-volume-8-capitulo-7/\n",
      "Data: 06/09/2019\n",
      "http://novelmania.com.br/web-novel-japonesa-me-tornei-uma-espada-ao-reencarnar/\n",
      "Data: 06/09/201905/09/2019\n",
      "http://novelmania.com.br/ri-capitulo-1069/\n",
      "Data: 05/09/201903/09/2019\n",
      "http://novelmania.com.br/ri-capitulo-1068/\n",
      "Data: 04/09/201903/09/2019\n",
      "http://novelmania.com.br/ri-capitulo-1067/\n",
      "Data: 03/09/2019\n",
      "http://novelmania.com.br/ri-capitulo-1065-1066/\n",
      "Data: 01/09/2019\n",
      "http://novelmania.com.br/setes-volume-7-capitulo-3/\n",
      "Data: 01/09/2019\n",
      "http://novelmania.com.br/ddu-capitulo-254/\n",
      "Data: 01/09/2019\n",
      "http://novelmania.com.br/lms-volume-39-capitulo-4/\n"
     ]
    }
   ],
   "source": [
    "linksTresPagina = novels_crawler(3)\n",
    "linksTresPagina"
   ]
  },
  {
   "cell_type": "code",
   "execution_count": null,
   "metadata": {},
   "outputs": [],
   "source": []
  }
 ],
 "metadata": {
  "kernelspec": {
   "display_name": "Python 3",
   "language": "python",
   "name": "python3"
  },
  "language_info": {
   "codemirror_mode": {
    "name": "ipython",
    "version": 3
   },
   "file_extension": ".py",
   "mimetype": "text/x-python",
   "name": "python",
   "nbconvert_exporter": "python",
   "pygments_lexer": "ipython3",
   "version": "3.6.5"
  }
 },
 "nbformat": 4,
 "nbformat_minor": 2
}
