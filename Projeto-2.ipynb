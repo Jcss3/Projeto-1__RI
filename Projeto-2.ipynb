{
 "cells": [
  {
   "cell_type": "markdown",
   "metadata": {},
   "source": [
    "## Bibliotecas"
   ]
  },
  {
   "cell_type": "code",
   "execution_count": 36,
   "metadata": {},
   "outputs": [],
   "source": [
    "from nltk.stem import PorterStemmer\n",
    "from nltk.tokenize import sent_tokenize, word_tokenize\n",
    "\n",
    "from nltk.corpus import stopwords"
   ]
  },
  {
   "cell_type": "markdown",
   "metadata": {},
   "source": [
    "## Consulta do Usuário"
   ]
  },
  {
   "cell_type": "code",
   "execution_count": 66,
   "metadata": {},
   "outputs": [],
   "source": [
    "def ConsultaUsuário(consulta):\n",
    "    \n",
    "    My_stopwords = set(stopwords.words('english'))\n",
    "    \n",
    "    # Separar a consulta por palavras.\n",
    "    palavras = word_tokenize(consulta)\n",
    "    \n",
    "    # Remover as Stopwords.\n",
    "    lista_Termos = [i for i in palavras if i not in My_stopwords]\n",
    "    \n",
    "    # Stemming para pegar termos similares atraves dos radicais das palavras.\n",
    "    ps = PorterStemmer()\n",
    "    lista_radicais = []\n",
    "    for w in lista_Termos:\n",
    "        if ps.stem(w) not in lista_radicais: \n",
    "            lista_radicais.append(ps.stem(w))\n",
    "\n",
    "    return [lista_Termos,lista_radicais]"
   ]
  },
  {
   "cell_type": "code",
   "execution_count": 71,
   "metadata": {},
   "outputs": [
    {
     "name": "stdout",
     "output_type": "stream",
     "text": [
      "['I', 'want', 'Black', 'Lotus', 'atributtes', '!', 'Do', 'Black', 'Lotus', 'blacking', 'lotus', '?']\n",
      "['I', 'want', 'black', 'lotu', 'atributt', '!', 'Do', '?']\n"
     ]
    }
   ],
   "source": [
    "#exemplo consulta\n",
    "consulta = 'I want the Black Lotus atributtes! Do you have a Black Lotus or a blacking lotus?'\n",
    "\n",
    "#lista consulta separada por palavras e sem stopwords (termos)\n",
    "print(ConsultaUsuário(consulta)[0])\n",
    "\n",
    "#lista consulta separada pelos radicais das palavras sem stopwords (radicais dos meus termos)\n",
    "print(ConsultaUsuário(consulta)[1])"
   ]
  },
  {
   "cell_type": "code",
   "execution_count": 68,
   "metadata": {},
   "outputs": [],
   "source": [
    "# comparar com os postings do indice invertido (document-at-a-timeme ou term-at-a-time)\n",
    "# Primeiro term\n",
    "# Segundo Document\n",
    "def Ler_postings(IndiceInvertido):\n",
    "    return"
   ]
  },
  {
   "cell_type": "code",
   "execution_count": 69,
   "metadata": {},
   "outputs": [],
   "source": [
    "# Ranking usando o modelo espaço de vetores\n",
    "def Rank_ModeloVetores(ConsultaPalavras):\n",
    "    return"
   ]
  },
  {
   "cell_type": "code",
   "execution_count": 70,
   "metadata": {},
   "outputs": [],
   "source": [
    "# Correlação de Spearman\n",
    "def Correlação_Spearman():\n",
    "    return"
   ]
  },
  {
   "cell_type": "code",
   "execution_count": null,
   "metadata": {},
   "outputs": [],
   "source": []
  }
 ],
 "metadata": {
  "kernelspec": {
   "display_name": "Python 3",
   "language": "python",
   "name": "python3"
  },
  "language_info": {
   "codemirror_mode": {
    "name": "ipython",
    "version": 3
   },
   "file_extension": ".py",
   "mimetype": "text/x-python",
   "name": "python",
   "nbconvert_exporter": "python",
   "pygments_lexer": "ipython3",
   "version": "3.7.3"
  }
 },
 "nbformat": 4,
 "nbformat_minor": 2
}
