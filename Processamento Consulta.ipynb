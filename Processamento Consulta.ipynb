{
 "cells": [
  {
   "cell_type": "markdown",
   "metadata": {},
   "source": [
    "## Bibliotecas"
   ]
  },
  {
   "cell_type": "code",
   "execution_count": 1,
   "metadata": {},
   "outputs": [],
   "source": [
    "from nltk.stem import PorterStemmer\n",
    "from nltk.tokenize import sent_tokenize, word_tokenize\n",
    "\n",
    "from nltk.corpus import stopwords\n",
    "from collections import Counter\n",
    "import pandas as pd\n",
    "import numpy as np\n",
    "import math\n",
    "import operator\n",
    "from functools import reduce\n",
    "from matplotlib import pyplot as plt"
   ]
  },
  {
   "cell_type": "markdown",
   "metadata": {},
   "source": [
    "## Consulta do Usuário"
   ]
  },
  {
   "cell_type": "code",
   "execution_count": 2,
   "metadata": {},
   "outputs": [],
   "source": [
    "def ConsultaUsuário(consulta):\n",
    "    \n",
    "    My_stopwords = set(stopwords.words('english'))\n",
    "    \n",
    "    # Separar a consulta por palavras.\n",
    "    palavras = word_tokenize(consulta)\n",
    "    # Remover as Stopwords.\n",
    "    lista_Termos = [i for i in palavras if i not in My_stopwords]\n",
    "    \n",
    "    \n",
    "    #Remover Duplicatas\n",
    "    #lista_Termos = list(dict.fromkeys(lista_Termos))\n",
    "    #print(lista_Termos)\n",
    "    \n",
    "    # Stemming para pegar termos similares atraves dos radicais das palavras.\n",
    "    ps = PorterStemmer()\n",
    "    lista_radicais = []\n",
    "    for w in lista_Termos:\n",
    "        if ps.stem(w) not in lista_radicais: \n",
    "            lista_radicais.append(ps.stem(w))\n",
    "\n",
    "    return lista_Termos"
   ]
  },
  {
   "cell_type": "code",
   "execution_count": 3,
   "metadata": {},
   "outputs": [
    {
     "data": {
      "text/plain": [
       "['Blue', 'Blue']"
      ]
     },
     "metadata": {},
     "output_type": "display_data"
    },
    {
     "data": {
      "text/plain": [
       "['Black', 'Dragon']"
      ]
     },
     "metadata": {},
     "output_type": "display_data"
    }
   ],
   "source": [
    "display(ConsultaUsuário('Blue Blue'))\n",
    "display(ConsultaUsuário('Black Dragon'))"
   ]
  },
  {
   "cell_type": "markdown",
   "metadata": {},
   "source": [
    "# Exemplos de Teste\n",
    "* Modelo do Indice Invertido [ Termo , [ ( DOCUMENTO , TF/IDF ) ] ]\n",
    "* Modelo da Consulta do Usuário: Texto qualquer"
   ]
  },
  {
   "cell_type": "code",
   "execution_count": 4,
   "metadata": {},
   "outputs": [],
   "source": [
    "Docs = [\n",
    "    ['Black',[('doc1',1),('doc2',2)]],\n",
    "    ['dragon',[('doc2',3),('doc3',1)]],\n",
    "    ['Illusion',[('doc4',1)]],\n",
    "    ['lord',[('doc5',4)]]\n",
    "]\n",
    "\n",
    "consulta = r'Black Lotus of a Illusion'"
   ]
  },
  {
   "cell_type": "markdown",
   "metadata": {},
   "source": [
    "## Postings\n",
    "* Document at time\n",
    "* term at time"
   ]
  },
  {
   "cell_type": "markdown",
   "metadata": {},
   "source": [
    "## Modelo Espaço Vetorial"
   ]
  },
  {
   "cell_type": "markdown",
   "metadata": {},
   "source": [
    "### Similaridade Cosseno de Vetores"
   ]
  },
  {
   "cell_type": "code",
   "execution_count": 5,
   "metadata": {},
   "outputs": [],
   "source": [
    "# Similaridade Cosseno\n",
    "def SimilaridadeCosseno(vetorQuery,vetorDoc):\n",
    "    score = np.dot(vetorQuery,vetorDoc) / (math.sqrt((np.dot(vetorQuery,vetorQuery))*(np.dot(vetorDoc,vetorDoc))))\n",
    "    return score"
   ]
  },
  {
   "cell_type": "markdown",
   "metadata": {},
   "source": [
    "### Matrix de Vetores\n",
    "* <strong>Sem TF/IDF</strong> \n",
    "    Apenas a presença do termo no documento."
   ]
  },
  {
   "cell_type": "code",
   "execution_count": 6,
   "metadata": {},
   "outputs": [
    {
     "name": "stdout",
     "output_type": "stream",
     "text": [
      "Exemplo: consulta = Black Lotus of a Illusion\n"
     ]
    },
    {
     "data": {
      "text/html": [
       "<div>\n",
       "<style scoped>\n",
       "    .dataframe tbody tr th:only-of-type {\n",
       "        vertical-align: middle;\n",
       "    }\n",
       "\n",
       "    .dataframe tbody tr th {\n",
       "        vertical-align: top;\n",
       "    }\n",
       "\n",
       "    .dataframe thead th {\n",
       "        text-align: right;\n",
       "    }\n",
       "</style>\n",
       "<table border=\"1\" class=\"dataframe\">\n",
       "  <thead>\n",
       "    <tr style=\"text-align: right;\">\n",
       "      <th></th>\n",
       "      <th>Query</th>\n",
       "      <th>doc1</th>\n",
       "      <th>doc2</th>\n",
       "      <th>doc3</th>\n",
       "      <th>doc4</th>\n",
       "      <th>doc5</th>\n",
       "    </tr>\n",
       "  </thead>\n",
       "  <tbody>\n",
       "    <tr>\n",
       "      <th>Black</th>\n",
       "      <td>1</td>\n",
       "      <td>1</td>\n",
       "      <td>1</td>\n",
       "      <td>0</td>\n",
       "      <td>0</td>\n",
       "      <td>0</td>\n",
       "    </tr>\n",
       "    <tr>\n",
       "      <th>Lotus</th>\n",
       "      <td>1</td>\n",
       "      <td>0</td>\n",
       "      <td>0</td>\n",
       "      <td>0</td>\n",
       "      <td>0</td>\n",
       "      <td>0</td>\n",
       "    </tr>\n",
       "    <tr>\n",
       "      <th>Illusion</th>\n",
       "      <td>1</td>\n",
       "      <td>0</td>\n",
       "      <td>0</td>\n",
       "      <td>0</td>\n",
       "      <td>1</td>\n",
       "      <td>0</td>\n",
       "    </tr>\n",
       "    <tr>\n",
       "      <th>dragon</th>\n",
       "      <td>0</td>\n",
       "      <td>0</td>\n",
       "      <td>1</td>\n",
       "      <td>1</td>\n",
       "      <td>0</td>\n",
       "      <td>0</td>\n",
       "    </tr>\n",
       "    <tr>\n",
       "      <th>lord</th>\n",
       "      <td>0</td>\n",
       "      <td>0</td>\n",
       "      <td>0</td>\n",
       "      <td>0</td>\n",
       "      <td>0</td>\n",
       "      <td>1</td>\n",
       "    </tr>\n",
       "  </tbody>\n",
       "</table>\n",
       "</div>"
      ],
      "text/plain": [
       "          Query  doc1  doc2  doc3  doc4  doc5\n",
       "Black         1     1     1     0     0     0\n",
       "Lotus         1     0     0     0     0     0\n",
       "Illusion      1     0     0     0     1     0\n",
       "dragon        0     0     1     1     0     0\n",
       "lord          0     0     0     0     0     1"
      ]
     },
     "execution_count": 6,
     "metadata": {},
     "output_type": "execute_result"
    }
   ],
   "source": [
    "def MatrixVetores(Postings,query):\n",
    "    \n",
    "    # Lista com os termos tanto dos postings quanto da consulta.\n",
    "    termosVocabulario = []\n",
    "    \n",
    "    # Add consulta(query) e os documentos.\n",
    "    documentoNomes = [query]\n",
    "    \n",
    "    # Add termos da consulta ao vocabulario.\n",
    "    for termos in ConsultaUsuário(query):\n",
    "        if termos not in termosVocabulario:\n",
    "            termosVocabulario.append(termos)\n",
    "    \n",
    "    # Add os termos dos documentos dos postings ao vocabulario.\n",
    "    for posting in Postings:\n",
    "        if posting[0] not in termosVocabulario:\n",
    "            termosVocabulario.append(posting[0])\n",
    "        for tupla in posting[1]:\n",
    "            if tupla[0] not in documentoNomes:\n",
    "                documentoNomes.append(tupla[0])\n",
    "    \n",
    "    #print('termos do Vocabulario (Query e Documentos): ',termosVocabulario,\"\\n\\n\")\n",
    "    #print('Nome dos Documentos (Query e Documentos): ',documentoNomes,\"\\n\\n\")\n",
    "    \n",
    "    # Criando matrix de vetores \n",
    "    matrixVazia = np.zeros((len(termosVocabulario),len(documentoNomes)),dtype=object)\n",
    "    \n",
    "    # Add nomes as rows e columns (rows = termos e columns docs)\n",
    "    df = pd.DataFrame(matrixVazia, columns=documentoNomes, index=termosVocabulario)\n",
    "    \n",
    "    # Inserir os valores na matrix (sem tf/idf) se existe 1 se não 0\n",
    "    nameColumns = list(df.columns)\n",
    "    nameRows = list(df.index)\n",
    "     \n",
    "    # Preenchendo os valores dos vetores usando Document-at-time.\n",
    "    for doc in nameColumns:\n",
    "        for termo in nameRows:\n",
    "            \n",
    "            # Verificando a query.\n",
    "            if termo in ConsultaUsuário(query) and doc == query:\n",
    "                df.loc[termo,doc] = 1\n",
    "            else:\n",
    "                df.loc[termo,doc] = 0\n",
    "     \n",
    "            # Verificando os docs.\n",
    "            for posting in Postings:\n",
    "                if termo == posting[0]:\n",
    "                    for tupla in posting[1]:\n",
    "                        if doc == tupla[0]:\n",
    "                            if tupla[1] > 0:\n",
    "                                df.loc[termo,doc] = 1\n",
    "                            else:\n",
    "                                df.loc[termo,doc] = 0\n",
    "      \n",
    "    \n",
    "    df.rename(columns={query:'Query'},inplace = True)    \n",
    "    #display(df)\n",
    "    return df\n",
    "print('Exemplo: consulta = Black Lotus of a Illusion')\n",
    "MatrixVetores(Docs,consulta)"
   ]
  },
  {
   "cell_type": "markdown",
   "metadata": {},
   "source": [
    "### Matrix de Vetores\n",
    "* <strong>TF/IDF</strong> "
   ]
  },
  {
   "cell_type": "code",
   "execution_count": 7,
   "metadata": {},
   "outputs": [
    {
     "name": "stdout",
     "output_type": "stream",
     "text": [
      "Exemplo: consulta = Black Lotus of a Illusion\n"
     ]
    },
    {
     "data": {
      "text/html": [
       "<div>\n",
       "<style scoped>\n",
       "    .dataframe tbody tr th:only-of-type {\n",
       "        vertical-align: middle;\n",
       "    }\n",
       "\n",
       "    .dataframe tbody tr th {\n",
       "        vertical-align: top;\n",
       "    }\n",
       "\n",
       "    .dataframe thead th {\n",
       "        text-align: right;\n",
       "    }\n",
       "</style>\n",
       "<table border=\"1\" class=\"dataframe\">\n",
       "  <thead>\n",
       "    <tr style=\"text-align: right;\">\n",
       "      <th></th>\n",
       "      <th>Query</th>\n",
       "      <th>doc1</th>\n",
       "      <th>doc2</th>\n",
       "      <th>doc3</th>\n",
       "      <th>doc4</th>\n",
       "      <th>doc5</th>\n",
       "    </tr>\n",
       "  </thead>\n",
       "  <tbody>\n",
       "    <tr>\n",
       "      <th>Black</th>\n",
       "      <td>1</td>\n",
       "      <td>1</td>\n",
       "      <td>2</td>\n",
       "      <td>0</td>\n",
       "      <td>0</td>\n",
       "      <td>0</td>\n",
       "    </tr>\n",
       "    <tr>\n",
       "      <th>Lotus</th>\n",
       "      <td>1</td>\n",
       "      <td>0</td>\n",
       "      <td>0</td>\n",
       "      <td>0</td>\n",
       "      <td>0</td>\n",
       "      <td>0</td>\n",
       "    </tr>\n",
       "    <tr>\n",
       "      <th>Illusion</th>\n",
       "      <td>1</td>\n",
       "      <td>0</td>\n",
       "      <td>0</td>\n",
       "      <td>0</td>\n",
       "      <td>1</td>\n",
       "      <td>0</td>\n",
       "    </tr>\n",
       "    <tr>\n",
       "      <th>dragon</th>\n",
       "      <td>0</td>\n",
       "      <td>0</td>\n",
       "      <td>3</td>\n",
       "      <td>1</td>\n",
       "      <td>0</td>\n",
       "      <td>0</td>\n",
       "    </tr>\n",
       "    <tr>\n",
       "      <th>lord</th>\n",
       "      <td>0</td>\n",
       "      <td>0</td>\n",
       "      <td>0</td>\n",
       "      <td>0</td>\n",
       "      <td>0</td>\n",
       "      <td>4</td>\n",
       "    </tr>\n",
       "  </tbody>\n",
       "</table>\n",
       "</div>"
      ],
      "text/plain": [
       "          Query  doc1  doc2  doc3  doc4  doc5\n",
       "Black         1     1     2     0     0     0\n",
       "Lotus         1     0     0     0     0     0\n",
       "Illusion      1     0     0     0     1     0\n",
       "dragon        0     0     3     1     0     0\n",
       "lord          0     0     0     0     0     4"
      ]
     },
     "execution_count": 7,
     "metadata": {},
     "output_type": "execute_result"
    }
   ],
   "source": [
    "def MatrixVetores_TF_IDF(Postings,query):\n",
    "    \n",
    "    # Lista com os termos tanto dos postings quanto da consulta.\n",
    "    termosVocabulario = []\n",
    "    \n",
    "    # Add consulta(query) e os documentos.\n",
    "    documentoNomes = [query]\n",
    "    \n",
    "    # Add termos da consulta ao vocabulario.\n",
    "    for termos in ConsultaUsuário(query):\n",
    "        if termos not in termosVocabulario:\n",
    "            termosVocabulario.append(termos)\n",
    "    \n",
    "    # Add os termos dos documentos dos postings ao vocabulario.\n",
    "    for posting in Postings:\n",
    "        if posting[0] not in termosVocabulario:\n",
    "            termosVocabulario.append(posting[0])\n",
    "        for tupla in posting[1]:\n",
    "            if tupla[0] not in documentoNomes:\n",
    "                documentoNomes.append(tupla[0])\n",
    "    \n",
    "    #print('termos do Vocabulario (Query e Documentos): ',termosVocabulario,\"\\n\\n\")\n",
    "    #print('Nome dos Documentos (Query e Documentos): ',documentoNomes,\"\\n\\n\")\n",
    "    \n",
    "    # Criando matrix de vetores \n",
    "    matrixVazia = np.zeros((len(termosVocabulario),len(documentoNomes)),dtype=object)\n",
    "    \n",
    "    # Add nomes as rows e columns (rows = termos e columns docs)\n",
    "    df = pd.DataFrame(matrixVazia, columns=documentoNomes, index=termosVocabulario)\n",
    "    \n",
    "    # Inserir os valores na matrix (sem tf/idf) se existe 1 se não 0\n",
    "    nameColumns = list(df.columns)\n",
    "    nameRows = list(df.index)\n",
    "     \n",
    "    # Preenchendo os valores dos vetores.\n",
    "    for doc in nameColumns:\n",
    "        for termo in nameRows:\n",
    "            \n",
    "            # Verificando a query.\n",
    "            if termo in ConsultaUsuário(query) and doc == query:                \n",
    "                # por enquanto só TF\n",
    "                TF = ConsultaUsuário(query).count(termo) #/len(ConsultaUsuário(query))\n",
    "                df.loc[termo,doc] = TF\n",
    "            else:\n",
    "                df.loc[termo,doc] = 0\n",
    "     \n",
    "            # Verificando os docs.\n",
    "            for posting in Postings:\n",
    "                if termo == posting[0]:\n",
    "                    for tupla in posting[1]:\n",
    "                        if doc == tupla[0]:\n",
    "                            if tupla[1] > 0:\n",
    "                                # valor do 2 componente da tupla [termo , [ ( doc, TF/IDF ) ] ]\n",
    "                                df.loc[termo,doc] = tupla[1]\n",
    "                            else:\n",
    "                                df.loc[termo,doc] = 0      \n",
    "    \n",
    "    df.rename(columns={query:'Query'},inplace = True)    \n",
    "    #display(df)\n",
    "    return df\n",
    "print('Exemplo: consulta = Black Lotus of a Illusion')\n",
    "MatrixVetores_TF_IDF(Docs,consulta)"
   ]
  },
  {
   "cell_type": "markdown",
   "metadata": {},
   "source": [
    "### Resposta Consulta \n",
    "    *Lista de Documentos Ordenada pela similaridade dos cossenos (Documento e Query)"
   ]
  },
  {
   "cell_type": "code",
   "execution_count": 8,
   "metadata": {},
   "outputs": [],
   "source": [
    "# Resposta\n",
    "def RespostaConsulta(matrixVetores):\n",
    "    \n",
    "    # Lista de cocumentos e seus scores (doc,score)\n",
    "    ListaDocumentos = []\n",
    "    \n",
    "    # Pegando o vetorQuery\n",
    "    vetorQuery = matrixVetores['Query'].to_numpy()\n",
    "    \n",
    "    for col in matrixVetores.columns:  \n",
    "        # Score da Similaridade de cossenos\n",
    "        score = SimilaridadeCosseno(vetorQuery,matrixVetores[col].to_numpy())\n",
    "        \n",
    "        # documento comparado a query\n",
    "        documento = col\n",
    "\n",
    "        ListaDocumentos.append((documento,score))\n",
    "    \n",
    "    # Ordenar pelo Score.\n",
    "    ListaDocumentos.sort(key=operator.itemgetter(1),reverse=True)\n",
    "    \n",
    "    return ListaDocumentos"
   ]
  },
  {
   "cell_type": "markdown",
   "metadata": {},
   "source": [
    "## Resposta usando MatrixVetores sem TF/IDF"
   ]
  },
  {
   "cell_type": "code",
   "execution_count": 9,
   "metadata": {},
   "outputs": [
    {
     "name": "stdout",
     "output_type": "stream",
     "text": [
      "Exemplo: consulta = Black Lotus of a Illusion\n"
     ]
    },
    {
     "data": {
      "text/plain": [
       "[('Query', 1.0),\n",
       " ('doc1', 0.5773502691896258),\n",
       " ('doc4', 0.5773502691896258),\n",
       " ('doc2', 0.4082482904638631),\n",
       " ('doc3', 0.0),\n",
       " ('doc5', 0.0)]"
      ]
     },
     "execution_count": 9,
     "metadata": {},
     "output_type": "execute_result"
    }
   ],
   "source": [
    "print('Exemplo: consulta = Black Lotus of a Illusion')\n",
    "RespostaConsulta(MatrixVetores(Docs,consulta))"
   ]
  },
  {
   "cell_type": "code",
   "execution_count": 10,
   "metadata": {},
   "outputs": [
    {
     "name": "stdout",
     "output_type": "stream",
     "text": [
      "Exemplo: consulta = Blue and Red dragon\n"
     ]
    },
    {
     "data": {
      "text/plain": [
       "[('Query', 1.0),\n",
       " ('doc3', 0.5773502691896258),\n",
       " ('doc2', 0.4082482904638631),\n",
       " ('doc1', 0.0),\n",
       " ('doc4', 0.0),\n",
       " ('doc5', 0.0)]"
      ]
     },
     "execution_count": 10,
     "metadata": {},
     "output_type": "execute_result"
    }
   ],
   "source": [
    "print('Exemplo: consulta = Blue and Red dragon')\n",
    "RespostaConsulta(MatrixVetores(Docs,'Blue and Red dragon'))"
   ]
  },
  {
   "cell_type": "markdown",
   "metadata": {},
   "source": [
    "## Resposta usando MatrixVetores com TF/IDF"
   ]
  },
  {
   "cell_type": "code",
   "execution_count": 11,
   "metadata": {},
   "outputs": [
    {
     "name": "stdout",
     "output_type": "stream",
     "text": [
      "Exemplo: consulta = Black Lotus of a Illusion\n"
     ]
    },
    {
     "data": {
      "text/plain": [
       "[('Query', 1.0),\n",
       " ('doc1', 0.5773502691896258),\n",
       " ('doc4', 0.5773502691896258),\n",
       " ('doc2', 0.32025630761017426),\n",
       " ('doc3', 0.0),\n",
       " ('doc5', 0.0)]"
      ]
     },
     "execution_count": 11,
     "metadata": {},
     "output_type": "execute_result"
    }
   ],
   "source": [
    "print('Exemplo: consulta = Black Lotus of a Illusion')\n",
    "RespostaConsulta(MatrixVetores_TF_IDF(Docs,consulta))"
   ]
  },
  {
   "cell_type": "code",
   "execution_count": 12,
   "metadata": {},
   "outputs": [
    {
     "name": "stdout",
     "output_type": "stream",
     "text": [
      "Exemplo: consulta = Blue and Red dragon\n"
     ]
    },
    {
     "data": {
      "text/plain": [
       "[('Query', 1.0),\n",
       " ('doc3', 0.5773502691896258),\n",
       " ('doc2', 0.48038446141526137),\n",
       " ('doc1', 0.0),\n",
       " ('doc4', 0.0),\n",
       " ('doc5', 0.0)]"
      ]
     },
     "execution_count": 12,
     "metadata": {},
     "output_type": "execute_result"
    }
   ],
   "source": [
    "print('Exemplo: consulta = Blue and Red dragon')\n",
    "RespostaConsulta(MatrixVetores_TF_IDF(Docs,'Blue and Red dragon'))"
   ]
  },
  {
   "cell_type": "markdown",
   "metadata": {},
   "source": [
    "# Correlação de Spearman"
   ]
  },
  {
   "cell_type": "code",
   "execution_count": 13,
   "metadata": {},
   "outputs": [],
   "source": [
    "# Correlação de Spearman\n",
    "def Correlação_Spearman(consultasRepostas):\n",
    "    \n",
    "    # Removendo indice de query\n",
    "    for listaconsulta in consultasRepostas:\n",
    "        for tupla in listaconsulta:\n",
    "            if tupla[0] == 'Query':\n",
    "                listaconsulta.remove(tupla)\n",
    "    \n",
    "    # tamanho da matrix\n",
    "    numeroColunas = len(consultasRepostas[0])\n",
    "    numeroLinhas = len(consultasRepostas)\n",
    "    \n",
    "    colunaNomes = []\n",
    "    linhaNomes = []\n",
    "    dicionariolinhas = {}\n",
    "    count = 0\n",
    "    # Definindo os nomes da matrix\n",
    "    for lista in consultasRepostas:\n",
    "        # Nomes das colunas\n",
    "        for tupla in lista:\n",
    "            if tupla[0] not in colunaNomes:\n",
    "                colunaNomes.append(tupla[0])\n",
    "        \n",
    "        # Nome das linhas\n",
    "        count = count + 1\n",
    "        nomelista = 'Consulta ' + str(count)\n",
    "        linhaNomes.append(nomelista)\n",
    "        dicionariolinhas[nomelista] = lista\n",
    "    \n",
    "    # matrixVazia\n",
    "    matrixVazia = np.zeros((numeroLinhas,numeroColunas),dtype=object)\n",
    "    # Add nomes as rows e columns\n",
    "    df = pd.DataFrame(matrixVazia, columns=colunaNomes, index=linhaNomes)\n",
    "    \n",
    "    matrixColunas = list(df.columns)\n",
    "    matrixLinhas = list(df.index)\n",
    "     \n",
    "    # Preenchendo os valores dos vetores.\n",
    "    for linha in matrixLinhas: \n",
    "        for coluna in matrixColunas: \n",
    "            \n",
    "            for lista in consultasRepostas:\n",
    "                if dicionariolinhas[linha] == lista:\n",
    "                    for tupla in lista:\n",
    "                        if coluna == tupla[0]:\n",
    "                            df.loc[linha,coluna] = tupla[1]\n",
    "                            \n",
    "    \n",
    "    # Calculando os rankings\n",
    "    dicionarioRankings = {}  \n",
    "    for linha in matrixLinhas:\n",
    "\n",
    "        auxDF = df.copy()\n",
    "        \n",
    "        listatuplas = []\n",
    "        countMax = 1\n",
    "        countMin = len(auxDF.columns)\n",
    "        \n",
    "        for coluna in matrixColunas:\n",
    "            \n",
    "            if auxDF.loc[linha,coluna] == auxDF.loc[linha].max():\n",
    "                \n",
    "                Ranking = countMax\n",
    "                if(coluna,Ranking) not in listatuplas:\n",
    "                    listatuplas.append((coluna,Ranking))\n",
    "                    \n",
    "                dicionarioRankings[linha] = listatuplas\n",
    "                countMax = countMax + 1\n",
    "                \n",
    "            elif auxDF.loc[linha,coluna] == auxDF.loc[linha].min():\n",
    "                \n",
    "                Ranking = countMin\n",
    "                if(coluna,Ranking) not in listatuplas:\n",
    "                    listatuplas.append((coluna,Ranking))\n",
    "                    \n",
    "                dicionarioRankings[linha] = listatuplas\n",
    "                countMin = countMin - 1\n",
    "            else:\n",
    "                Ranking = countMin-1\n",
    "                if(coluna,Ranking) not in listatuplas:\n",
    "                    listatuplas.append((coluna,Ranking))\n",
    "                    \n",
    "                dicionarioRankings[linha] = listatuplas                \n",
    "                continue\n",
    "            \n",
    "            auxDF.drop(coluna,axis=1,inplace=True)\n",
    "    \n",
    "    print('Consultas e seus Rankings ',dicionarioRankings,'\\n')\n",
    "    \n",
    "    # diferença dos rankings\n",
    "    diferencaRankings = []\n",
    "    listaDicionariosRankings = []\n",
    "    for linha in matrixLinhas:\n",
    "        listaDicionariosRankings.append(dict(dicionarioRankings[linha]))\n",
    "    \n",
    "    print('Rankings por consulta(dict = consulta): ',listaDicionariosRankings,'\\n')\n",
    "    \n",
    "    # Rankings\n",
    "    Rankings = []\n",
    "    for elem in listaDicionariosRankings:\n",
    "        h = list(elem.values())\n",
    "        Rankings.append(h)\n",
    "    print('Rankings: ', Rankings,'\\n')\n",
    "    \n",
    "    # Diferença entre os Rankings\n",
    "    for nome in colunaNomes:\n",
    "        t = [d[nome] for d in listaDicionariosRankings if nome in d]\n",
    "        diferencaRankings.append(reduce(operator.sub, t))\n",
    "\n",
    "    print('Diferença entre os Rankings: ',diferencaRankings , '\\n')\n",
    "    \n",
    "    # Quadrado da diferença entre os Rankings\n",
    "    diferencaRankingsQuadrado = [i ** 2 for i in diferencaRankings]\n",
    "    print('Quadrado da diferença entre os Rankings: ',diferencaRankingsQuadrado,'\\n')\n",
    "    \n",
    "    # Somatorio dos quadrados da diferença\n",
    "    somatorio = sum(diferencaRankingsQuadrado)\n",
    "    print('Somatorio: ', somatorio , '\\n')\n",
    "    \n",
    "    n = len(diferencaRankingsQuadrado)\n",
    "    \n",
    "    # Coeficiente spearman\n",
    "    cs = 1 - ((6*somatorio) / (n * ((n**2) - 1)))  \n",
    "    print('Coeficiente de Spearman: ',cs)\n",
    "    \n",
    "    ###################################GRafico####################################################################\n",
    "    \n",
    "    x = Rankings[0]\n",
    "    y = Rankings[1]\n",
    "    plt.scatter(x,y, label= \"Pontos\", color= \"black\",s=50)\n",
    "    # naming the x axis \n",
    "    plt.xlabel('Ranking 1 | Consulta 1') \n",
    "    # naming the y axis \n",
    "    plt.ylabel('Ranking 2 | Consulta 2')\n",
    "    plt.title('Correlação de Spearman') \n",
    "    # showing legend \n",
    "    plt.legend() \n",
    "\n",
    "    axes = plt.gca()\n",
    "    m, b = np.polyfit(x, y, 1)\n",
    "    X_plot = np.linspace(axes.get_xlim()[0],axes.get_xlim()[1],100)\n",
    "    plt.plot(X_plot, m*X_plot + b, '-')\n",
    "    \n",
    "    \n",
    "    return plt.show()"
   ]
  },
  {
   "cell_type": "markdown",
   "metadata": {},
   "source": [
    "## Coeficiente da Correlação de Spearman \n",
    "* consulta -> <strong>Black Lotus of a Illusion</strong>\n",
    "* consulta -> <strong>Test a Illusion of a black dragon lord</strong>"
   ]
  },
  {
   "cell_type": "code",
   "execution_count": 14,
   "metadata": {},
   "outputs": [
    {
     "name": "stdout",
     "output_type": "stream",
     "text": [
      "Consultas e seus Rankings  {'Consulta 1': [('doc1', 1), ('doc4', 2), ('doc2', 3), ('doc3', 4), ('doc5', 5)], 'Consulta 2': [('doc1', 5), ('doc4', 1), ('doc2', 4), ('doc3', 2), ('doc5', 3)]} \n",
      "\n",
      "Rankings por consulta(dict = consulta):  [{'doc1': 1, 'doc4': 2, 'doc2': 3, 'doc3': 4, 'doc5': 5}, {'doc1': 5, 'doc4': 1, 'doc2': 4, 'doc3': 2, 'doc5': 3}] \n",
      "\n",
      "Rankings:  [[1, 2, 3, 4, 5], [5, 1, 4, 2, 3]] \n",
      "\n",
      "Diferença entre os Rankings:  [-4, 1, -1, 2, 2] \n",
      "\n",
      "Quadrado da diferença entre os Rankings:  [16, 1, 1, 4, 4] \n",
      "\n",
      "Somatorio:  26 \n",
      "\n",
      "Coeficiente de Spearman:  -0.30000000000000004\n"
     ]
    },
    {
     "data": {
      "image/png": "[encoded data removed]",
      "text/plain": [
       "<Figure size 432x288 with 1 Axes>"
      ]
     },
     "metadata": {
      "needs_background": "light"
     },
     "output_type": "display_data"
    }
   ],
   "source": [
    "listadeRespostasConsulta  = [RespostaConsulta(MatrixVetores(Docs,consulta)),\n",
    "                            RespostaConsulta(MatrixVetores(Docs,'Test a Illusion of a black dragon lord'))]\n",
    "Correlação_Spearman(listadeRespostasConsulta)"
   ]
  },
  {
   "cell_type": "markdown",
   "metadata": {},
   "source": [
    "# Testando Correlação de Spearman\n",
    "* consulta 1 = <strong>Black Lotus of a Illusion</strong>\n",
    "* consulta 2 = <strong>Test a Illusion of a black dragon lord</strong>\n",
    "* consulta 3 = <strong>lord dragon</strong>\n",
    "* consulta 4 = <strong>Red dragon</strong>\n",
    "* consulta 5 = <strong>Illusion of a black lord</strong>"
   ]
  },
  {
   "cell_type": "markdown",
   "metadata": {},
   "source": [
    "### consulta 1 e 2"
   ]
  },
  {
   "cell_type": "code",
   "execution_count": 15,
   "metadata": {},
   "outputs": [
    {
     "name": "stdout",
     "output_type": "stream",
     "text": [
      "Consultas e seus Rankings  {'Consulta 1': [('doc1', 1), ('doc4', 2), ('doc2', 3), ('doc3', 4), ('doc5', 5)], 'Consulta 2': [('doc1', 5), ('doc4', 1), ('doc2', 4), ('doc3', 2), ('doc5', 3)]} \n",
      "\n",
      "Rankings por consulta(dict = consulta):  [{'doc1': 1, 'doc4': 2, 'doc2': 3, 'doc3': 4, 'doc5': 5}, {'doc1': 5, 'doc4': 1, 'doc2': 4, 'doc3': 2, 'doc5': 3}] \n",
      "\n",
      "Rankings:  [[1, 2, 3, 4, 5], [5, 1, 4, 2, 3]] \n",
      "\n",
      "Diferença entre os Rankings:  [-4, 1, -1, 2, 2] \n",
      "\n",
      "Quadrado da diferença entre os Rankings:  [16, 1, 1, 4, 4] \n",
      "\n",
      "Somatorio:  26 \n",
      "\n",
      "Coeficiente de Spearman:  -0.30000000000000004\n"
     ]
    },
    {
     "data": {
      "image/png": "[encoded data removed]",
      "text/plain": [
       "<Figure size 432x288 with 1 Axes>"
      ]
     },
     "metadata": {
      "needs_background": "light"
     },
     "output_type": "display_data"
    }
   ],
   "source": [
    "listadeRespostasConsulta  = [RespostaConsulta(MatrixVetores(Docs,consulta)),\n",
    "                            RespostaConsulta(MatrixVetores(Docs,'Test a Illusion of a black dragon lord'))]\n",
    "Correlação_Spearman(listadeRespostasConsulta)"
   ]
  },
  {
   "cell_type": "markdown",
   "metadata": {},
   "source": [
    "### consulta 1 e 3"
   ]
  },
  {
   "cell_type": "code",
   "execution_count": 16,
   "metadata": {},
   "outputs": [
    {
     "name": "stdout",
     "output_type": "stream",
     "text": [
      "Consultas e seus Rankings  {'Consulta 1': [('doc1', 1), ('doc4', 2), ('doc2', 3), ('doc3', 4), ('doc5', 5)], 'Consulta 2': [('doc1', 5), ('doc4', 4), ('doc2', 3), ('doc3', 1), ('doc5', 2)]} \n",
      "\n",
      "Rankings por consulta(dict = consulta):  [{'doc1': 1, 'doc4': 2, 'doc2': 3, 'doc3': 4, 'doc5': 5}, {'doc1': 5, 'doc4': 4, 'doc2': 3, 'doc3': 1, 'doc5': 2}] \n",
      "\n",
      "Rankings:  [[1, 2, 3, 4, 5], [5, 4, 3, 1, 2]] \n",
      "\n",
      "Diferença entre os Rankings:  [-4, -2, 0, 3, 3] \n",
      "\n",
      "Quadrado da diferença entre os Rankings:  [16, 4, 0, 9, 9] \n",
      "\n",
      "Somatorio:  38 \n",
      "\n",
      "Coeficiente de Spearman:  -0.8999999999999999\n"
     ]
    },
    {
     "data": {
      "image/png": "[encoded data removed]",
      "text/plain": [
       "<Figure size 432x288 with 1 Axes>"
      ]
     },
     "metadata": {
      "needs_background": "light"
     },
     "output_type": "display_data"
    }
   ],
   "source": [
    "listadeRespostasConsulta  = [RespostaConsulta(MatrixVetores(Docs,consulta)),\n",
    "                            RespostaConsulta(MatrixVetores(Docs,'lord dragon'))]\n",
    "Correlação_Spearman(listadeRespostasConsulta)"
   ]
  },
  {
   "cell_type": "markdown",
   "metadata": {},
   "source": [
    "### consulta 1 e 4"
   ]
  },
  {
   "cell_type": "code",
   "execution_count": 17,
   "metadata": {},
   "outputs": [
    {
     "name": "stdout",
     "output_type": "stream",
     "text": [
      "Consultas e seus Rankings  {'Consulta 1': [('doc1', 1), ('doc4', 2), ('doc2', 3), ('doc3', 4), ('doc5', 5)], 'Consulta 2': [('doc1', 5), ('doc4', 4), ('doc2', 2), ('doc3', 1), ('doc5', 3)]} \n",
      "\n",
      "Rankings por consulta(dict = consulta):  [{'doc1': 1, 'doc4': 2, 'doc2': 3, 'doc3': 4, 'doc5': 5}, {'doc1': 5, 'doc4': 4, 'doc2': 2, 'doc3': 1, 'doc5': 3}] \n",
      "\n",
      "Rankings:  [[1, 2, 3, 4, 5], [5, 4, 2, 1, 3]] \n",
      "\n",
      "Diferença entre os Rankings:  [-4, -2, 1, 3, 2] \n",
      "\n",
      "Quadrado da diferença entre os Rankings:  [16, 4, 1, 9, 4] \n",
      "\n",
      "Somatorio:  34 \n",
      "\n",
      "Coeficiente de Spearman:  -0.7\n"
     ]
    },
    {
     "data": {
      "image/png": "[encoded data removed]",
      "text/plain": [
       "<Figure size 432x288 with 1 Axes>"
      ]
     },
     "metadata": {
      "needs_background": "light"
     },
     "output_type": "display_data"
    }
   ],
   "source": [
    "listadeRespostasConsulta  = [RespostaConsulta(MatrixVetores(Docs,consulta)),\n",
    "                            RespostaConsulta(MatrixVetores(Docs,'Red dragon'))]\n",
    "Correlação_Spearman(listadeRespostasConsulta)"
   ]
  },
  {
   "cell_type": "markdown",
   "metadata": {},
   "source": [
    "### consulta 1 e 5"
   ]
  },
  {
   "cell_type": "code",
   "execution_count": 18,
   "metadata": {},
   "outputs": [
    {
     "name": "stdout",
     "output_type": "stream",
     "text": [
      "Consultas e seus Rankings  {'Consulta 1': [('doc1', 1), ('doc4', 2), ('doc2', 3), ('doc3', 4), ('doc5', 5)], 'Consulta 2': [('doc1', 5), ('doc4', 1), ('doc2', 4), ('doc3', 3), ('doc5', 2)]} \n",
      "\n",
      "Rankings por consulta(dict = consulta):  [{'doc1': 1, 'doc4': 2, 'doc2': 3, 'doc3': 4, 'doc5': 5}, {'doc1': 5, 'doc4': 1, 'doc2': 4, 'doc3': 3, 'doc5': 2}] \n",
      "\n",
      "Rankings:  [[1, 2, 3, 4, 5], [5, 1, 4, 3, 2]] \n",
      "\n",
      "Diferença entre os Rankings:  [-4, 1, -1, 1, 3] \n",
      "\n",
      "Quadrado da diferença entre os Rankings:  [16, 1, 1, 1, 9] \n",
      "\n",
      "Somatorio:  28 \n",
      "\n",
      "Coeficiente de Spearman:  -0.3999999999999999\n"
     ]
    },
    {
     "data": {
      "image/png": "[encoded data removed]",
      "text/plain": [
       "<Figure size 432x288 with 1 Axes>"
      ]
     },
     "metadata": {
      "needs_background": "light"
     },
     "output_type": "display_data"
    }
   ],
   "source": [
    "listadeRespostasConsulta  = [RespostaConsulta(MatrixVetores(Docs,consulta)),\n",
    "                            RespostaConsulta(MatrixVetores(Docs,'Illusion of a black lord'))]\n",
    "Correlação_Spearman(listadeRespostasConsulta)"
   ]
  },
  {
   "cell_type": "code",
   "execution_count": null,
   "metadata": {},
   "outputs": [],
   "source": []
  }
 ],
 "metadata": {
  "kernelspec": {
   "display_name": "Python 3",
   "language": "python",
   "name": "python3"
  },
  "language_info": {
   "codemirror_mode": {
    "name": "ipython",
    "version": 3
   },
   "file_extension": ".py",
   "mimetype": "text/x-python",
   "name": "python",
   "nbconvert_exporter": "python",
   "pygments_lexer": "ipython3",
   "version": "3.7.3"
  }
 },
 "nbformat": 4,
 "nbformat_minor": 2
}
