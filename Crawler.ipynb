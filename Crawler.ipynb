{
 "cells": [
  {
   "cell_type": "markdown",
   "metadata": {},
   "source": [
    "### Bibliotecas"
   ]
  },
  {
   "cell_type": "code",
   "execution_count": 19,
   "metadata": {},
   "outputs": [],
   "source": [
    "import pandas as pd\n",
    "import numpy as np\n",
    "import scipy as scp\n",
    "from bs4 import BeautifulSoup\n",
    "import requests as rq\n",
    "import re"
   ]
  },
  {
   "cell_type": "markdown",
   "metadata": {},
   "source": [
    "### Crawler\n",
    "Testando crawler na busca de novels no site novelmania"
   ]
  },
  {
   "cell_type": "code",
   "execution_count": 47,
   "metadata": {},
   "outputs": [],
   "source": [
    "## max_pages numero maximo de paginas que queremos crawlear\n",
    "def novels_crawler(max_paginas):\n",
    "    pagina = 1\n",
    "    while pagina <= max_paginas:\n",
    "        # endereço do dominio\n",
    "        url = 'http://novelmania.com.br/page/' + str(pagina)\n",
    "        # codigo fonte da pagina\n",
    "        codigo_fonte = rq.get(url)\n",
    "        ## texto,links dentro do codigo_fonte\n",
    "        texto = codigo_fonte.text\n",
    "        soup = BeautifulSoup(texto,'html.parser')\n",
    "       \n",
    "        # Todos os links dos post do site\n",
    "        for post in soup.findAll('span',{'class':'posted-on'}):\n",
    "            for link in post.findAll('a',''):\n",
    "                href = link.get('href')\n",
    "                print(href)\n",
    "        \n",
    "        # Loop que me retorna todos os links do menu - pode ser usado para uma pesquisa direcionada\n",
    "        '''for lista in soup.findAll('ul',class_='sub-menu'):\n",
    "            for link in lista.findAll('a',''):\n",
    "                href = link.get('href')\n",
    "                print(href)'''\n",
    "        pagina += 1"
   ]
  },
  {
   "cell_type": "code",
   "execution_count": 50,
   "metadata": {},
   "outputs": [
    {
     "name": "stdout",
     "output_type": "stream",
     "text": [
      "http://novelmania.com.br/recrutamento-de-revisores/\n",
      "http://novelmania.com.br/ddu-capitulo-253/\n",
      "http://novelmania.com.br/ri-capitulo-1059/\n",
      "http://novelmania.com.br/dmwg-capitulo-445-447/\n",
      "http://novelmania.com.br/lms-volume-39-capitulo-3/\n",
      "http://novelmania.com.br/setes-volume-7-capitulo-1/\n",
      "http://novelmania.com.br/ter-capitulo-185-186/\n",
      "http://novelmania.com.br/arifureta-capitulo-146/\n",
      "http://novelmania.com.br/cc-capitulo-271-272/\n",
      "http://novelmania.com.br/vm-capitulo-164-%f0%9f%87%a7%f0%9f%87%b7/\n",
      "http://novelmania.com.br/srvf-volume-8-capitulo-5/\n"
     ]
    }
   ],
   "source": [
    "linksUmaPagina = novels_crawler(1)\n",
    "linksUmaPagina"
   ]
  },
  {
   "cell_type": "code",
   "execution_count": 51,
   "metadata": {},
   "outputs": [
    {
     "name": "stdout",
     "output_type": "stream",
     "text": [
      "http://novelmania.com.br/recrutamento-de-revisores/\n",
      "http://novelmania.com.br/ddu-capitulo-253/\n",
      "http://novelmania.com.br/ri-capitulo-1059/\n",
      "http://novelmania.com.br/dmwg-capitulo-445-447/\n",
      "http://novelmania.com.br/lms-volume-39-capitulo-3/\n",
      "http://novelmania.com.br/setes-volume-7-capitulo-1/\n",
      "http://novelmania.com.br/ter-capitulo-185-186/\n",
      "http://novelmania.com.br/arifureta-capitulo-146/\n",
      "http://novelmania.com.br/cc-capitulo-271-272/\n",
      "http://novelmania.com.br/vm-capitulo-164-%f0%9f%87%a7%f0%9f%87%b7/\n",
      "http://novelmania.com.br/srvf-volume-8-capitulo-5/\n",
      "http://novelmania.com.br/ri-capitulo-1057-1058/\n",
      "http://novelmania.com.br/ri-combo-de-aniversario/\n",
      "http://novelmania.com.br/ri-capitulo-1046/\n",
      "http://novelmania.com.br/ri-mini-combo-dos-atrasados/\n",
      "http://novelmania.com.br/setes-volume-7-prologo/\n",
      "http://novelmania.com.br/ddu-capitulo-252/\n",
      "http://novelmania.com.br/dmwg-combo-capitulo-439-444/\n",
      "http://novelmania.com.br/vm-capitulo-163-%f0%9f%87%a7%f0%9f%87%b7/\n",
      "http://novelmania.com.br/lms-volume-39-capitulo-2/\n",
      "http://novelmania.com.br/vm-capitulo-162-%f0%9f%87%a7%f0%9f%87%b7/\n"
     ]
    }
   ],
   "source": [
    "linksDuasPagina = novels_crawler(2)\n",
    "linksDuasPagina"
   ]
  },
  {
   "cell_type": "code",
   "execution_count": null,
   "metadata": {},
   "outputs": [],
   "source": []
  }
 ],
 "metadata": {
  "kernelspec": {
   "display_name": "Python 3",
   "language": "python",
   "name": "python3"
  },
  "language_info": {
   "codemirror_mode": {
    "name": "ipython",
    "version": 3
   },
   "file_extension": ".py",
   "mimetype": "text/x-python",
   "name": "python",
   "nbconvert_exporter": "python",
   "pygments_lexer": "ipython3",
   "version": "3.6.5"
  }
 },
 "nbformat": 4,
 "nbformat_minor": 2
}
