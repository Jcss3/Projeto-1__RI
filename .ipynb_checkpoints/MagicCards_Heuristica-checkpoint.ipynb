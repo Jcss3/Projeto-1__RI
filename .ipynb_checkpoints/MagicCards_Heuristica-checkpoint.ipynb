{
 "cells": [
  {
   "cell_type": "markdown",
   "metadata": {},
   "source": [
    "## Bibliotecas"
   ]
  },
  {
   "cell_type": "code",
   "execution_count": 1,
   "metadata": {},
   "outputs": [],
   "source": [
    "import pandas as pd\n",
    "import numpy as np\n",
    "import scipy as scp\n",
    "from bs4 import BeautifulSoup\n",
    "import requests as rq\n",
    "import re\n",
    "from requests.exceptions import HTTPError\n",
    "import urllib\n",
    "import urllib.request\n",
    "from selenium import webdriver\n",
    "from reppy.robots import Robots\n",
    "from urllib.parse import urlparse\n",
    "import time\n",
    "import operator"
   ]
  },
  {
   "cell_type": "markdown",
   "metadata": {},
   "source": [
    "## Crawler"
   ]
  },
  {
   "cell_type": "code",
   "execution_count": 2,
   "metadata": {},
   "outputs": [],
   "source": [
    "Dominio = ['https://www.capefeargames.com/','https://www.mtgotraders.com/',\n",
    "           'https://www.wizardscupboard.com/','https://abugames.com/',\n",
    "           'https://www.cardkingdom.com/','http://www.starcitygames.com/',\n",
    "           'https://www.tcgplayer.com/','https://scryfall.com/']\n",
    "Dados = []\n",
    "TempoDominio = []"
   ]
  },
  {
   "cell_type": "code",
   "execution_count": 12,
   "metadata": {},
   "outputs": [],
   "source": [
    "# Função para marcar a page como visitada.\n",
    "def Visitou (url,paginasVisitadas):\n",
    "    if url not in paginasVisitadas:\n",
    "        return False\n",
    "    else:\n",
    "        return True"
   ]
  },
  {
   "cell_type": "code",
   "execution_count": 46,
   "metadata": {},
   "outputs": [],
   "source": [
    "#Função para verificar se a requisição sofreu algum problema.\n",
    "def verificarRequest(url):\n",
    "    try:\n",
    "        response = rq.head(url) \n",
    "        if response.status_code == rq.codes.ok:\n",
    "            return True\n",
    "        else:\n",
    "            return False\n",
    "    except:\n",
    "        return False"
   ]
  },
  {
   "cell_type": "code",
   "execution_count": 47,
   "metadata": {},
   "outputs": [],
   "source": [
    "def CrawlerDinâmico(url):\n",
    "    #C:\\\\Users\\\\Usuário\\\\Downloads\\\\chromedriver76\\\\chromedriver.exe \n",
    "    driver = webdriver.Chrome(\"C:\\\\Users\\\\Usuário\\\\Downloads\\\\chromedriver76\\\\chromedriver.exe\")\n",
    "    driver.get(url)\n",
    "    res = driver.execute_script(\"return document.documentElement.outerHTML\")\n",
    "    driver.quit\n",
    "    return res"
   ]
  },
  {
   "cell_type": "code",
   "execution_count": 48,
   "metadata": {},
   "outputs": [],
   "source": [
    "def verificarRobotTxt(url):\n",
    "    robots = Robots.fetch(url + '/robots.txt')\n",
    "    return robots.allowed(url, '*')"
   ]
  },
  {
   "cell_type": "code",
   "execution_count": 49,
   "metadata": {},
   "outputs": [],
   "source": [
    "# Criar uma Tabela com as informações sobre links.\n",
    "def Tabela(count,url,site):\n",
    "    Dados.append(dict(zip(['Número','Link','Site'],[count,url,site])))"
   ]
  },
  {
   "cell_type": "markdown",
   "metadata": {},
   "source": [
    "## Padrões"
   ]
  },
  {
   "cell_type": "code",
   "execution_count": 50,
   "metadata": {},
   "outputs": [
    {
     "name": "stdout",
     "output_type": "stream",
     "text": [
      "<re.Match object; span=(0, 97), match='https://www.capefeargames.com/catalog/magic_singl>\n",
      "<re.Match object; span=(0, 58), match='https://www.mtgotraders.com/store/M15_Accursed_Sp>\n",
      "<re.Match object; span=(0, 64), match='https://www.wizardscupboard.com/academy-researche>\n",
      "<re.Match object; span=(0, 94), match='https://abugames.com/magic-the-gathering/singles/>\n",
      "<re.Match object; span=(0, 70), match='https://www.cardkingdom.com/mtg/war-of-the-spark/>\n",
      "<re.Match object; span=(0, 78), match='http://www.starcitygames.com/catalog/magic_the_ga>\n",
      "<re.Match object; span=(0, 109), match='https://shop.tcgplayer.com/magic/core-set-2020/va>\n",
      "<re.Match object; span=(0, 55), match='https://scryfall.com/card/soi/262/shard-of-broken>\n",
      "Sucesso!\n",
      "Falhou!\n"
     ]
    }
   ],
   "source": [
    "# Padroes links de Cartas\n",
    "\n",
    "# cardpage = magic_singles texto / texto / numeros | cardlist = magic_singles texto / numeros\n",
    "sentenca ='https://www.capefeargames.com/catalog/magic_singles-throne_of_eldraine/oko_thief_of_crowns/606112'\n",
    "CapeFearGamesMagicCard = re.compile(r'(.)*(magic_singles)(.)+(\\d)$') # score = 5 \n",
    "matches = CapeFearGamesMagicCard.finditer(sentenca)\n",
    "for match in matches:\n",
    "    print(match)\n",
    "\n",
    "#cardpage = store/ nomeDoSet_NomeCard | cardlist = store/ nome do set\n",
    "sentenca2 = 'https://www.mtgotraders.com/store/M15_Accursed_Spirit.html'\n",
    "MtGoTradersMagicCard = re.compile(r'(.)*(store)(.)+')\n",
    "matches2 = MtGoTradersMagicCard.finditer(sentenca2)\n",
    "for match in matches2:\n",
    "    print(match)\n",
    "\n",
    "\n",
    "# cardpage termina sempre com => p-385809.html | lista de cards -c-1100_1238.html\n",
    "sentenca3 = 'https://www.wizardscupboard.com/academy-researchers-p-21746.html'    \n",
    "WizardCupBoardMagicCard = re.compile(r'(.)*(\\d)*(\\.html)$')\n",
    "matches3 = WizardCupBoardMagicCard.finditer(sentenca3)\n",
    "for match in matches3:\n",
    "    print(match)\n",
    "\n",
    "# pageCard = magic_gathering / singles / product-detail / nome da carta / coresetEdição\n",
    "sentenca4 = 'https://abugames.com/magic-the-gathering/singles/product-detail/Abundance/10th-Edition/English' \n",
    "AbuGamesMagicCard = re.compile(r'(.)*(magic-the-gathering)(.)+(singles)(.)(product-detail)(.)*(\\w)$')\n",
    "matches4 = AbuGamesMagicCard.finditer(sentenca4)\n",
    "for match in matches4:\n",
    "    print(match)\n",
    "\n",
    "# cardpage = mtg/ nomeSet / nomeCard\n",
    "sentenca5 = 'https://www.cardkingdom.com/mtg/war-of-the-spark/zombie-army-token-008'\n",
    "CardKingdomMagicCard = re.compile(r'(.)*(mtg)(.)*(\\w)$')\n",
    "matches5 = CardKingdomMagicCard.finditer(sentenca5)\n",
    "for match in matches5:\n",
    "    print(match)\n",
    "\n",
    "# catalog/magic_the_gathering/product/numeros/numeros\n",
    "sentenca6 = 'http://www.starcitygames.com/catalog/magic_the_gathering/product/404636/410829'\n",
    "StarCityMagicCard = re.compile(r'(.)*(magic_the_gathering).(product)(.)*(\\d)$')\n",
    "matches6 = StarCityMagicCard.finditer(sentenca6)\n",
    "for match in matches6:\n",
    "    print(match)\n",
    "\n",
    "# cardPage = magic/core_Set/Nome da carta\n",
    "sentenca7 = 'https://shop.tcgplayer.com/magic/core-set-2020/vampire-of-the-dire-moon?xid=pda7dbc375c11488d89c90a7adb114b70'\n",
    "TcgPlayerMagicCard = re.compile(r'(.)*(magic)(.)*(\\w)$')\n",
    "matches7 =TcgPlayerMagicCard.finditer(sentenca7)\n",
    "for match in matches7:\n",
    "    print(match)\n",
    "\n",
    "# cardPage = card/texto / numero/ nomeCard\n",
    "sentenca8 = 'https://scryfall.com/card/soi/262/shard-of-broken-glass' \n",
    "ScryfallMagicCard = re.compile(r'(.)*(card)(.)*(\\d)(.)*$')\n",
    "matches8 =ScryfallMagicCard.finditer(sentenca8)\n",
    "for match in matches8:\n",
    "    print(match)\n",
    "\n",
    "padroesLinks = [CapeFearGamesMagicCard,CardKingdomMagicCard,\n",
    "                TcgPlayerMagicCard,AbuGamesMagicCard,\n",
    "                ScryfallMagicCard,StarCityMagicCard,\n",
    "               WizardCupBoardMagicCard,MtGoTradersMagicCard]\n",
    "\n",
    "\n",
    "if CardKingdomMagicCard.fullmatch(sentenca5):\n",
    "    print('Sucesso!')\n",
    "else:\n",
    "    print('Falhou!')\n",
    "\n",
    "\n",
    "if ScryfallMagicCard.fullmatch(sentenca3):\n",
    "    print('Sucesso!')\n",
    "else:\n",
    "    print('Falhou!')"
   ]
  },
  {
   "cell_type": "code",
   "execution_count": 51,
   "metadata": {},
   "outputs": [],
   "source": [
    "def Score(url):\n",
    "    score = 0\n",
    "    for padrao in padroesLinks:\n",
    "        if padrao.fullmatch(url):\n",
    "            score = score + 5\n",
    "        else:\n",
    "            score = score + 0\n",
    "    return score"
   ]
  },
  {
   "cell_type": "markdown",
   "metadata": {},
   "source": [
    "## * Heurística"
   ]
  },
  {
   "cell_type": "code",
   "execution_count": null,
   "metadata": {},
   "outputs": [],
   "source": [
    "def CardsCrawler(url,score):\n",
    "    print('Dominio: ' + url.geturl())\n",
    "    count = 0\n",
    "    paginas = [(url,score)]\n",
    "    # Ordenar pelo Score\n",
    "    #paginas.sort(key=operator.itemgetter(1),reverse=True)\n",
    "    \n",
    "    paginasVisitadas = []\n",
    "    robots = Robots.fetch(url.geturl() + '/robots.txt')\n",
    "    while count < 1000 and len(paginas) > 0:\n",
    "        primeiraPagina = paginas.pop(0)\n",
    "        # Verifica se a pagina foi visitada.Se foi, procuro o proximo link da lista que não foi visitado.\n",
    "        # Verifico se o hostname de cada pagina é igual ao do dominio, se não, rocuro o proximo link da lista (navegar apenas dentro do site)\n",
    "        # Verifico se hostname existe , se não , procuro o proximo link que tenha.\n",
    "        # Verifico se é possivel crawlear a pagina de acordo com as regras do robot.txt , se não , procuro o proximo link.\n",
    "        # Verifico se a respota da requisição funciona\n",
    "        while Visitou(primeiraPagina[0].geturl(),paginasVisitadas) == True or primeiraPagina[0].hostname != url.hostname or primeiraPagina[0].hostname == None or robots.allowed(primeiraPagina[0].geturl(), '*') == False or verificarRequest(primeiraPagina[0].geturl()) == False:\n",
    "            if len(paginas) == 0:\n",
    "                print('lascou@!')\n",
    "                return\n",
    "            primeiraPagina = paginas.pop(0)\n",
    "    \n",
    "        # Verficar se o site é dinamico.\n",
    "        if (Dominio[3] in url.geturl()) or (Dominio[6] in url.geturl()):\n",
    "            texto = CrawlerDinâmico(primeiraPagina[0].geturl())\n",
    "        else:\n",
    "            #request - usando o content type\n",
    "            codigo_fonte = rq.get(primeiraPagina[0].geturl(),headers={'content-type': 'text/html'})\n",
    "            # texto do codigo_fonte.\n",
    "            texto = codigo_fonte.text\n",
    "        soup = BeautifulSoup(texto,'html.parser')\n",
    "\n",
    "        # Encontrar todos os links da pagina(url).\n",
    "        for link in soup.findAll(re.compile(r'(li)')):\n",
    "            href = link.get('href')\n",
    "            # Correção de href relativos para absolutos.\n",
    "            href = urllib.parse.urljoin(url.geturl(),href)                      \n",
    "\n",
    "            paginas.append((urlparse(href),Score(href)))\n",
    "            \n",
    "        # Marco como visitada a urlparse    \n",
    "        paginasVisitadas.append(primeiraPagina[0].geturl())\n",
    "        \n",
    "        #esperar 500 milisegundos para visitar o prox link.\n",
    "        time.sleep(.5)\n",
    "        \n",
    "        count = count + 1\n",
    "        print(count,'-',primeiraPagina[0].geturl(),' Qtd Paginas=', len(paginas))\n",
    "        \n",
    "        # Salvar a page localmente\n",
    "        with open(\"Paginas/PaginasHeuristica/\"+str(url.hostname)+str(count)+\".html\", 'w' , encoding='utf-8') as outfile:\n",
    "            outfile.write(texto)\n",
    "        \n",
    "        Tabela(count,primeiraPagina[0].geturl(),url.hostname)"
   ]
  },
  {
   "cell_type": "code",
   "execution_count": null,
   "metadata": {},
   "outputs": [],
   "source": [
    "CardsCrawler(urlparse(Dominio[0]),0)"
   ]
  },
  {
   "cell_type": "code",
   "execution_count": null,
   "metadata": {},
   "outputs": [],
   "source": [
    "\n",
    "for url in Dominio:\n",
    "    inicio = time.time()\n",
    "    CardsCrawler(urlparse(url),0)\n",
    "    fim = time.time()\n",
    "    tempo =  fim - inicio\n",
    "    TempoDominio.append(dict(zip(['Dominio','Tempo'],[url,tempo])))"
   ]
  },
  {
   "cell_type": "code",
   "execution_count": null,
   "metadata": {},
   "outputs": [],
   "source": []
  }
 ],
 "metadata": {
  "kernelspec": {
   "display_name": "Python 3",
   "language": "python",
   "name": "python3"
  },
  "language_info": {
   "codemirror_mode": {
    "name": "ipython",
    "version": 3
   },
   "file_extension": ".py",
   "mimetype": "text/x-python",
   "name": "python",
   "nbconvert_exporter": "python",
   "pygments_lexer": "ipython3",
   "version": "3.7.3"
  }
 },
 "nbformat": 4,
 "nbformat_minor": 2
}
