{
 "cells": [
  {
   "cell_type": "markdown",
   "metadata": {},
   "source": [
    "### Bibliotecas"
   ]
  },
  {
   "cell_type": "code",
   "execution_count": 1,
   "metadata": {},
   "outputs": [],
   "source": [
    "import pandas as pd\n",
    "import numpy as np\n",
    "import scipy as scp\n",
    "from bs4 import BeautifulSoup\n",
    "import requests as rq\n",
    "import re"
   ]
  },
  {
   "cell_type": "markdown",
   "metadata": {},
   "source": [
    "### Crawler\n",
    "Testando crawler na busca de novels no site novelmania"
   ]
  },
  {
   "cell_type": "code",
   "execution_count": 2,
   "metadata": {},
   "outputs": [],
   "source": [
    "## max_pages numero maximo de paginas que queremos crawlear\n",
    "def novels_crawler(max_paginas):\n",
    "    pagina = 1\n",
    "    while pagina <= max_paginas:\n",
    "        # endereço do dominio\n",
    "        url = 'http://novelmania.com.br/page/' + str(pagina)\n",
    "        # codigo fonte da pagina\n",
    "        codigo_fonte = rq.get(url)\n",
    "        ## texto,links dentro do codigo_fonte\n",
    "        texto = codigo_fonte.text\n",
    "        soup = BeautifulSoup(texto,'html.parser')\n",
    "       \n",
    "        # Todos os links dos post do site\n",
    "        for post in soup.findAll('span',{'class':'posted-on'}):\n",
    "            for link in post.findAll('a',''):\n",
    "                href = link.get('href')\n",
    "                dataPost = link.text\n",
    "                print('Data: '+ dataPost)\n",
    "                print(href)\n",
    "\n",
    "        # Loop que me retorna todos os links do menu - pode ser usado para uma pesquisa direcionada\n",
    "        '''for lista in soup.findAll('ul',class_='sub-menu'):\n",
    "            for link in lista.findAll('a',''):\n",
    "                href = link.get('href')\n",
    "                print(href)'''\n",
    "        pagina += 1"
   ]
  },
  {
   "cell_type": "code",
   "execution_count": 3,
   "metadata": {},
   "outputs": [
    {
     "name": "stdout",
     "output_type": "stream",
     "text": [
      "Data: 11/08/201911/08/2019\n",
      "http://novelmania.com.br/recrutamento-de-revisores/\n",
      "Data: 26/08/2019\n",
      "http://novelmania.com.br/ddu-capitulo-253/\n",
      "Data: 26/08/2019\n",
      "http://novelmania.com.br/ri-capitulo-1059/\n",
      "Data: 25/08/2019\n",
      "http://novelmania.com.br/dmwg-capitulo-445-447/\n",
      "Data: 25/08/2019\n",
      "http://novelmania.com.br/lms-volume-39-capitulo-3/\n",
      "Data: 25/08/201925/08/2019\n",
      "http://novelmania.com.br/setes-volume-7-capitulo-1/\n",
      "Data: 25/08/201922/08/2019\n",
      "http://novelmania.com.br/ter-capitulo-185-186/\n",
      "Data: 25/08/201921/08/2019\n",
      "http://novelmania.com.br/arifureta-capitulo-146/\n",
      "Data: 25/08/201924/08/2019\n",
      "http://novelmania.com.br/cc-capitulo-271-272/\n",
      "Data: 24/08/2019\n",
      "http://novelmania.com.br/vm-capitulo-164-%f0%9f%87%a7%f0%9f%87%b7/\n",
      "Data: 24/08/2019\n",
      "http://novelmania.com.br/srvf-volume-8-capitulo-5/\n"
     ]
    }
   ],
   "source": [
    "linksUmaPagina = novels_crawler(1)\n",
    "linksUmaPagina"
   ]
  },
  {
   "cell_type": "code",
   "execution_count": 4,
   "metadata": {},
   "outputs": [
    {
     "name": "stdout",
     "output_type": "stream",
     "text": [
      "Data: 11/08/201911/08/2019\n",
      "http://novelmania.com.br/recrutamento-de-revisores/\n",
      "Data: 26/08/2019\n",
      "http://novelmania.com.br/ddu-capitulo-253/\n",
      "Data: 26/08/2019\n",
      "http://novelmania.com.br/ri-capitulo-1059/\n",
      "Data: 25/08/2019\n",
      "http://novelmania.com.br/dmwg-capitulo-445-447/\n",
      "Data: 25/08/2019\n",
      "http://novelmania.com.br/lms-volume-39-capitulo-3/\n",
      "Data: 25/08/201925/08/2019\n",
      "http://novelmania.com.br/setes-volume-7-capitulo-1/\n",
      "Data: 25/08/201922/08/2019\n",
      "http://novelmania.com.br/ter-capitulo-185-186/\n",
      "Data: 25/08/201921/08/2019\n",
      "http://novelmania.com.br/arifureta-capitulo-146/\n",
      "Data: 25/08/201924/08/2019\n",
      "http://novelmania.com.br/cc-capitulo-271-272/\n",
      "Data: 24/08/2019\n",
      "http://novelmania.com.br/vm-capitulo-164-%f0%9f%87%a7%f0%9f%87%b7/\n",
      "Data: 24/08/2019\n",
      "http://novelmania.com.br/srvf-volume-8-capitulo-5/\n",
      "Data: 23/08/2019\n",
      "http://novelmania.com.br/ri-capitulo-1057-1058/\n",
      "Data: 21/08/2019\n",
      "http://novelmania.com.br/ri-combo-de-aniversario/\n",
      "Data: 20/08/2019\n",
      "http://novelmania.com.br/ri-capitulo-1046/\n",
      "Data: 19/08/2019\n",
      "http://novelmania.com.br/ri-mini-combo-dos-atrasados/\n",
      "Data: 18/08/201918/08/2019\n",
      "http://novelmania.com.br/setes-volume-7-prologo/\n",
      "Data: 18/08/2019\n",
      "http://novelmania.com.br/ddu-capitulo-252/\n",
      "Data: 18/08/2019\n",
      "http://novelmania.com.br/dmwg-combo-capitulo-439-444/\n",
      "Data: 18/08/201917/08/2019\n",
      "http://novelmania.com.br/vm-capitulo-163-%f0%9f%87%a7%f0%9f%87%b7/\n",
      "Data: 18/08/2019\n",
      "http://novelmania.com.br/lms-volume-39-capitulo-2/\n",
      "Data: 18/08/201917/08/2019\n",
      "http://novelmania.com.br/vm-capitulo-162-%f0%9f%87%a7%f0%9f%87%b7/\n"
     ]
    }
   ],
   "source": [
    "linksDuasPagina = novels_crawler(2)\n",
    "linksDuasPagina"
   ]
  },
  {
   "cell_type": "code",
   "execution_count": 5,
   "metadata": {},
   "outputs": [
    {
     "name": "stdout",
     "output_type": "stream",
     "text": [
      "Data: 11/08/201911/08/2019\n",
      "http://novelmania.com.br/recrutamento-de-revisores/\n",
      "Data: 26/08/2019\n",
      "http://novelmania.com.br/ddu-capitulo-253/\n",
      "Data: 26/08/2019\n",
      "http://novelmania.com.br/ri-capitulo-1059/\n",
      "Data: 25/08/2019\n",
      "http://novelmania.com.br/dmwg-capitulo-445-447/\n",
      "Data: 25/08/2019\n",
      "http://novelmania.com.br/lms-volume-39-capitulo-3/\n",
      "Data: 25/08/201925/08/2019\n",
      "http://novelmania.com.br/setes-volume-7-capitulo-1/\n",
      "Data: 25/08/201922/08/2019\n",
      "http://novelmania.com.br/ter-capitulo-185-186/\n",
      "Data: 25/08/201921/08/2019\n",
      "http://novelmania.com.br/arifureta-capitulo-146/\n",
      "Data: 25/08/201924/08/2019\n",
      "http://novelmania.com.br/cc-capitulo-271-272/\n",
      "Data: 24/08/2019\n",
      "http://novelmania.com.br/vm-capitulo-164-%f0%9f%87%a7%f0%9f%87%b7/\n",
      "Data: 24/08/2019\n",
      "http://novelmania.com.br/srvf-volume-8-capitulo-5/\n",
      "Data: 23/08/2019\n",
      "http://novelmania.com.br/ri-capitulo-1057-1058/\n",
      "Data: 21/08/2019\n",
      "http://novelmania.com.br/ri-combo-de-aniversario/\n",
      "Data: 20/08/2019\n",
      "http://novelmania.com.br/ri-capitulo-1046/\n",
      "Data: 19/08/2019\n",
      "http://novelmania.com.br/ri-mini-combo-dos-atrasados/\n",
      "Data: 18/08/201918/08/2019\n",
      "http://novelmania.com.br/setes-volume-7-prologo/\n",
      "Data: 18/08/2019\n",
      "http://novelmania.com.br/ddu-capitulo-252/\n",
      "Data: 18/08/2019\n",
      "http://novelmania.com.br/dmwg-combo-capitulo-439-444/\n",
      "Data: 18/08/201917/08/2019\n",
      "http://novelmania.com.br/vm-capitulo-163-%f0%9f%87%a7%f0%9f%87%b7/\n",
      "Data: 18/08/2019\n",
      "http://novelmania.com.br/lms-volume-39-capitulo-2/\n",
      "Data: 18/08/201917/08/2019\n",
      "http://novelmania.com.br/vm-capitulo-162-%f0%9f%87%a7%f0%9f%87%b7/\n",
      "Data: 18/08/201916/08/2019\n",
      "http://novelmania.com.br/ter-capitulo-183-184/\n",
      "Data: 18/08/201915/08/2019\n",
      "http://novelmania.com.br/arifureta-capitulo-145/\n",
      "Data: 18/08/201917/08/2019\n",
      "http://novelmania.com.br/cc-capitulo-269-270/\n",
      "Data: 17/08/2019\n",
      "http://novelmania.com.br/vm-capitulo-161-%f0%9f%87%a7%f0%9f%87%b7/\n",
      "Data: 17/08/2019\n",
      "http://novelmania.com.br/srvf-volume-8-capitulo-4/\n",
      "Data: 15/08/2019\n",
      "http://novelmania.com.br/dmwg-capitulo-436-438/\n",
      "Data: 13/08/2019\n",
      "http://novelmania.com.br/ri-capitulo-1038-1039/\n",
      "Data: 12/08/2019\n",
      "http://novelmania.com.br/ddu-capitulo-251/\n",
      "Data: 11/08/2019\n",
      "http://novelmania.com.br/setes-volume-6-epilogo-extra/\n",
      "Data: 11/08/2019\n",
      "http://novelmania.com.br/vm-capitulo-160-%f0%9f%87%a7%f0%9f%87%b7/\n"
     ]
    }
   ],
   "source": [
    "linksTresPagina = novels_crawler(3)\n",
    "linksTresPagina"
   ]
  },
  {
   "cell_type": "code",
   "execution_count": null,
   "metadata": {},
   "outputs": [],
   "source": []
  }
 ],
 "metadata": {
  "kernelspec": {
   "display_name": "Python 3",
   "language": "python",
   "name": "python3"
  },
  "language_info": {
   "codemirror_mode": {
    "name": "ipython",
    "version": 3
   },
   "file_extension": ".py",
   "mimetype": "text/x-python",
   "name": "python",
   "nbconvert_exporter": "python",
   "pygments_lexer": "ipython3",
   "version": "3.6.5"
  }
 },
 "nbformat": 4,
 "nbformat_minor": 2
}
