{
 "cells": [
  {
   "cell_type": "code",
   "execution_count": 343,
   "metadata": {
    "scrolled": true
   },
   "outputs": [],
   "source": [
    "import nltk\n",
    "import requests\n",
    "import time\n",
    "from glob import glob\n",
    "import re\n",
    "import os\n",
    "import pandas as pd\n",
    "import numpy as np\n",
    "import matplotlib.pyplot as plt\n",
    "from sklearn.feature_extraction.text import CountVectorizer\n",
    "from sklearn.feature_extraction.text import TfidfTransformer\n",
    "from sklearn.naive_bayes import MultinomialNB\n",
    "from sklearn.pipeline import Pipeline\n",
    "from sklearn import metrics\n",
    "from sklearn.model_selection import train_test_split\n",
    "from sklearn.model_selection import cross_val_score\n",
    "from sklearn.model_selection import GridSearchCV\n",
    "from sklearn.linear_model import SGDClassifier\n",
    "from sklearn import tree\n",
    "from sklearn.neural_network import MLPClassifier\n",
    "from sklearn.linear_model import LogisticRegression\n",
    "from sklearn.svm import SVC\n",
    "from sklearn.metrics import make_scorer\n",
    "from sklearn.metrics import accuracy_score\n",
    "\n",
    "%matplotlib inline\n",
    "\n",
    "from bs4 import BeautifulSoup\n",
    "from nltk.corpus import stopwords"
   ]
  },
  {
   "cell_type": "code",
   "execution_count": 7,
   "metadata": {},
   "outputs": [
    {
     "name": "stderr",
     "output_type": "stream",
     "text": [
      "[nltk_data] Downloading package stopwords to\n",
      "[nltk_data]     /Users/luizreis/nltk_data...\n",
      "[nltk_data]   Package stopwords is already up-to-date!\n"
     ]
    },
    {
     "data": {
      "text/plain": [
       "True"
      ]
     },
     "execution_count": 7,
     "metadata": {},
     "output_type": "execute_result"
    }
   ],
   "source": [
    "nltk.download('stopwords')"
   ]
  },
  {
   "cell_type": "markdown",
   "metadata": {},
   "source": [
    "## Downloading Data"
   ]
  },
  {
   "cell_type": "code",
   "execution_count": 274,
   "metadata": {
    "scrolled": true
   },
   "outputs": [],
   "source": [
    "csv = pd.read_csv(\"./conjunto-treinamento-classificador.csv\")"
   ]
  },
  {
   "cell_type": "markdown",
   "metadata": {},
   "source": [
    "## Feature Extraction"
   ]
  },
  {
   "cell_type": "code",
   "execution_count": 275,
   "metadata": {},
   "outputs": [],
   "source": [
    "def encode_url_to_file(url): \n",
    "    return re.sub(\"\\/\", \"-\", url)\n",
    "def get_html_text(url): \n",
    "    page = requests.get(url)\n",
    "    with open(\"./train-set/\" + encode_url_to_file(url) + \".html\", 'w' , encoding='utf-8') as outfile:\n",
    "        outfile.write(page.text)\n",
    "    soup = BeautifulSoup(page.content)\n",
    "    return soup.get_text()\n",
    "\n",
    "def get_text_from_link(link): \n",
    "    html = open(link, \"r\")\n",
    "    soup = BeautifulSoup(html)\n",
    "    return soup.get_text()"
   ]
  },
  {
   "cell_type": "code",
   "execution_count": 276,
   "metadata": {},
   "outputs": [],
   "source": [
    "en_stopwords = set(stopwords.words(\"english\"))\n",
    "\n",
    "def extract_features(text):     \n",
    "    data = re.sub(\"[^$0-9a-zA-Z]\", \" \", text).lower()\n",
    "    words = data.split() \n",
    "    return [w for w in words]#if not w in en_stopwords]"
   ]
  },
  {
   "cell_type": "code",
   "execution_count": 278,
   "metadata": {},
   "outputs": [],
   "source": [
    "bag = csv[\"urls\"].apply(get_html_text)"
   ]
  },
  {
   "cell_type": "code",
   "execution_count": null,
   "metadata": {},
   "outputs": [],
   "source": [
    "links = sorted(glob('./train-set/*.html'), key=os.path.getmtime)\n",
    "bag = [get_text_from_link(url) for url in links]"
   ]
  },
  {
   "cell_type": "code",
   "execution_count": 279,
   "metadata": {
    "scrolled": false
   },
   "outputs": [],
   "source": [
    "bag = [' '.join(extract_features(b)) for b in bag]"
   ]
  },
  {
   "cell_type": "markdown",
   "metadata": {},
   "source": [
    "## Preprocessing"
   ]
  },
  {
   "cell_type": "markdown",
   "metadata": {},
   "source": [
    "## Pipeline"
   ]
  },
  {
   "cell_type": "code",
   "execution_count": 355,
   "metadata": {},
   "outputs": [],
   "source": [
    "def train(clf, data, target):\n",
    "    pipe_clf = Pipeline([\n",
    "        ('vect', CountVectorizer(analyzer = \"word\",\n",
    "                                 tokenizer = None,    \n",
    "                                 preprocessor = None,\n",
    "                                 stop_words = None)),\n",
    "        ('tfidf', TfidfTransformer()),\n",
    "        ('clf', clf),\n",
    "    ])\n",
    "    parameters = {\n",
    "        'vect__ngram_range': [(1, 1), (1, 2)],\n",
    "        'vect__max_features': [500, 1000, 5000],\n",
    "        'tfidf__use_idf': (True, False),\n",
    "        #'clf__alpha': (1e-2, 1e-3),\n",
    "    }\n",
    "    \n",
    "    scoring = {'AUC': 'roc_auc', 'Accuracy': make_scorer(accuracy_score)}\n",
    "    gs_clf = GridSearchCV(pipe_clf, parameters, cv=10, iid=False, n_jobs=-1)\n",
    "    fit = gs_clf.fit(data, target)\n",
    "    return fit\n",
    "    "
   ]
  },
  {
   "cell_type": "code",
   "execution_count": 356,
   "metadata": {},
   "outputs": [],
   "source": [
    "clfs = [SVC(), MultinomialNB(), SGDClassifier(), LogisticRegression(), tree.DecisionTreeClassifier(),\n",
    "        MLPClassifier(max_iter = 100)]"
   ]
  },
  {
   "cell_type": "code",
   "execution_count": 360,
   "metadata": {
    "scrolled": true
   },
   "outputs": [],
   "source": [
    "import time\n",
    "def metrics(clf):\n",
    "    inicio = time.time()\n",
    "    clf = train(clf, bag, csv[\"target\"].tolist())\n",
    "    fim = time.time()\n",
    "    total_time = fim - inicio\n",
    "    \n",
    "    return {'total_time': total_time, 'score': clf.best_score_}"
   ]
  },
  {
   "cell_type": "code",
   "execution_count": 361,
   "metadata": {},
   "outputs": [
    {
     "name": "stderr",
     "output_type": "stream",
     "text": [
      "/Users/luizreis/anaconda3/lib/python3.7/site-packages/sklearn/svm/base.py:193: FutureWarning: The default value of gamma will change from 'auto' to 'scale' in version 0.22 to account better for unscaled features. Set gamma explicitly to 'auto' or 'scale' to avoid this warning.\n",
      "  \"avoid this warning.\", FutureWarning)\n"
     ]
    },
    {
     "name": "stdout",
     "output_type": "stream",
     "text": [
      "{'total_time': 18.841808080673218, 'score': 0.75}\n",
      "{'total_time': 17.8500018119812, 'score': 0.7428571428571428}\n",
      "{'total_time': 17.605117797851562, 'score': 0.7714285714285715}\n"
     ]
    },
    {
     "name": "stderr",
     "output_type": "stream",
     "text": [
      "/Users/luizreis/anaconda3/lib/python3.7/site-packages/sklearn/linear_model/logistic.py:432: FutureWarning: Default solver will be changed to 'lbfgs' in 0.22. Specify a solver to silence this warning.\n",
      "  FutureWarning)\n"
     ]
    },
    {
     "name": "stdout",
     "output_type": "stream",
     "text": [
      "{'total_time': 18.45519208908081, 'score': 0.7785714285714286}\n",
      "{'total_time': 22.698601007461548, 'score': 0.7714285714285715}\n",
      "{'total_time': 198.4458749294281, 'score': 0.8142857142857143}\n"
     ]
    },
    {
     "name": "stderr",
     "output_type": "stream",
     "text": [
      "/Users/luizreis/anaconda3/lib/python3.7/site-packages/sklearn/neural_network/multilayer_perceptron.py:566: ConvergenceWarning: Stochastic Optimizer: Maximum iterations (100) reached and the optimization hasn't converged yet.\n",
      "  % self.max_iter, ConvergenceWarning)\n"
     ]
    }
   ],
   "source": [
    "for clf in clfs:\n",
    "    print(metrics(clf))"
   ]
  },
  {
   "cell_type": "markdown",
   "metadata": {},
   "source": [
    "## Test with Baseline"
   ]
  },
  {
   "cell_type": "code",
   "execution_count": 287,
   "metadata": {},
   "outputs": [
    {
     "name": "stdout",
     "output_type": "stream",
     "text": [
      "{'mean_fit_time': array([0.30427692, 0.71721034, 0.32515771, 0.85170457, 0.37788184,\n",
      "       0.9419024 , 0.30712836, 0.82965112, 0.36275465, 0.77472875,\n",
      "       0.32078393, 1.00573723]), 'std_fit_time': array([0.01812821, 0.0374786 , 0.02662867, 0.12338611, 0.06040145,\n",
      "       0.13529152, 0.01985099, 0.09328169, 0.08114682, 0.03887426,\n",
      "       0.03941748, 0.30012678]), 'mean_score_time': array([0.06023498, 0.12078373, 0.06855712, 0.14945488, 0.08552215,\n",
      "       0.14219847, 0.07266779, 0.13606987, 0.06990435, 0.13034248,\n",
      "       0.06929793, 0.158882  ]), 'std_score_time': array([0.02917191, 0.06339383, 0.03133872, 0.0671659 , 0.05027318,\n",
      "       0.07148588, 0.04350101, 0.06668991, 0.03742425, 0.06927677,\n",
      "       0.03275784, 0.07929271]), 'param_tfidf__use_idf': masked_array(data=[True, True, True, True, True, True, False, False,\n",
      "                   False, False, False, False],\n",
      "             mask=[False, False, False, False, False, False, False, False,\n",
      "                   False, False, False, False],\n",
      "       fill_value='?',\n",
      "            dtype=object), 'param_vect__max_features': masked_array(data=[500, 500, 1000, 1000, 5000, 5000, 500, 500, 1000, 1000,\n",
      "                   5000, 5000],\n",
      "             mask=[False, False, False, False, False, False, False, False,\n",
      "                   False, False, False, False],\n",
      "       fill_value='?',\n",
      "            dtype=object), 'param_vect__ngram_range': masked_array(data=[(1, 1), (1, 2), (1, 1), (1, 2), (1, 1), (1, 2), (1, 1),\n",
      "                   (1, 2), (1, 1), (1, 2), (1, 1), (1, 2)],\n",
      "             mask=[False, False, False, False, False, False, False, False,\n",
      "                   False, False, False, False],\n",
      "       fill_value='?',\n",
      "            dtype=object), 'params': [{'tfidf__use_idf': True, 'vect__max_features': 500, 'vect__ngram_range': (1, 1)}, {'tfidf__use_idf': True, 'vect__max_features': 500, 'vect__ngram_range': (1, 2)}, {'tfidf__use_idf': True, 'vect__max_features': 1000, 'vect__ngram_range': (1, 1)}, {'tfidf__use_idf': True, 'vect__max_features': 1000, 'vect__ngram_range': (1, 2)}, {'tfidf__use_idf': True, 'vect__max_features': 5000, 'vect__ngram_range': (1, 1)}, {'tfidf__use_idf': True, 'vect__max_features': 5000, 'vect__ngram_range': (1, 2)}, {'tfidf__use_idf': False, 'vect__max_features': 500, 'vect__ngram_range': (1, 1)}, {'tfidf__use_idf': False, 'vect__max_features': 500, 'vect__ngram_range': (1, 2)}, {'tfidf__use_idf': False, 'vect__max_features': 1000, 'vect__ngram_range': (1, 1)}, {'tfidf__use_idf': False, 'vect__max_features': 1000, 'vect__ngram_range': (1, 2)}, {'tfidf__use_idf': False, 'vect__max_features': 5000, 'vect__ngram_range': (1, 1)}, {'tfidf__use_idf': False, 'vect__max_features': 5000, 'vect__ngram_range': (1, 2)}], 'split0_test_AUC': array([0.83673469, 0.85714286, 0.91836735, 0.91836735, 0.93877551,\n",
      "       0.87755102, 0.87755102, 0.85714286, 0.87755102, 0.85714286,\n",
      "       0.91836735, 0.89795918]), 'split1_test_AUC': array([0.89795918, 0.87755102, 0.89795918, 1.        , 1.        ,\n",
      "       1.        , 0.91836735, 0.91836735, 0.87755102, 0.85714286,\n",
      "       0.85714286, 0.89795918]), 'split2_test_AUC': array([1., 1., 1., 1., 1., 1., 1., 1., 1., 1., 1., 1.]), 'split3_test_AUC': array([0.97959184, 0.91836735, 1.        , 0.97959184, 0.97959184,\n",
      "       1.        , 0.97959184, 0.97959184, 0.97959184, 0.97959184,\n",
      "       0.97959184, 0.97959184]), 'split4_test_AUC': array([0.93877551, 0.95918367, 1.        , 0.97959184, 1.        ,\n",
      "       1.        , 1.        , 0.85714286, 0.85714286, 0.87755102,\n",
      "       0.97959184, 0.93877551]), 'split5_test_AUC': array([0.91836735, 0.95918367, 1.        , 0.93877551, 0.91836735,\n",
      "       1.        , 0.95918367, 0.95918367, 0.97959184, 0.95918367,\n",
      "       0.97959184, 0.97959184]), 'split6_test_AUC': array([0.85714286, 0.81632653, 0.85714286, 0.83673469, 0.85714286,\n",
      "       0.85714286, 0.85714286, 0.83673469, 0.7755102 , 0.85714286,\n",
      "       0.85714286, 0.85714286]), 'split7_test_AUC': array([0.95918367, 0.97959184, 0.91836735, 1.        , 0.97959184,\n",
      "       0.97959184, 0.97959184, 0.97959184, 0.95918367, 1.        ,\n",
      "       0.97959184, 0.93877551]), 'split8_test_AUC': array([0.84693878, 0.84693878, 0.66326531, 0.90816327, 0.64285714,\n",
      "       0.90816327, 0.84693878, 0.84693878, 0.76530612, 0.78571429,\n",
      "       0.84693878, 0.66326531]), 'split9_test_AUC': array([0.5, 0.5, 0.5, 0.5, 0.5, 0.5, 0.5, 0.5, 0.5, 0.5, 0.5, 0.5]), 'mean_test_AUC': array([0.87346939, 0.87142857, 0.8755102 , 0.90612245, 0.88163265,\n",
      "       0.9122449 , 0.89183673, 0.87346939, 0.85714286, 0.86734694,\n",
      "       0.88979592, 0.86530612]), 'std_test_AUC': array([0.13538782, 0.13699336, 0.15892181, 0.14429307, 0.16404152,\n",
      "       0.14739159, 0.14177432, 0.13782689, 0.14293001, 0.14080154,\n",
      "       0.14181838, 0.15216062]), 'rank_test_AUC': array([ 7,  9,  6,  2,  5,  1,  3,  7, 12, 10,  4, 11], dtype=int32), 'split0_train_AUC': array([0.84882842, 0.94860166, 0.98488284, 0.90274628, 0.97480474,\n",
      "       0.90073066, 0.97001764, 0.95439657, 0.95893172, 0.94457042,\n",
      "       0.9473419 , 0.97152935]), 'split1_train_AUC': array([0.97480474, 0.95993953, 0.8755354 , 0.88838498, 0.94708995,\n",
      "       0.97732426, 0.97707231, 0.97001764, 0.97404888, 0.95918367,\n",
      "       0.87654321, 0.87150416]), 'split2_train_AUC': array([0.88107836, 0.97480474, 0.88914084, 0.85739481, 0.94759385,\n",
      "       0.96598639, 0.93046107, 0.93650794, 0.9138322 , 0.8898967 ,\n",
      "       0.93650794, 0.87226002]), 'split3_train_AUC': array([0.84479718, 0.83270345, 0.85991434, 0.87981859, 0.93550013,\n",
      "       0.94935752, 0.94457042, 0.92113883, 0.96976568, 0.95011338,\n",
      "       0.91358025, 0.94205089]), 'split4_train_AUC': array([0.88863694, 0.86369363, 0.94356261, 0.9239103 , 0.95061728,\n",
      "       0.95716805, 0.96397077, 0.91887125, 0.87276392, 0.89216427,\n",
      "       0.96523054, 0.96523054]), 'split5_train_AUC': array([0.8760393 , 0.94482237, 0.93726379, 0.93272865, 0.91635173,\n",
      "       0.94381456, 0.94960947, 0.92013102, 0.9473419 , 0.9334845 ,\n",
      "       0.98740237, 0.94129504]), 'split6_train_AUC': array([0.96472663, 0.83572688, 0.94205089, 0.97077349, 0.8664651 ,\n",
      "       0.95968758, 0.95414462, 0.90778534, 0.8664651 , 0.95515243,\n",
      "       0.92038297, 0.98488284]), 'split7_train_AUC': array([0.96220711, 0.95187705, 0.93675989, 0.92038297, 0.88158226,\n",
      "       0.84933233, 0.97631645, 0.95061728, 0.94482237, 0.96472663,\n",
      "       0.96573444, 0.93625598]), 'split8_train_AUC': array([0.92731167, 0.92202066, 0.93335853, 0.97694633, 0.96712018,\n",
      "       0.95603427, 0.97971781, 0.97291509, 0.9446964 , 0.95578231,\n",
      "       0.95124717, 0.94721592]), 'split9_train_AUC': array([0.97745024, 0.9351222 , 0.94721592, 0.99382716, 0.99080373,\n",
      "       0.99206349, 0.97719829, 0.96837994, 0.95578231, 0.94444444,\n",
      "       0.98400101, 0.9829932 ]), 'mean_train_AUC': array([0.91458806, 0.91693122, 0.92496851, 0.92469136, 0.93779289,\n",
      "       0.94514991, 0.96230789, 0.94207609, 0.93484505, 0.93895188,\n",
      "       0.94479718, 0.94152179]), 'std_train_AUC': array([0.04999851, 0.05008065, 0.03611388, 0.04249683, 0.03754909,\n",
      "       0.03913828, 0.01599371, 0.02305145, 0.0361927 , 0.02535958,\n",
      "       0.03248689, 0.03850034]), 'split0_test_Accuracy': array([0.5       , 0.64285714, 0.57142857, 0.5       , 0.57142857,\n",
      "       0.5       , 0.5       , 0.57142857, 0.57142857, 0.5       ,\n",
      "       0.5       , 0.5       ]), 'split1_test_Accuracy': array([0.78571429, 0.78571429, 0.78571429, 0.78571429, 0.85714286,\n",
      "       0.85714286, 0.78571429, 0.78571429, 0.85714286, 0.78571429,\n",
      "       0.78571429, 0.78571429]), 'split2_test_Accuracy': array([1.        , 1.        , 1.        , 1.        , 1.        ,\n",
      "       1.        , 1.        , 1.        , 1.        , 1.        ,\n",
      "       0.85714286, 1.        ]), 'split3_test_Accuracy': array([0.85714286, 0.64285714, 0.78571429, 0.78571429, 0.85714286,\n",
      "       0.85714286, 0.92857143, 0.78571429, 0.78571429, 0.92857143,\n",
      "       0.78571429, 0.92857143]), 'split4_test_Accuracy': array([0.78571429, 0.85714286, 0.85714286, 0.64285714, 1.        ,\n",
      "       0.85714286, 0.92857143, 0.71428571, 0.71428571, 0.78571429,\n",
      "       0.92857143, 0.85714286]), 'split5_test_Accuracy': array([0.85714286, 0.78571429, 0.71428571, 0.92857143, 0.85714286,\n",
      "       0.85714286, 0.85714286, 0.5       , 0.92857143, 0.85714286,\n",
      "       0.85714286, 0.85714286]), 'split6_test_Accuracy': array([0.71428571, 0.64285714, 0.64285714, 0.57142857, 0.5       ,\n",
      "       0.85714286, 0.64285714, 0.71428571, 0.78571429, 0.5       ,\n",
      "       0.78571429, 0.64285714]), 'split7_test_Accuracy': array([0.85714286, 0.85714286, 0.78571429, 0.92857143, 0.85714286,\n",
      "       0.92857143, 0.85714286, 0.85714286, 0.78571429, 0.85714286,\n",
      "       0.92857143, 0.92857143]), 'split8_test_Accuracy': array([0.78571429, 0.78571429, 0.64285714, 0.78571429, 0.64285714,\n",
      "       0.78571429, 0.71428571, 0.78571429, 0.64285714, 0.64285714,\n",
      "       0.71428571, 0.64285714]), 'split9_test_Accuracy': array([0.5, 0.5, 0.5, 0.5, 0.5, 0.5, 0.5, 0.5, 0.5, 0.5, 0.5, 0.5]), 'mean_test_Accuracy': array([0.76428571, 0.75      , 0.72857143, 0.74285714, 0.76428571,\n",
      "       0.8       , 0.77142857, 0.72142857, 0.75714286, 0.73571429,\n",
      "       0.76428571, 0.76428571]), 'std_test_Accuracy': array([0.15      , 0.13646409, 0.13850514, 0.17261494, 0.18364229,\n",
      "       0.15907898, 0.16842609, 0.15135443, 0.14708043, 0.17799908,\n",
      "       0.14655918, 0.17217101]), 'rank_test_Accuracy': array([ 3,  8, 11,  9,  3,  1,  2, 12,  7, 10,  3,  3], dtype=int32), 'split0_train_Accuracy': array([0.88888889, 0.88888889, 0.8968254 , 0.88095238, 0.8968254 ,\n",
      "       0.88888889, 0.88888889, 0.88095238, 0.87301587, 0.86507937,\n",
      "       0.8968254 , 0.8968254 ]), 'split1_train_Accuracy': array([0.87301587, 0.87301587, 0.87301587, 0.87301587, 0.8968254 ,\n",
      "       0.86507937, 0.87301587, 0.87301587, 0.88095238, 0.78571429,\n",
      "       0.84920635, 0.86507937]), 'split2_train_Accuracy': array([0.84126984, 0.84920635, 0.84920635, 0.83333333, 0.84126984,\n",
      "       0.88095238, 0.84920635, 0.78571429, 0.84920635, 0.84126984,\n",
      "       0.83333333, 0.84920635]), 'split3_train_Accuracy': array([0.84126984, 0.81746032, 0.84126984, 0.76190476, 0.83333333,\n",
      "       0.84920635, 0.81746032, 0.85714286, 0.85714286, 0.84126984,\n",
      "       0.84126984, 0.85714286]), 'split4_train_Accuracy': array([0.84920635, 0.85714286, 0.83333333, 0.77777778, 0.85714286,\n",
      "       0.86507937, 0.84920635, 0.84126984, 0.83333333, 0.76984127,\n",
      "       0.84920635, 0.84920635]), 'split5_train_Accuracy': array([0.8015873 , 0.83333333, 0.84126984, 0.84920635, 0.85714286,\n",
      "       0.83333333, 0.86507937, 0.79365079, 0.84126984, 0.84126984,\n",
      "       0.85714286, 0.83333333]), 'split6_train_Accuracy': array([0.85714286, 0.83333333, 0.91269841, 0.87301587, 0.85714286,\n",
      "       0.85714286, 0.85714286, 0.87301587, 0.85714286, 0.85714286,\n",
      "       0.85714286, 0.84920635]), 'split7_train_Accuracy': array([0.83333333, 0.84126984, 0.84920635, 0.81746032, 0.84920635,\n",
      "       0.84920635, 0.8968254 , 0.83333333, 0.78571429, 0.84920635,\n",
      "       0.83333333, 0.82539683]), 'split8_train_Accuracy': array([0.84920635, 0.83333333, 0.91269841, 0.87301587, 0.93650794,\n",
      "       0.84920635, 0.88095238, 0.86507937, 0.87301587, 0.8015873 ,\n",
      "       0.87301587, 0.87301587]), 'split9_train_Accuracy': array([0.88095238, 0.83333333, 0.83333333, 0.91269841, 0.9047619 ,\n",
      "       0.96825397, 0.9047619 , 0.9047619 , 0.87301587, 0.88888889,\n",
      "       0.88888889, 0.9047619 ]), 'mean_train_Accuracy': array([0.8515873 , 0.84603175, 0.86428571, 0.8452381 , 0.87301587,\n",
      "       0.87063492, 0.86825397, 0.85079365, 0.85238095, 0.83412698,\n",
      "       0.85793651, 0.86031746]), 'std_train_Accuracy': array([0.0240857 , 0.02045095, 0.03041868, 0.04534935, 0.03174603,\n",
      "       0.03603035, 0.02489585, 0.03598662, 0.02660802, 0.035217  ,\n",
      "       0.02083239, 0.0241249 ])}\n"
     ]
    }
   ],
   "source": [
    "best_clf = train(SGDClassifier(), bag, csv[\"target\"].tolist())"
   ]
  },
  {
   "cell_type": "code",
   "execution_count": 310,
   "metadata": {},
   "outputs": [],
   "source": [
    "links = glob('./Paginas/PaginasBaseline/*')\n",
    "baseline_data = [get_text_from_link(link) for link in links[:10]]"
   ]
  },
  {
   "cell_type": "code",
   "execution_count": 312,
   "metadata": {},
   "outputs": [
    {
     "data": {
      "text/plain": [
       "'./Paginas/PaginasBaseline/www.wizardscupboard.com441.html'"
      ]
     },
     "execution_count": 312,
     "metadata": {},
     "output_type": "execute_result"
    }
   ],
   "source": [
    "baseline_data[0][0]"
   ]
  },
  {
   "cell_type": "code",
   "execution_count": 289,
   "metadata": {},
   "outputs": [],
   "source": [
    "data = [' '.join(extract_features(data)) for data in baseline_data]"
   ]
  },
  {
   "cell_type": "code",
   "execution_count": 291,
   "metadata": {},
   "outputs": [],
   "source": [
    "result = best_clf.predict(data)"
   ]
  },
  {
   "cell_type": "code",
   "execution_count": 301,
   "metadata": {},
   "outputs": [
    {
     "data": {
      "text/html": [
       "<div>\n",
       "<style scoped>\n",
       "    .dataframe tbody tr th:only-of-type {\n",
       "        vertical-align: middle;\n",
       "    }\n",
       "\n",
       "    .dataframe tbody tr th {\n",
       "        vertical-align: top;\n",
       "    }\n",
       "\n",
       "    .dataframe thead th {\n",
       "        text-align: right;\n",
       "    }\n",
       "</style>\n",
       "<table border=\"1\" class=\"dataframe\">\n",
       "  <thead>\n",
       "    <tr style=\"text-align: right;\">\n",
       "      <th></th>\n",
       "      <th>Ratio</th>\n",
       "      <th>Relevantes</th>\n",
       "      <th>Total de Paginas</th>\n",
       "    </tr>\n",
       "  </thead>\n",
       "  <tbody>\n",
       "    <tr>\n",
       "      <th>0</th>\n",
       "      <td>0.341582</td>\n",
       "      <td>2733</td>\n",
       "      <td>8001</td>\n",
       "    </tr>\n",
       "  </tbody>\n",
       "</table>\n",
       "</div>"
      ],
      "text/plain": [
       "      Ratio  Relevantes  Total de Paginas\n",
       "0  0.341582        2733              8001"
      ]
     },
     "execution_count": 301,
     "metadata": {},
     "output_type": "execute_result"
    }
   ],
   "source": [
    "relevants = [r for r in result if r == 1]\n",
    "df = []\n",
    "df.append(dict(zip(['Total de Paginas', 'Relevantes', 'Ratio'], [len(result), len(relevants), len(relevants) / len(result)])))\n",
    "pd.DataFrame(df)"
   ]
  },
  {
   "cell_type": "code",
   "execution_count": 335,
   "metadata": {},
   "outputs": [],
   "source": [
    "def extract_from_any_link(link, soup):\n",
    "    try:\n",
    "        if 'capefeargames' in link:\n",
    "            return extract_capefeargames(soup)\n",
    "        if 'cardkingdom' in link:\n",
    "            return extract_cardkingdom (soup)\n",
    "        if 'mtgotraders' in link:\n",
    "            return extract_mtgotraders(soup)\n",
    "        if 'starcitygames' in link:\n",
    "            return extract_starcitygames(soup)\n",
    "        if 'wizardscupboard' in link:\n",
    "            return extract_wizardscupboard(soup)\n",
    "        if 'abugames' in link:\n",
    "            return extractor_abugames(soup)\n",
    "        if 'scryfall' in link:\n",
    "            return extract_scryfall(soup)\n",
    "        if 'mtgmintcards' in link:\n",
    "            return extract_mtgmintcards(soup)\n",
    "    except:\n",
    "        return None\n",
    "    return None"
   ]
  },
  {
   "cell_type": "code",
   "execution_count": 336,
   "metadata": {},
   "outputs": [
    {
     "name": "stdout",
     "output_type": "stream",
     "text": [
      "None\n",
      "{'name': 'Bake into a Pie *Foil*', 'desc': '', 'price': '$0.02', 'infos': {'Set:\\xa0': 'Throne of Eldraine', 'Mana Cost:': '2BlackBlack', 'Card Type:': 'Instant', 'Description:': 'Destroy target creature. Create a Food token. (It\\'s an artifact with \"2, Tap, Sacrifice this artifact: You gain 3 life.\")'}}\n",
      "None\n",
      "None\n",
      "None\n",
      "None\n",
      "None\n",
      "None\n",
      "{'name': \"Player's Choice Sleeves 60\", 'price': '$5.00', 'infos': {}}\n",
      "None\n",
      "None\n",
      "None\n",
      "None\n",
      "None\n",
      "{'name': 'Modern Horizons: Wrenn and Six', 'desc': '[+1]: Return up to one target land card from your graveyard to your hand.\\n[-1]: Wrenn and Six deals 1 damage to any target.\\n[-7]: You get an emblem with \"Instant and sorcery cards in your graveyard have retrace.\"\\n|3| \\n Pro Tip!\\n\\nWrenn and Six aren\\'t just making an impact on Modern - they see play in Legacy, too. Try Wrenn and Six in your Life from the Loam deck, or use it to recur your creature-lands in Jund.', 'price': '$99.99', 'infos': {'Edition': 'Modern Horizons', 'Type': 'Legendary Planeswalker - Wrenn', 'Cast': 'rg', 'Rarity': 'M'}}\n",
      "None\n",
      "{'name': 'Air Elemental', 'desc': '', 'price': '$0.01', 'infos': {'Set:\\xa0': 'Core Set 2020', 'Mana Cost:': '3BlueBlue', 'Card Type:': 'Creature - Elemental', 'Description:': 'Flying', 'Qty:': '28'}}\n",
      "None\n",
      "None\n",
      "{'name': 'Bioessence Hydra', 'desc': '', 'price': '$0.01', 'infos': {'Set:\\xa0': 'War of the Spark', 'Mana Cost:': '3GreenBlue', 'Card Type:': 'Creature - Hydra Mutant', 'Description:': 'TrampleBioessence Hydra enters the battlefield with a +1/+1 counter on it for each loyalty counter on planeswalkers you control.Whenever one or more loyalty counters are put on planeswalkers you control, put that many +1/+1 counters on Bioessence Hydra.', 'Qty:': '31'}}\n",
      "None\n",
      "None\n",
      "None\n",
      "None\n",
      "{'name': 'Guilds of Ravnica: Emmara, Soul of the Accord', 'desc': \"Whenever Emmara, Soul of the Accord becomes tapped, create a 1/1 white Soldier creature token with lifelink. \\n Pro Tip!\\n\\nAs leader of the Selesnya Conclave, Emmara has a host of soldier tokens at her disposal. Don't be afraid to convoke some spells with Emmara - you'll still have a blocker to fend off any attacks.\", 'price': '$0.25', 'infos': {'Edition': 'Guilds of Ravnica', 'Type': 'Legendary Creature - Elf Cleric', 'Cast': 'gw', 'Rarity': 'R', 'Pow/Tuf': '2/2'}}\n",
      "None\n",
      "{'name': 'Bone Splinters', 'desc': '', 'price': '$0.01', 'infos': {'Set:\\xa0': 'Core Set 2020', 'Mana Cost:': 'Black', 'Card Type:': 'Sorcery', 'Description:': 'As an additional cost to cast this spell, sacrifice a creature.Destroy target creature.', 'Qty:': '27'}}\n",
      "None\n",
      "None\n",
      "{'name': 'Bedevil', 'desc': '', 'price': '$0.13', 'infos': {'Set:\\xa0': 'Ravnica Allegiance', 'Mana Cost:': 'BlackBlackRed', 'Card Type:': 'Instant', 'Description:': 'Destroy target artifact, creature, or planeswalker.', 'Qty:': '24'}}\n",
      "{'name': 'Call to the Grave - Magic 2012 Magic the Gathering Single', 'price': '$0.90', 'infos': {'color': ' Black', 'rarity': ' Rare', 'card type': ' Enchantment', 'artists': ' Daarken'}}\n",
      "None\n",
      "None\n",
      "None\n",
      "None\n",
      "None\n",
      "None\n",
      "None\n",
      "None\n",
      "{'name': 'Core Set 2020: Veil of Summer', 'desc': \"Draw a card if an opponent has cast a blue or black spell this turn. Spells you control can't be countered this turn. You and permanents you control gain hexproof from blue and from black until end of turn. (You and they can't be the targets of blue or black spells or abilities your opponents control.)\", 'price': '$5.49', 'infos': {'Edition': 'Core Set 2020', 'Type': 'Instant', 'Cast': 'g', 'Rarity': 'U'}}\n",
      "None\n",
      "{'name': 'Ravnica Pro Tour 05- Complete Set', 'price': '$1.95', 'infos': {}}\n",
      "None\n",
      "None\n",
      "None\n",
      "None\n",
      "None\n",
      "{'name': 'Angel of Vitality *Foil*', 'desc': '', 'price': '$0.02', 'infos': {'Set:\\xa0': 'Core Set 2020', 'Mana Cost:': '2White', 'Card Type:': 'Creature - Angel', 'Description:': 'FlyingIf you would gain life, you gain that much life plus 1 instead.Angel of Vitality gets +2/+2 as long as you have 25 or more life.', 'Qty:': '2'}}\n",
      "{'name': '2014 Commander Decks for Magic the Gathering', 'price': '$60.00', 'infos': {}}\n",
      "None\n",
      "None\n",
      "None\n",
      "None\n",
      "None\n",
      "None\n",
      "None\n",
      "{'name': 'Dragon Dice TSR Pouch', 'price': '$0.50', 'infos': {}}\n",
      "None\n",
      "None\n",
      "{'name': \"Biomancer's Familiar\", 'desc': '', 'price': '$0.02', 'infos': {'Set:\\xa0': 'Ravnica Allegiance', 'Mana Cost:': 'GreenBlue', 'Card Type:': 'Creature - Mutant', 'Description:': \"Activated abilities of creatures you control cost 2 less to activate. This effect can't reduce the amount of mana an ability costs to activate to less than one mana.Tap: The next time target creature adapts this turn, it adapts as though it had no +1/+1 counters on it.\", 'Qty:': '22'}}\n",
      "None\n",
      "None\n",
      "{'name': 'Shadows Over Innistrad Checklist Card 2', 'price': '$0.15', 'infos': {}}\n",
      "None\n",
      "{'name': 'Cursecatcher - Shadowmoor Magic the Gathering Single', 'price': '$11.35', 'infos': {'color': ' Blue', 'rarity': ' Uncommon', 'card type': ' Creature - Merfolk Wizard', 'artists': ' Warren Mahy'}}\n",
      "None\n",
      "None\n",
      "None\n",
      "None\n",
      "{'name': 'The Dark Complete Set for Magic the Gathering', 'price': '$550.00', 'infos': {}}\n",
      "None\n",
      "None\n",
      "None\n",
      "{'name': 'Anvilwrought Raptor *Foil*', 'desc': '', 'price': '$0.01', 'infos': {'Set:\\xa0': 'Core Set 2020', 'Mana Cost:': '4', 'Card Type:': 'Artifact Creature - Bird', 'Description:': 'FlyingFirst strike (This creature deals combat damage before creatures without first strike.)', 'Qty:': '3'}}\n",
      "None\n",
      "None\n",
      "{'name': 'KMC Sleeves', 'price': '$7.75', 'infos': {}}\n",
      "None\n",
      "None\n",
      "None\n",
      "None\n",
      "{'name': 'Blacklance Paragon *Foil*', 'desc': '', 'price': '$0.15', 'infos': {'Set:\\xa0': 'Throne of Eldraine', 'Mana Cost:': '1Black', 'Card Type:': 'Creature - Human Knight', 'Description:': 'FlashWhen Blacklance Paragon enters the battlefield, target Knight gains deathtouch and lifelink until end of turn.'}}\n",
      "None\n",
      "{'name': 'Chulane, Teller of Tales (Brawl Deck) (Foil) - Throne of Eldraine', 'price': '$0.00', 'infos': {'color': ' Multicolor', 'rarity': ' Mythic Rare', 'card type': ' Legendary Creature', 'artists': ' '}}\n",
      "None\n",
      "{'name': 'Bake into a Pie', 'desc': '', 'price': '$0.01', 'infos': {'Set:\\xa0': 'Throne of Eldraine', 'Mana Cost:': '2BlackBlack', 'Card Type:': 'Instant', 'Description:': 'Destroy target creature. Create a Food token. (It\\'s an artifact with \"2, Tap, Sacrifice this artifact: You gain 3 life.\")', 'Qty:': '12'}}\n",
      "None\n",
      "{'name': 'Act of Treason', 'desc': '', 'price': '$0.01', 'infos': {'Set:\\xa0': 'Core Set 2020', 'Mana Cost:': '2Red', 'Card Type:': 'Sorcery', 'Description:': 'Gain control of target creature until end of turn. Untap that creature. It gains haste until end of turn. (It can attack and Tap this turn.)', 'Qty:': '30'}}\n",
      "None\n",
      "{'name': 'Modern Masters 2015: Mox Opal', 'desc': 'Metalcraft - : Add one mana of any color to your mana pool. Activate this ability only if you control three or more artifacts.', 'price': '$149.99', 'infos': {'Edition': 'Modern Masters 2015', 'Type': 'Legendary Artifact', 'Cast': '0', 'Rarity': 'M'}}\n",
      "None\n",
      "None\n",
      "None\n",
      "None\n",
      "None\n",
      "{'name': 'Bleeding Edge', 'desc': '', 'price': '$0.01', 'infos': {'Set:\\xa0': 'War of the Spark', 'Mana Cost:': '1BlackBlack', 'Card Type:': 'Sorcery', 'Description:': \"Up to one target creature gets -2/-2 until end of turn. Amass 2. (Put two +1/+1 counters on an Army you control. If you don't control one, create a 0/0 black Zombie Army creature token first.)\", 'Qty:': '38'}}\n",
      "None\n",
      "{'name': \"3rd Edition: Aladdin's Ring\", 'desc': \", : Aladdin's Ring deals 4 damage to any target.\", 'price': '$0.29', 'infos': {'Edition': '3rd Edition', 'Type': 'Artifact', 'Cast': '8', 'Rarity': 'R'}}\n",
      "{'Titulo': 'Sift Through Sands\\n            {1}{U}{U}', 'Set': 'Duel Decks: Mind vs. Might (DDS)', 'Categoria': 'English', 'Raridade': ['Common'], 'Descrição': 'Draw two cards, then discard a card.\\nIf you’ve cast a spell named Peer Through Depths and a spell named Reach Through Mists this turn, you may search your library for a card named The Unspeakable, put it onto the battlefield, then shuffle your library.'}\n",
      "{'name': 'Bloodsoaked Altar', 'desc': '', 'price': '$0.02', 'infos': {'Set:\\xa0': 'Core Set 2020', 'Mana Cost:': '4BlackBlack', 'Card Type:': 'Artifact', 'Description:': 'Tap, Pay 2 life, Discard a card, Sacrifice a creature: Create a 5/5 black Demon creature token with flying. Activate this ability only any time you could cast a sorcery.', 'Qty:': '23'}}\n"
     ]
    },
    {
     "name": "stdout",
     "output_type": "stream",
     "text": [
      "None\n",
      "None\n",
      "None\n",
      "None\n",
      "{'name': 'Aether Revolt Booster Pack', 'price': '$4.25', 'infos': {}}\n",
      "None\n",
      "None\n",
      "{'name': 'Amplifire *Foil*', 'desc': '', 'price': '$0.34', 'infos': {'Set:\\xa0': 'Ravnica Allegiance', 'Mana Cost:': '2RedRed', 'Card Type:': 'Creature - Elemental', 'Description:': \"At the beginning of your upkeep, reveal cards from the top of your library until you reveal a creature card. Until your next turn, Amplifire's base power becomes twice that card's power and its base toughness becomes twice that card's toughness. Put the revealed cards on the bottom of your library in a random order.\", 'Qty:': '5'}}\n",
      "{'Titulo': \"Healer's Headdress\\n            {2}\", 'Set': 'Fifth Dawn (5DN)', 'Categoria': 'English', 'Raridade': ['Common'], 'Descrição': 'Equipped creature gets +0/+2 and has “{T}: Prevent the next 1 damage that would be dealt to any target this turn.”\\n{W}{W}: Attach Healer’s Headdress to target creature you control.\\nEquip {1} ({1}: Attach to target creature you control. Equip only as a sorcery.)'}\n",
      "None\n",
      "None\n",
      "None\n",
      "None\n",
      "None\n",
      "None\n",
      "{'name': 'Commander 2019', 'price': '$40.00', 'infos': {}}\n",
      "None\n",
      "None\n",
      "{'name': 'Alliances Complete Set for Magic the Gathering', 'price': '$120.00', 'infos': {}}\n",
      "None\n",
      "{'name': 'Ultra Pro Magic Playmat - Throne of Eldraine - Worthy Knight (Pre-Order: Ships Oct 4)', 'price': 'Price: $16.99', 'infos': {}}\n",
      "None\n",
      "None\n",
      "{'name': 'Shepherd of the Flock - Throne of Eldraine', 'price': '$0.15', 'infos': {'color': ' White', 'rarity': ' Uncommon', 'card type': ' Creature', 'artists': ' '}}\n",
      "{'name': 'Modern Horizons Booster Pack', 'desc': '\\nNo description for this product.\\n', 'price': '$7.99', 'infos': {'Category': '', 'DIAMD NO': '', 'Publisher': '', 'Ship Date': '', 'STOCK NO': ''}}\n",
      "None\n",
      "None\n",
      "None\n",
      "None\n",
      "None\n",
      "{'name': 'Ultra Pro Eclipse Sleeves', 'price': '$6.75', 'infos': {}}\n",
      "None\n",
      "{'name': 'Guilds of Ravnica: Etrata, the Silencer', 'desc': \"Etrata, the Silencer can't be blocked.\\nWhenever Etrata deals combat damage to a player, exile target creature that player controls, and put a hit counter on that card. That player loses the game if they own three or more exiled cards with hit counter son them. Etrata's owner shuffles Etrata into their library. \\n Pro Tip!\\n\\nEtrata isn't always consistent in Guilds of Ravnica limited, but she really shines in Commander. Pair her with artifacts like Strionic Resonator to copy her ability, or equip her with a Helm of the Host to create an army of assassins.\", 'price': '$0.59', 'infos': {'Edition': 'Guilds of Ravnica', 'Type': 'Legendary Creature - Vampire Assassin', 'Cast': '2ub', 'Rarity': 'R', 'Pow/Tuf': '3/5'}}\n",
      "None\n",
      "None\n",
      "None\n",
      "None\n"
     ]
    },
    {
     "ename": "KeyboardInterrupt",
     "evalue": "",
     "output_type": "error",
     "traceback": [
      "\u001b[0;31m---------------------------------------------------------------------------\u001b[0m",
      "\u001b[0;31mKeyboardInterrupt\u001b[0m                         Traceback (most recent call last)",
      "\u001b[0;32m<ipython-input-336-4d7f6e058bee>\u001b[0m in \u001b[0;36m<module>\u001b[0;34m\u001b[0m\n\u001b[1;32m      3\u001b[0m         \u001b[0;32mcontinue\u001b[0m\u001b[0;34m\u001b[0m\u001b[0;34m\u001b[0m\u001b[0m\n\u001b[1;32m      4\u001b[0m     \u001b[0mhtml\u001b[0m \u001b[0;34m=\u001b[0m \u001b[0mopen\u001b[0m\u001b[0;34m(\u001b[0m\u001b[0mv\u001b[0m\u001b[0;34m[\u001b[0m\u001b[0;36m0\u001b[0m\u001b[0;34m]\u001b[0m\u001b[0;34m,\u001b[0m \u001b[0;34m\"r\"\u001b[0m\u001b[0;34m)\u001b[0m\u001b[0;34m\u001b[0m\u001b[0;34m\u001b[0m\u001b[0m\n\u001b[0;32m----> 5\u001b[0;31m     \u001b[0msoup\u001b[0m \u001b[0;34m=\u001b[0m \u001b[0mBeautifulSoup\u001b[0m\u001b[0;34m(\u001b[0m\u001b[0mhtml\u001b[0m\u001b[0;34m)\u001b[0m\u001b[0;34m\u001b[0m\u001b[0;34m\u001b[0m\u001b[0m\n\u001b[0m\u001b[1;32m      6\u001b[0m     \u001b[0mprint\u001b[0m\u001b[0;34m(\u001b[0m\u001b[0mextract_from_any_link\u001b[0m\u001b[0;34m(\u001b[0m\u001b[0mv\u001b[0m\u001b[0;34m[\u001b[0m\u001b[0;36m0\u001b[0m\u001b[0;34m]\u001b[0m\u001b[0;34m,\u001b[0m \u001b[0msoup\u001b[0m\u001b[0;34m)\u001b[0m\u001b[0;34m)\u001b[0m\u001b[0;34m\u001b[0m\u001b[0;34m\u001b[0m\u001b[0m\n",
      "\u001b[0;32m~/anaconda3/lib/python3.7/site-packages/bs4/__init__.py\u001b[0m in \u001b[0;36m__init__\u001b[0;34m(self, markup, features, builder, parse_only, from_encoding, exclude_encodings, **kwargs)\u001b[0m\n\u001b[1;32m    279\u001b[0m             \u001b[0mself\u001b[0m\u001b[0;34m.\u001b[0m\u001b[0mreset\u001b[0m\u001b[0;34m(\u001b[0m\u001b[0;34m)\u001b[0m\u001b[0;34m\u001b[0m\u001b[0;34m\u001b[0m\u001b[0m\n\u001b[1;32m    280\u001b[0m             \u001b[0;32mtry\u001b[0m\u001b[0;34m:\u001b[0m\u001b[0;34m\u001b[0m\u001b[0;34m\u001b[0m\u001b[0m\n\u001b[0;32m--> 281\u001b[0;31m                 \u001b[0mself\u001b[0m\u001b[0;34m.\u001b[0m\u001b[0m_feed\u001b[0m\u001b[0;34m(\u001b[0m\u001b[0;34m)\u001b[0m\u001b[0;34m\u001b[0m\u001b[0;34m\u001b[0m\u001b[0m\n\u001b[0m\u001b[1;32m    282\u001b[0m                 \u001b[0;32mbreak\u001b[0m\u001b[0;34m\u001b[0m\u001b[0;34m\u001b[0m\u001b[0m\n\u001b[1;32m    283\u001b[0m             \u001b[0;32mexcept\u001b[0m \u001b[0mParserRejectedMarkup\u001b[0m\u001b[0;34m:\u001b[0m\u001b[0;34m\u001b[0m\u001b[0;34m\u001b[0m\u001b[0m\n",
      "\u001b[0;32m~/anaconda3/lib/python3.7/site-packages/bs4/__init__.py\u001b[0m in \u001b[0;36m_feed\u001b[0;34m(self)\u001b[0m\n\u001b[1;32m    340\u001b[0m         \u001b[0mself\u001b[0m\u001b[0;34m.\u001b[0m\u001b[0mbuilder\u001b[0m\u001b[0;34m.\u001b[0m\u001b[0mreset\u001b[0m\u001b[0;34m(\u001b[0m\u001b[0;34m)\u001b[0m\u001b[0;34m\u001b[0m\u001b[0;34m\u001b[0m\u001b[0m\n\u001b[1;32m    341\u001b[0m \u001b[0;34m\u001b[0m\u001b[0m\n\u001b[0;32m--> 342\u001b[0;31m         \u001b[0mself\u001b[0m\u001b[0;34m.\u001b[0m\u001b[0mbuilder\u001b[0m\u001b[0;34m.\u001b[0m\u001b[0mfeed\u001b[0m\u001b[0;34m(\u001b[0m\u001b[0mself\u001b[0m\u001b[0;34m.\u001b[0m\u001b[0mmarkup\u001b[0m\u001b[0;34m)\u001b[0m\u001b[0;34m\u001b[0m\u001b[0;34m\u001b[0m\u001b[0m\n\u001b[0m\u001b[1;32m    343\u001b[0m         \u001b[0;31m# Close out any unfinished strings and close all the open tags.\u001b[0m\u001b[0;34m\u001b[0m\u001b[0;34m\u001b[0m\u001b[0;34m\u001b[0m\u001b[0m\n\u001b[1;32m    344\u001b[0m         \u001b[0mself\u001b[0m\u001b[0;34m.\u001b[0m\u001b[0mendData\u001b[0m\u001b[0;34m(\u001b[0m\u001b[0;34m)\u001b[0m\u001b[0;34m\u001b[0m\u001b[0;34m\u001b[0m\u001b[0m\n",
      "\u001b[0;32m~/anaconda3/lib/python3.7/site-packages/bs4/builder/_lxml.py\u001b[0m in \u001b[0;36mfeed\u001b[0;34m(self, markup)\u001b[0m\n\u001b[1;32m    285\u001b[0m         \u001b[0;32mtry\u001b[0m\u001b[0;34m:\u001b[0m\u001b[0;34m\u001b[0m\u001b[0;34m\u001b[0m\u001b[0m\n\u001b[1;32m    286\u001b[0m             \u001b[0mself\u001b[0m\u001b[0;34m.\u001b[0m\u001b[0mparser\u001b[0m \u001b[0;34m=\u001b[0m \u001b[0mself\u001b[0m\u001b[0;34m.\u001b[0m\u001b[0mparser_for\u001b[0m\u001b[0;34m(\u001b[0m\u001b[0mencoding\u001b[0m\u001b[0;34m)\u001b[0m\u001b[0;34m\u001b[0m\u001b[0;34m\u001b[0m\u001b[0m\n\u001b[0;32m--> 287\u001b[0;31m             \u001b[0mself\u001b[0m\u001b[0;34m.\u001b[0m\u001b[0mparser\u001b[0m\u001b[0;34m.\u001b[0m\u001b[0mfeed\u001b[0m\u001b[0;34m(\u001b[0m\u001b[0mmarkup\u001b[0m\u001b[0;34m)\u001b[0m\u001b[0;34m\u001b[0m\u001b[0;34m\u001b[0m\u001b[0m\n\u001b[0m\u001b[1;32m    288\u001b[0m             \u001b[0mself\u001b[0m\u001b[0;34m.\u001b[0m\u001b[0mparser\u001b[0m\u001b[0;34m.\u001b[0m\u001b[0mclose\u001b[0m\u001b[0;34m(\u001b[0m\u001b[0;34m)\u001b[0m\u001b[0;34m\u001b[0m\u001b[0;34m\u001b[0m\u001b[0m\n\u001b[1;32m    289\u001b[0m         \u001b[0;32mexcept\u001b[0m \u001b[0;34m(\u001b[0m\u001b[0mUnicodeDecodeError\u001b[0m\u001b[0;34m,\u001b[0m \u001b[0mLookupError\u001b[0m\u001b[0;34m,\u001b[0m \u001b[0metree\u001b[0m\u001b[0;34m.\u001b[0m\u001b[0mParserError\u001b[0m\u001b[0;34m)\u001b[0m \u001b[0;32mas\u001b[0m \u001b[0me\u001b[0m\u001b[0;34m:\u001b[0m\u001b[0;34m\u001b[0m\u001b[0;34m\u001b[0m\u001b[0m\n",
      "\u001b[0;32msrc/lxml/parser.pxi\u001b[0m in \u001b[0;36mlxml.etree._FeedParser.feed\u001b[0;34m()\u001b[0m\n",
      "\u001b[0;32msrc/lxml/parser.pxi\u001b[0m in \u001b[0;36mlxml.etree._FeedParser.feed\u001b[0;34m()\u001b[0m\n",
      "\u001b[0;32msrc/lxml/parsertarget.pxi\u001b[0m in \u001b[0;36mlxml.etree._TargetParserContext._handleParseResult\u001b[0;34m()\u001b[0m\n",
      "\u001b[0;32msrc/lxml/parsertarget.pxi\u001b[0m in \u001b[0;36mlxml.etree._TargetParserContext._handleParseResult\u001b[0;34m()\u001b[0m\n",
      "\u001b[0;32msrc/lxml/etree.pyx\u001b[0m in \u001b[0;36mlxml.etree._ExceptionContext._raise_if_stored\u001b[0;34m()\u001b[0m\n",
      "\u001b[0;32msrc/lxml/saxparser.pxi\u001b[0m in \u001b[0;36mlxml.etree._handleSaxEndNoNs\u001b[0;34m()\u001b[0m\n",
      "\u001b[0;32msrc/lxml/parsertarget.pxi\u001b[0m in \u001b[0;36mlxml.etree._PythonSaxParserTarget._handleSaxEnd\u001b[0;34m()\u001b[0m\n",
      "\u001b[0;32m~/anaconda3/lib/python3.7/site-packages/bs4/builder/_lxml.py\u001b[0m in \u001b[0;36mend\u001b[0;34m(self, name)\u001b[0m\n\u001b[1;32m    230\u001b[0m \u001b[0;34m\u001b[0m\u001b[0m\n\u001b[1;32m    231\u001b[0m     \u001b[0;32mdef\u001b[0m \u001b[0mend\u001b[0m\u001b[0;34m(\u001b[0m\u001b[0mself\u001b[0m\u001b[0;34m,\u001b[0m \u001b[0mname\u001b[0m\u001b[0;34m)\u001b[0m\u001b[0;34m:\u001b[0m\u001b[0;34m\u001b[0m\u001b[0;34m\u001b[0m\u001b[0m\n\u001b[0;32m--> 232\u001b[0;31m         \u001b[0mself\u001b[0m\u001b[0;34m.\u001b[0m\u001b[0msoup\u001b[0m\u001b[0;34m.\u001b[0m\u001b[0mendData\u001b[0m\u001b[0;34m(\u001b[0m\u001b[0;34m)\u001b[0m\u001b[0;34m\u001b[0m\u001b[0;34m\u001b[0m\u001b[0m\n\u001b[0m\u001b[1;32m    233\u001b[0m         \u001b[0mcompleted_tag\u001b[0m \u001b[0;34m=\u001b[0m \u001b[0mself\u001b[0m\u001b[0;34m.\u001b[0m\u001b[0msoup\u001b[0m\u001b[0;34m.\u001b[0m\u001b[0mtagStack\u001b[0m\u001b[0;34m[\u001b[0m\u001b[0;34m-\u001b[0m\u001b[0;36m1\u001b[0m\u001b[0;34m]\u001b[0m\u001b[0;34m\u001b[0m\u001b[0;34m\u001b[0m\u001b[0m\n\u001b[1;32m    234\u001b[0m         \u001b[0mnamespace\u001b[0m\u001b[0;34m,\u001b[0m \u001b[0mname\u001b[0m \u001b[0;34m=\u001b[0m \u001b[0mself\u001b[0m\u001b[0;34m.\u001b[0m\u001b[0m_getNsTag\u001b[0m\u001b[0;34m(\u001b[0m\u001b[0mname\u001b[0m\u001b[0;34m)\u001b[0m\u001b[0;34m\u001b[0m\u001b[0;34m\u001b[0m\u001b[0m\n",
      "\u001b[0;32m~/anaconda3/lib/python3.7/site-packages/bs4/__init__.py\u001b[0m in \u001b[0;36mendData\u001b[0;34m(self, containerClass)\u001b[0m\n\u001b[1;32m    416\u001b[0m                 \u001b[0;32mreturn\u001b[0m\u001b[0;34m\u001b[0m\u001b[0;34m\u001b[0m\u001b[0m\n\u001b[1;32m    417\u001b[0m \u001b[0;34m\u001b[0m\u001b[0m\n\u001b[0;32m--> 418\u001b[0;31m             \u001b[0mo\u001b[0m \u001b[0;34m=\u001b[0m \u001b[0mcontainerClass\u001b[0m\u001b[0;34m(\u001b[0m\u001b[0mcurrent_data\u001b[0m\u001b[0;34m)\u001b[0m\u001b[0;34m\u001b[0m\u001b[0;34m\u001b[0m\u001b[0m\n\u001b[0m\u001b[1;32m    419\u001b[0m             \u001b[0mself\u001b[0m\u001b[0;34m.\u001b[0m\u001b[0mobject_was_parsed\u001b[0m\u001b[0;34m(\u001b[0m\u001b[0mo\u001b[0m\u001b[0;34m)\u001b[0m\u001b[0;34m\u001b[0m\u001b[0;34m\u001b[0m\u001b[0m\n\u001b[1;32m    420\u001b[0m \u001b[0;34m\u001b[0m\u001b[0m\n",
      "\u001b[0;32m~/anaconda3/lib/python3.7/site-packages/bs4/element.py\u001b[0m in \u001b[0;36m__new__\u001b[0;34m(cls, value)\u001b[0m\n\u001b[1;32m    719\u001b[0m         \u001b[0;32melse\u001b[0m\u001b[0;34m:\u001b[0m\u001b[0;34m\u001b[0m\u001b[0;34m\u001b[0m\u001b[0m\n\u001b[1;32m    720\u001b[0m             \u001b[0mu\u001b[0m \u001b[0;34m=\u001b[0m \u001b[0mstr\u001b[0m\u001b[0;34m.\u001b[0m\u001b[0m__new__\u001b[0m\u001b[0;34m(\u001b[0m\u001b[0mcls\u001b[0m\u001b[0;34m,\u001b[0m \u001b[0mvalue\u001b[0m\u001b[0;34m,\u001b[0m \u001b[0mDEFAULT_OUTPUT_ENCODING\u001b[0m\u001b[0;34m)\u001b[0m\u001b[0;34m\u001b[0m\u001b[0;34m\u001b[0m\u001b[0m\n\u001b[0;32m--> 721\u001b[0;31m         \u001b[0mu\u001b[0m\u001b[0;34m.\u001b[0m\u001b[0msetup\u001b[0m\u001b[0;34m(\u001b[0m\u001b[0;34m)\u001b[0m\u001b[0;34m\u001b[0m\u001b[0;34m\u001b[0m\u001b[0m\n\u001b[0m\u001b[1;32m    722\u001b[0m         \u001b[0;32mreturn\u001b[0m \u001b[0mu\u001b[0m\u001b[0;34m\u001b[0m\u001b[0;34m\u001b[0m\u001b[0m\n\u001b[1;32m    723\u001b[0m \u001b[0;34m\u001b[0m\u001b[0m\n",
      "\u001b[0;32m~/anaconda3/lib/python3.7/site-packages/bs4/element.py\u001b[0m in \u001b[0;36msetup\u001b[0;34m(self, parent, previous_element, next_element, previous_sibling, next_sibling)\u001b[0m\n\u001b[1;32m    260\u001b[0m         \"\"\"Sets up the initial relations between this element and\n\u001b[1;32m    261\u001b[0m         other elements.\"\"\"\n\u001b[0;32m--> 262\u001b[0;31m         \u001b[0mself\u001b[0m\u001b[0;34m.\u001b[0m\u001b[0mparent\u001b[0m \u001b[0;34m=\u001b[0m \u001b[0mparent\u001b[0m\u001b[0;34m\u001b[0m\u001b[0;34m\u001b[0m\u001b[0m\n\u001b[0m\u001b[1;32m    263\u001b[0m \u001b[0;34m\u001b[0m\u001b[0m\n\u001b[1;32m    264\u001b[0m         \u001b[0mself\u001b[0m\u001b[0;34m.\u001b[0m\u001b[0mprevious_element\u001b[0m \u001b[0;34m=\u001b[0m \u001b[0mprevious_element\u001b[0m\u001b[0;34m\u001b[0m\u001b[0;34m\u001b[0m\u001b[0m\n",
      "\u001b[0;31mKeyboardInterrupt\u001b[0m: "
     ]
    }
   ],
   "source": [
    "for v in list(zip(links, result)):\n",
    "    if v[1] == 0:\n",
    "        continue\n",
    "    html = open(v[0], \"r\")\n",
    "    soup = BeautifulSoup(html)\n",
    "    print(extract_from_any_link(v[0], soup))"
   ]
  },
  {
   "cell_type": "code",
   "execution_count": 362,
   "metadata": {},
   "outputs": [],
   "source": [
    "links = glob('./Paginas/PaginasHeuristica/*')\n",
    "heuristica_data = [get_text_from_link(link) for link in links ]"
   ]
  },
  {
   "cell_type": "code",
   "execution_count": 363,
   "metadata": {},
   "outputs": [],
   "source": [
    "data = [' '.join(extract_features(data)) for data in heuristica_data]"
   ]
  },
  {
   "cell_type": "code",
   "execution_count": 364,
   "metadata": {},
   "outputs": [],
   "source": [
    "result_h = best_clf.predict(data)"
   ]
  },
  {
   "cell_type": "code",
   "execution_count": 365,
   "metadata": {},
   "outputs": [
    {
     "data": {
      "text/html": [
       "<div>\n",
       "<style scoped>\n",
       "    .dataframe tbody tr th:only-of-type {\n",
       "        vertical-align: middle;\n",
       "    }\n",
       "\n",
       "    .dataframe tbody tr th {\n",
       "        vertical-align: top;\n",
       "    }\n",
       "\n",
       "    .dataframe thead th {\n",
       "        text-align: right;\n",
       "    }\n",
       "</style>\n",
       "<table border=\"1\" class=\"dataframe\">\n",
       "  <thead>\n",
       "    <tr style=\"text-align: right;\">\n",
       "      <th></th>\n",
       "      <th>Ratio</th>\n",
       "      <th>Relevantes</th>\n",
       "      <th>Total de Paginas</th>\n",
       "    </tr>\n",
       "  </thead>\n",
       "  <tbody>\n",
       "    <tr>\n",
       "      <th>0</th>\n",
       "      <td>0.697757</td>\n",
       "      <td>4885</td>\n",
       "      <td>7001</td>\n",
       "    </tr>\n",
       "  </tbody>\n",
       "</table>\n",
       "</div>"
      ],
      "text/plain": [
       "      Ratio  Relevantes  Total de Paginas\n",
       "0  0.697757        4885              7001"
      ]
     },
     "execution_count": 365,
     "metadata": {},
     "output_type": "execute_result"
    }
   ],
   "source": [
    "relevants = [r for r in result_h if r == 1]\n",
    "df = []\n",
    "df.append(dict(zip(['Total de Paginas', 'Relevantes', 'Ratio'], [len(result_h), len(relevants), len(relevants) / len(result_h)])))\n",
    "pd.DataFrame(df)"
   ]
  },
  {
   "cell_type": "markdown",
   "metadata": {},
   "source": [
    "# Content Extraction"
   ]
  },
  {
   "cell_type": "markdown",
   "metadata": {},
   "source": [
    "## Capefeargames"
   ]
  },
  {
   "cell_type": "code",
   "execution_count": 323,
   "metadata": {},
   "outputs": [],
   "source": [
    "urls = [\"https://www.capefeargames.com/catalog/magic_singles-throne_of_eldraine/oko_thief_of_crowns/606112\",\n",
    "\"https://www.capefeargames.com/buylist/magic_singles-masters_editions-modern_masters_2017/scalding_tarn/439123\",\n",
    "\"https://www.capefeargames.com/buylist/magic_singles-core_set_2020/chandra_awakened_inferno/601947\",\n",
    "\"https://www.capefeargames.com/catalog/magic_singles-throne_of_eldraine/the_circle_of_loyalty/606155\",\n",
    "\"https://www.capefeargames.com/catalog/magic_singles-ravnica_allegiance-ravnica_allegiance/bedevil__foil/593030\",\n",
    "\"https://www.capefeargames.com/catalog/magic_singles-core_set_2019/arcades_the_strategist/554263\",\n",
    "\"https://www.capefeargames.com/catalog/magic_singles-core_set_2019/goblin_instigator__foil/552313\",\n",
    "\"https://www.capefeargames.com/catalog/magic_singles-dominaria/jhoira_weatherlight_captain__foil/520393\",\n",
    "\"https://www.capefeargames.com/catalog/magic_singles-dominaria/knight_of_grace__foil/520593\",\n",
    "\"https://www.capefeargames.com/catalog/magic_singles-dominaria/karn_scion_of_urza/520483\"]\n",
    "\n",
    "urls = [encode_url_to_file(url) + \".html\" for url in urls]"
   ]
  },
  {
   "cell_type": "code",
   "execution_count": 324,
   "metadata": {},
   "outputs": [],
   "source": [
    "def extract_capefeargames(soup):\n",
    "    root_div = soup.find(\"div\", class_=\"product-info\")\n",
    "    title = root_div.find('h1').text\n",
    "    price_span = root_div.find('span', class_='price')\n",
    "    price = re.sub('[\\s+]', '', price_span.text) if price_span != None else ''\n",
    "    infos_box = root_div.find_all('div', class_='info-box')\n",
    "    description = infos_box[1].find('p').text\n",
    "    extra_infos = infos_box[2].find('p')\n",
    "    infos = {}\n",
    "    key = \"\"\n",
    "    value = \"\"\n",
    "    for child in extra_infos.children:\n",
    "        if child.name == None:\n",
    "            continue\n",
    "        if key == \"\": \n",
    "            key = child.text\n",
    "        else:\n",
    "            value = value + child.text + \" \"\n",
    "        if child.name == \"br\":\n",
    "            infos[key] = value.strip()\n",
    "            key = \"\"\n",
    "            value = \"\"\n",
    "    return {\"name\": title, \"desc\": description, \"price\": price, \"infos\": infos}"
   ]
  },
  {
   "cell_type": "code",
   "execution_count": 325,
   "metadata": {},
   "outputs": [
    {
     "name": "stdout",
     "output_type": "stream",
     "text": [
      "{'name': 'Oko, Thief of Crowns', 'desc': '\\nNo description for this product.\\n', 'price': '', 'infos': {'Color': 'Multi-Color', 'Card Text': '[+2]: Create a Food Token.[+1]: Target artifact or creature loses all abilities and becomes a green Elk creature with base power and toughness 3/3.[-5]: Exchange control of target artifact or creature you control and target creature an opponent controls with power 3 or less.', 'Rarity': 'M', 'Cost': '1GU', 'Pow/Tgh': '4', 'Card Type': 'Legendary Planeswalker - Oko', 'Artist': 'Yongjae Choi', 'Name': 'Oko Thief of Crowns', 'Finish': 'Regular', 'Card Number': '197/269', 'Set Name': 'Throne of Eldraine', 'SetTag': '', 'CM15': 'ELD'}}\n",
      "{'name': 'Scalding Tarn', 'desc': '\\nNo description for this product.\\n', 'price': '$50.00/$62.50', 'infos': {'Color': 'Land', 'Card Text': 'T Pay 1 life Sacrifice Scalding Tarn: Search your library for an Island or Mountain card and put it onto the battlefield. Then shuffle your library.', 'Rarity': 'R', 'Cost': '', 'Pow/Tgh': '', 'Card Type': 'Land', 'Artist': '', 'Name': 'Scalding Tarn', 'Finish': 'Regular', 'Card Number': '244/249', 'Set Name': 'Modern Masters 2017', 'SetTag': '', 'CM15': 'ZEN'}}\n",
      "{'name': 'Chandra, Awakened Inferno', 'desc': '\\nNo description for this product.\\n', 'price': '$8.00/$10.00', 'infos': {'Color': 'Red', 'Card Text': \"This spell can't be countered.[+2]: Each opponent gets an emblem with At the beginning of your upkeep this emblem deals 1 damage to you.[-3]: Chandra Awakened Inferno deals 3 damage to each non-elemental creature.[-X]: Chandra Awakened Inferno deals X damage to target creature or planeswalker. If a permanent dealt damage this way would die this turn exile it instead.\", 'Rarity': 'M', 'Cost': '4RR', 'Pow/Tgh': '6', 'Card Type': 'Legendary Planeswalker - Chandra', 'Artist': 'Chris Rahn', 'Name': 'Chandra Awakened Inferno', 'Finish': 'Regular', 'Card Number': '127/280', 'Set Name': 'Core Set 2020', 'SetTag': '', 'CM15': 'PC20'}}\n",
      "{'name': 'The Circle of Loyalty', 'desc': '\\nNo description for this product.\\n', 'price': '', 'infos': {'Color': 'White', 'Card Text': 'This spell costs 1 less to cast for each Knight you control.Creatures you control get +1/+1.Whenever you cast a legendary spell create a 2/2 white Knight creature token with vigilance.3W T: Create a 2/2 white Knight creature token with Vigilance.', 'Rarity': 'M', 'Cost': '4WW', 'Pow/Tgh': '', 'Card Type': 'Legendary Artifact', 'Artist': 'Bastien L Deharme', 'Name': 'The Circle of Loyalty', 'Finish': 'Regular', 'Card Number': '009/269', 'Set Name': 'Throne of Eldraine', 'SetTag': '', 'CM15': 'ELD'}}\n",
      "{'name': 'Bedevil - Foil', 'desc': '\\nNo description for this product.\\n', 'price': '$4.95', 'infos': {'Color': 'Multi-Color', 'Card Text': 'Destroy target artifact creature or planeswalker.', 'Rarity': 'R', 'Cost': 'BBR', 'Pow/Tgh': '', 'Card Type': 'Instant', 'Artist': 'Seb McKinnon', 'Name': 'Bedevil', 'Finish': 'Foil', 'Card Number': '157/259', 'Set Name': 'Ravnica Allegiance', 'SetTag': '', 'CM15': 'RNA'}}\n",
      "{'name': 'Arcades, the Strategist', 'desc': '\\nNo description for this product.\\n', 'price': '$3.95', 'infos': {'Color': 'Multi-Color', 'Card Text': \"Flying vigilance.Whenever a creature with defender enters the battlefield under your control draw a card.Each creature you control with defender assigns combat damage equal to its toughness rather than its power and can attack as if it doesn't have defender.\", 'Rarity': 'M', 'Cost': '1GWU', 'Pow/Tgh': '3/5', 'Card Type': 'Legendary Creature - Elder Dragon', 'Artist': 'Even Amundsen', 'Name': 'Arcades the Strategist', 'Finish': 'Regular', 'Card Number': '212/280', 'Set Name': 'Core Set 2019', 'SetTag': '', 'CM15': 'M2019'}}\n",
      "{'name': 'Goblin Instigator - Foil', 'desc': '\\nNo description for this product.\\n', 'price': '', 'infos': {'Color': 'Red', 'Card Text': 'When Goblin Instigator enters the battlefield create a 1/1 red Goblin creature token.', 'Rarity': 'C', 'Cost': '1R', 'Pow/Tgh': '1/1', 'Card Type': 'Creature - Goblin Rogue', 'Artist': 'Filip Burburan', 'Name': 'Goblin Instigator', 'Finish': 'Foil', 'Card Number': '142/280', 'Set Name': 'Core Set 2019', 'SetTag': '', 'CM15': 'M2019'}}\n",
      "{'name': 'Jhoira, Weatherlight Captain - Foil', 'desc': '\\nNo description for this product.\\n', 'price': '$7.55', 'infos': {'Color': 'Multi-Color', 'Card Text': 'Whenever you cast a historic spell draw a card. (Artifacts legendaries and Sagas are historic.)', 'Rarity': 'M', 'Cost': '2UR', 'Pow/Tgh': '3-Mar', 'Card Type': 'Legendary Creature — Human Artificer', 'Artist': '', 'Name': 'Jhoira Weatherlight Captain', 'Finish': 'Foil', 'Card Number': '', 'Set Name': 'Dominaria', 'SetTag': '', 'CM15': 'DOM'}}\n",
      "{'name': 'Knight of Grace - Foil', 'desc': '\\nNo description for this product.\\n', 'price': '$0.56', 'infos': {'Color': 'White', 'Card Text': \"First strike\\nHexproof from black (This creature can't be the target of black spells or abilities your opponents control.)\\nKnight of Grace gets +1/+0 as long as any player controls a black permanent.\", 'Rarity': 'U', 'Cost': '1W', 'Pow/Tgh': '2-Feb', 'Card Type': 'Creature - Human Knight', 'Artist': '', 'Name': 'Knight of Grace', 'Finish': 'Foil', 'Card Number': '', 'Set Name': 'Dominaria', 'SetTag': '', 'CM15': 'DOM'}}\n",
      "{'name': 'Karn, Scion of Urza', 'desc': '\\nNo description for this product.\\n', 'price': '', 'infos': {'Color': 'Colorless', 'Card Text': '+1: Reveal the top two cards of your library. An opponent chooses one of them. Put that card into your hand and exile the other with a silver counter on it.\\n?1: Put a card you own with a silver counter on it from exile into your hand.\\n?2: Create a 0/0 c', 'Rarity': 'M', 'Cost': '4', 'Pow/Tgh': '5', 'Card Type': 'Legendary Planeswalker - Karn', 'Artist': '', 'Name': 'Karn Scion of Urza', 'Finish': 'Regular', 'Card Number': '', 'Set Name': 'Dominaria', 'SetTag': '', 'CM15': 'PC20'}}\n"
     ]
    }
   ],
   "source": [
    "for url in urls: \n",
    "    html = open(\"./train-set/\" + url, \"r\")\n",
    "    soup = BeautifulSoup(html)\n",
    "    print(extract_capefeargames(soup))"
   ]
  },
  {
   "cell_type": "markdown",
   "metadata": {},
   "source": [
    "## Mtgotraders"
   ]
  },
  {
   "cell_type": "code",
   "execution_count": 88,
   "metadata": {},
   "outputs": [],
   "source": [
    "urls = [\"https://www.mtgotraders.com/store/M20_Act_of_Treason.html\",\n",
    "\"https://www.mtgotraders.com/store/M20_Ajani_Strength_of_the_Pride.html\",\n",
    "\"https://www.mtgotraders.com/store/M20_Angelic_Gift.html\",\n",
    "\"https://www.mtgotraders.com/store/M20_Barony_Vampire.html\",\n",
    "\"https://www.mtgotraders.com/store/M20_Barkhide_Troll.html\",\n",
    "\"https://www.mtgotraders.com/store/GRN_Assassins_Trophy.html\",\n",
    "\"https://www.mtgotraders.com/store/GRN_Assure_Assemble.html\",\n",
    "\"https://www.mtgotraders.com/store/GRN_Bartizan_Bats.html\",\n",
    "\"https://www.mtgotraders.com/store/XLN_Angraths_Marauders.html\",\n",
    "\"https://www.mtgotraders.com/store/XLN_Axis_of_Mortality.html\"]\n",
    "\n",
    "urls = [encode_url_to_file(url) + \".html\" for url in urls]"
   ]
  },
  {
   "cell_type": "code",
   "execution_count": 103,
   "metadata": {},
   "outputs": [
    {
     "name": "stdout",
     "output_type": "stream",
     "text": [
      "{'name': 'Act of Treason', 'desc': '', 'price': '$0.01', 'infos': {'Set:\\xa0': 'Core Set 2020', 'Mana Cost:': '2Red', 'Card Type:': 'Sorcery', 'Description:': 'Gain control of target creature until end of turn. Untap that creature. It gains haste until end of turn. (It can attack and Tap this turn.)', 'Qty:': '30'}}\n",
      "{'name': 'Ajani, Strength of the Pride', 'desc': '', 'price': '$9.80', 'infos': {'Set:\\xa0': 'Core Set 2020', 'Mana Cost:': '2WhiteWhite', 'Card Type:': 'Legendary Planeswalker - Ajani', 'Description:': '+1: You gain life equal to the number of creatures you control plus the number of planeswalkers you control.-2: Create a 2/2 white Cat Soldier creature token named Ajani\\'s Pridemate with \"Whenever you gain life, put a +1/+1 counter on Ajani\\'s Pridemate.\"0: If you have at least 15 life more than your starting life total, exile Ajani, Strength of the Pride and each artifact and creature your opponents control.', 'Qty:': '7'}}\n",
      "{'name': 'Angelic Gift', 'desc': '', 'price': '$0.01', 'infos': {'Set:\\xa0': 'Core Set 2020', 'Mana Cost:': '1White', 'Card Type:': 'Enchantment - Aura', 'Description:': 'Enchant creatureWhen Angelic Gift enters the battlefield, draw a card.Enchanted creature has flying.', 'Qty:': '26'}}\n",
      "{'name': 'Barony Vampire', 'desc': '', 'price': '$0.01', 'infos': {'Set:\\xa0': 'Core Set 2020', 'Mana Cost:': '2Black', 'Card Type:': 'Creature - Vampire', 'Qty:': '32'}}\n",
      "{'name': 'Barkhide Troll', 'desc': '', 'price': '$0.03', 'infos': {'Set:\\xa0': 'Core Set 2020', 'Mana Cost:': 'GreenGreen', 'Card Type:': 'Creature - Troll', 'Description:': \"Barkhide Troll enters the battlefield with a +1/+1 counter on it.1, Remove a +1/+1 counter from Barkhide Troll: Barkhide Troll gains hexproof until end of turn. (It can't be the target of spells or abilities your opponents control.)\", 'Qty:': '12'}}\n",
      "{'name': \"Assassin's Trophy\", 'desc': '', 'price': '$7.24', 'infos': {'Set:\\xa0': 'Guilds of Ravnica', 'Mana Cost:': 'BlackGreen', 'Card Type:': 'Instant', 'Description:': 'Destroy target permanent an opponent controls. Its controller may search their library for a basic land card, put it onto the battlefield, then shuffle their library.', 'Qty:': '24'}}\n",
      "{'name': 'Assure/Assemble', 'desc': '', 'price': '$0.01', 'infos': {'Set:\\xa0': 'Guilds of Ravnica', 'Mana Cost:': 'Green or WhiteGreen or White//4GreenWhite', 'Card Type:': 'Instant//Instant', 'Description:': 'Put a +1/+1 counter on target creature. That creature gains indestructible until end of turn.//Create three 2/2 green and white Elf Knight creature tokens with vigilance.', 'Qty:': '32'}}\n",
      "{'name': 'Bartizan Bats', 'desc': '', 'price': '$0.01', 'infos': {'Set:\\xa0': 'Guilds of Ravnica', 'Mana Cost:': '3Black', 'Card Type:': 'Creature - Bat', 'Description:': 'Flying', 'Qty:': '39'}}\n",
      "{'name': \"Angrath's Marauders\", 'desc': '', 'price': '$0.02', 'infos': {'Set:\\xa0': 'Ixalan', 'Mana Cost:': '5RedRed', 'Card Type:': 'Creature - Human Pirate', 'Description:': 'If a source you control would deal damage to a permanent or player, it deals double that damage to that permanent or player instead.', 'Qty:': '31'}}\n",
      "{'name': 'Axis of Mortality', 'desc': '', 'price': '$0.01', 'infos': {'Set:\\xa0': 'Ixalan', 'Mana Cost:': '4WhiteWhite', 'Card Type:': 'Enchantment', 'Description:': 'At the beginning of your upkeep, you may have two target players exchange life totals.', 'Qty:': '28'}}\n"
     ]
    }
   ],
   "source": [
    "def get_text_from_contents(contents):\n",
    "    text = ''\n",
    "    for content in contents:\n",
    "        if content.name == 'img':\n",
    "            text = text + content.get('alt')\n",
    "        elif content.name == None:\n",
    "            text = text + content\n",
    "        else:\n",
    "            text = text + get_text_from_contents(content.contents)\n",
    "    return text\n",
    "def extract_mtgotraders(soup):\n",
    "    root_div = soup.find('div', class_='product-info')\n",
    "    name = root_div.find('h1').text\n",
    "    price = root_div.find('span', class_='price').text\n",
    "    dl = root_div.find('div', class_='product-addtocart').find('dl')\n",
    "    keys = [dt.text for dt in dl.find_all('dt')]\n",
    "    values = [get_text_from_contents(dd.contents) for dd in dl.find_all('dd')]\n",
    "    infos = dict(zip(keys, values))\n",
    "    return {'name': name, 'desc': '', 'price': price, 'infos': infos}"
   ]
  },
  {
   "cell_type": "code",
   "execution_count": null,
   "metadata": {},
   "outputs": [],
   "source": [
    "for url in urls:    \n",
    "    html = open(\"./train-set/\" + url, \"r\")\n",
    "    soup = BeautifulSoup(html)\n",
    "    print(extract_mtgotraders(soup))"
   ]
  },
  {
   "cell_type": "markdown",
   "metadata": {},
   "source": [
    "## Wizardscupboard"
   ]
  },
  {
   "cell_type": "code",
   "execution_count": 105,
   "metadata": {},
   "outputs": [],
   "source": [
    "urls = [\"https://www.wizardscupboard.com/grisly-spectacle-p-41020.html\",\n",
    "\"https://www.wizardscupboard.com/jace-architect-thought-p-37824.html\",\n",
    "\"https://www.wizardscupboard.com/deathhood-cobra-p-41032.html\",\n",
    "\"https://www.wizardscupboard.com/cephalid-broker-p-49589.html\",\n",
    "\"https://www.wizardscupboard.com/charmbreaker-devils-p-49665.html\",\n",
    "\"https://www.wizardscupboard.com/benevolent-ancestor-p-49557.html\",\n",
    "\"https://www.wizardscupboard.com/adderstaff-boggart-p-22490.html\",\n",
    "\"https://www.wizardscupboard.com/ajani-goldmane-p-22492.html\",\n",
    "\"https://www.wizardscupboard.com/deadeye-quartermaster-p-50094.html\",\n",
    "\"https://www.wizardscupboard.com/colossal-dreadmaw-p-50227.html\"]\n",
    "\n",
    "urls = [encode_url_to_file(url) + \".html\" for url in urls]"
   ]
  },
  {
   "cell_type": "code",
   "execution_count": 153,
   "metadata": {},
   "outputs": [],
   "source": [
    "def extract_wizardscupboard(soup):\n",
    "    pageHeading = soup.find_all('td', class_='pageHeading')\n",
    "    name = pageHeading[0].text.strip()\n",
    "    price = pageHeading[1].text.strip()\n",
    "    main = soup.find('td', class_='main')\n",
    "    infos = {}\n",
    "    key = ''\n",
    "    for i, child in enumerate(main.children):\n",
    "        if key != '':\n",
    "            infos[key] = child\n",
    "            key = ''\n",
    "            continue\n",
    "        if child.name != 'b':\n",
    "            continue\n",
    "        if child.text == 'color:':\n",
    "            key = 'color'\n",
    "        if child.text == 'rarity:':\n",
    "            key = 'rarity'\n",
    "        if child.text == 'card type:':\n",
    "            key = 'card type'\n",
    "        if child.text == 'artist(s):':\n",
    "            key = 'artists'\n",
    "    return {'name': name, 'price': price, 'infos': infos}"
   ]
  },
  {
   "cell_type": "code",
   "execution_count": 156,
   "metadata": {},
   "outputs": [
    {
     "name": "stdout",
     "output_type": "stream",
     "text": [
      "{'name': 'Grisly Spectacle - Jace vs. Vraska', 'price': '$0.15', 'infos': {'color': ' Black', 'rarity': ' Common', 'card type': ' Instant', 'artists': ' Zoltan Boros'}}\n",
      "{'name': 'Jace, Architect of Thought (JvV) - Duel Decks Magic the Gathering Single', 'price': '$1.25', 'infos': {'color': ' Blue', 'rarity': ' Mythic Rare', 'card type': ' Planeswalker', 'artists': ' '}}\n",
      "{'name': 'Death-Hood Cobra - Jace vs. Vraska', 'price': '$0.15', 'infos': {'color': ' Green', 'rarity': ' Common', 'card type': ' Creature', 'artists': ' Jason Felix'}}\n",
      "{'name': 'Cephalid Broker - Iconic Masters', 'price': '$0.20', 'infos': {'color': ' Blue', 'rarity': ' Uncommon', 'card type': ' Creature', 'artists': ' '}}\n",
      "{'name': 'Charmbreaker Devils - Iconic Masters', 'price': '$0.25', 'infos': {'color': ' Red', 'rarity': ' Rare', 'card type': ' Creature', 'artists': ' '}}\n",
      "{'name': 'Benevolent Ancestor - Iconic Masters', 'price': '$0.10', 'infos': {'color': ' White', 'rarity': ' Common', 'card type': ' Creature', 'artists': ' '}}\n",
      "{'name': 'Adder-Staff Boggart - Lorwyn', 'price': '$0.05', 'infos': {'color': ' Red', 'rarity': ' Common', 'card type': ' Creature - Goblin Warrior', 'artists': ' Jeff Miracola'}}\n",
      "{'name': 'Ajani Goldmane - Lorwyn', 'price': '$6.75', 'infos': {'color': ' White', 'rarity': ' Rare', 'card type': ' Planeswalker - Ajani', 'artists': ' Aleksi Briclot'}}\n",
      "{'name': 'Deadeye Quartermaster - Ixalan', 'price': '$0.15', 'infos': {'color': ' Blue', 'rarity': ' Uncommon', 'card type': ' Creature', 'artists': ' '}}\n",
      "{'name': 'Colossal Dreadmaw - Ixalan', 'price': '$0.20', 'infos': {'color': ' Green', 'rarity': ' Common', 'card type': ' Creature', 'artists': ' '}}\n"
     ]
    }
   ],
   "source": [
    "for url in urls:    \n",
    "    html = open(\"./train-set/\" + url, \"r\")\n",
    "    soup = BeautifulSoup(html)\n",
    "    print(extract_wizardscupboard(soup))"
   ]
  },
  {
   "cell_type": "markdown",
   "metadata": {},
   "source": [
    "## Cardkingdom"
   ]
  },
  {
   "cell_type": "code",
   "execution_count": 160,
   "metadata": {},
   "outputs": [],
   "source": [
    "urls = [\"https://www.cardkingdom.com/mtg/core-set-2020/agonizing-syphon\",\n",
    "\"https://www.cardkingdom.com/mtg/core-set-2020/air-elemental\",\n",
    "\"https://www.cardkingdom.com/mtg/modern-horizons/alpine-guide\",\n",
    "\"https://www.cardkingdom.com/mtg/modern-horizons/altar-of-dementia\",\n",
    "\"https://www.cardkingdom.com/mtg/modern-horizons/angel-token\",\n",
    "\"https://www.cardkingdom.com/mtg/ultimate-masters/aethersnipe\",\n",
    "\"https://www.cardkingdom.com/mtg/ultimate-masters/all-is-dust\",\n",
    "\"https://www.cardkingdom.com/mtg/commander-2015/blasted-landscape\",\n",
    "\"https://www.cardkingdom.com/mtg/global-series-jiang-yanggu-mu-yanling/island\",\n",
    "\"https://www.cardkingdom.com/mtg/commander-2019/akoum-refuge\"]\n",
    "\n",
    "urls = [encode_url_to_file(url) + \".html\" for url in urls]"
   ]
  },
  {
   "cell_type": "code",
   "execution_count": 194,
   "metadata": {},
   "outputs": [],
   "source": [
    "def extract_cardkingdom(soup): \n",
    "    main = soup.find('div', class_='mainWrapper')\n",
    "    name = soup.find('h1').text\n",
    "    price = main.find('span', class_='stylePrice').text.strip()\n",
    "    trs = main.find('div', class_='cardDetailInfo').find('table').find_all('tr')\n",
    "    infos = {}\n",
    "    for tr in trs[:len(trs)-1]:\n",
    "        tds = tr.find_all('td')\n",
    "        if tds[0].text == 'Cast:':\n",
    "            infos[tds[0].text[:len(tds[0].text)-1]] = ''.join([c.get('src')[len(c.get('src'))-5] for c in tds[1].contents])\n",
    "        else:\n",
    "            infos[tds[0].text[:len(tds[0].text)-1]] = tds[1].text.strip(' \\n\\t\\r')\n",
    "    desc = trs[len(trs)-1].find('td').text.strip(' \\n\\t\\r')\n",
    "    return {'name': name, 'desc': desc, 'price': price, 'infos': infos}"
   ]
  },
  {
   "cell_type": "code",
   "execution_count": 195,
   "metadata": {},
   "outputs": [
    {
     "name": "stdout",
     "output_type": "stream",
     "text": [
      "{'name': 'Core Set 2020: Agonizing Syphon', 'desc': 'Agonizing Syphon deals 3 damage to any target and you gain 3 life.', 'price': '$0.25', 'infos': {'Edition': 'Core Set 2020', 'Type': 'Sorcery', 'Cast': '3b', 'Rarity': 'C'}}\n",
      "{'name': 'Core Set 2020: Air Elemental', 'desc': 'Flying', 'price': '$0.25', 'infos': {'Edition': 'Core Set 2020', 'Type': 'Creature - Elemental', 'Cast': '3uu', 'Rarity': 'U', 'Pow/Tuf': '4/4'}}\n",
      "{'name': 'Modern Horizons: Alpine Guide', 'desc': 'When Alpine Guide enters the battlefield, you may search your library for a Mountain card, put that card onto the battlefield tapped, then shuffle your library.\\nAlpine Guide attacks each combat if able.\\nWhen Alpine Guide leaves the battlefield, sacrifice a Mountain.', 'price': '$0.25', 'infos': {'Edition': 'Modern Horizons', 'Type': 'Snow Creature - Human Scout', 'Cast': '2r', 'Rarity': 'U', 'Pow/Tuf': '3/3'}}\n",
      "{'name': 'Modern Horizons: Altar of Dementia', 'desc': \"Sacrifice a creature: Target player puts a number of cards equal to the sacrificed creature's power from the top of their library into their graveyard. \\n Pro Tip!\\n\\nAltar of Dementia is a longtime Commander favorite, especially among players who love to fill up their graveyards. It recently entered the Modern format thanks to a reprint in Modern Horizons.\", 'price': '$1.79', 'infos': {'Edition': 'Modern Horizons', 'Type': 'Artifact', 'Cast': '2', 'Rarity': 'R'}}\n",
      "{'name': 'Modern Horizons: Angel Token', 'desc': 'Flying, vigilance', 'price': '$0.25', 'infos': {'Edition': 'Modern Horizons', 'Type': 'Token Creature - Angel', 'Cast': '', 'Rarity': 'S', 'Pow/Tuf': '4/4'}}\n",
      "{'name': 'Ultimate Masters: Aethersnipe', 'desc': \"When Aethersniper enters the battlefield, return target nonland permanent to its owner's hand.\\nEvoke  (You may cast this spell for its evoke cost. If you do, it's sacrificed when it enters the battlefield.)\", 'price': '$0.25', 'infos': {'Edition': 'Ultimate Masters', 'Type': 'Creature - Elemental', 'Cast': '5u', 'Rarity': 'C', 'Pow/Tuf': '4/4'}}\n",
      "{'name': 'Ultimate Masters: All Is Dust', 'desc': 'Each player sacrifices all colored permanents they control.', 'price': '$9.99', 'infos': {'Edition': 'Ultimate Masters', 'Type': 'Tribal Sorcery - Eldrazi', 'Cast': '7', 'Rarity': 'R'}}\n",
      "{'name': 'Commander 2015: Blasted Landscape', 'desc': ': Add  to your mana pool.\\nCycling  (, Discard this card: Draw a card.)', 'price': '$0.99', 'infos': {'Edition': 'Commander 2015', 'Type': 'Land', 'Cast': '', 'Rarity': 'U'}}\n",
      "{'name': 'Global Series: Jiang Yanggu & Mu Yanling: Island', 'desc': 'No Text', 'price': '$0.35', 'infos': {'Edition': 'Global Series: Jiang Yanggu & Mu Yanling', 'Type': 'Basic Land - Island', 'Cast': '', 'Rarity': 'L'}}\n",
      "{'name': 'Commander 2019: Akoum Refuge', 'desc': 'Akoum Refuge enters the battlefield tapped.\\nWhen Akoum Refuge enters the battlefield, you gain 1 life.\\n: Add  or .', 'price': '$0.25', 'infos': {'Edition': 'Commander 2019', 'Type': 'Land', 'Cast': '', 'Rarity': 'U'}}\n"
     ]
    }
   ],
   "source": [
    "for url in urls:    \n",
    "    html = open(\"./train-set/\" + url, \"r\")\n",
    "    soup = BeautifulSoup(html)\n",
    "    print(extract_cardkingdom(soup))"
   ]
  },
  {
   "cell_type": "markdown",
   "metadata": {},
   "source": [
    "## Starcitygames"
   ]
  },
  {
   "cell_type": "code",
   "execution_count": 198,
   "metadata": {},
   "outputs": [],
   "source": [
    "urls = [\"http://www.starcitygames.com/catalog/magic_the_gathering/product/1385121\",\n",
    "\"http://www.starcitygames.com/catalog/magic_the_gathering/product/1423921\",\n",
    "\"http://www.starcitygames.com/catalog/magic_the_gathering/product/7655/43686\",\n",
    "\"http://www.starcitygames.com/catalog/magic_the_gathering/product/1264395\",\n",
    "\"http://www.starcitygames.com/catalog/magic_the_gathering/product/57426/165797\",\n",
    "\"http://www.starcitygames.com/catalog/magic_the_gathering/product/57204\",\n",
    "\"http://www.starcitygames.com/catalog/magic_the_gathering/product/57462\",\n",
    "\"http://www.starcitygames.com/catalog/magic_the_gathering/product/57556\",\n",
    "\"http://www.starcitygames.com/catalog/magic_the_gathering/product/6015/27865\",\n",
    "\"http://www.starcitygames.com/catalog/magic_the_gathering/product/6086\"]\n",
    "\n",
    "urls = [encode_url_to_file(url) + \".html\" for url in urls]"
   ]
  },
  {
   "cell_type": "code",
   "execution_count": 271,
   "metadata": {},
   "outputs": [],
   "source": [
    "def get_text_from_value(value): \n",
    "    if value.name == None:\n",
    "        return value.strip()\n",
    "    if value.name == 'i' and value.get('class') != None and len(value.get('class')) == 3:\n",
    "        return value.get('class')[1][len(value.get('class')[1])-1]\n",
    "    else:\n",
    "        return ''.join([get_text_from_value(c) for c in value.contents])\n",
    "    \n",
    "def extract_starcitygames(soup): \n",
    "    table = soup.find('table')\n",
    "    name = table.find('h2').text\n",
    "    div = table.find('div')\n",
    "    price = div.find('span', class_='articletext').find('div').text\n",
    "    parent = div.find('div', class_='card_desc_details').find('strong').parent\n",
    "    infos = {}\n",
    "    key = ''\n",
    "    value = ''\n",
    "    for i, child in enumerate(parent.children):\n",
    "        if child.name == 'br' and key != '':\n",
    "            infos[key] = value.strip()\n",
    "            key = ''\n",
    "            value = ''\n",
    "            continue\n",
    "        if key != '':\n",
    "            value = value + ' ' + get_text_from_value(child)\n",
    "        if child.name == 'strong':\n",
    "            key = child.text[:len(child.text)-1]\n",
    "    return {'name': name, 'price': price, 'infos': infos}"
   ]
  },
  {
   "cell_type": "code",
   "execution_count": 272,
   "metadata": {},
   "outputs": [
    {
     "name": "stdout",
     "output_type": "stream",
     "text": [
      "{'name': 'Forest', 'price': 'Price: $0.25', 'infos': {'Card Type': 'Basic Land', 'Subtype': 'Forest', 'Card Text': 'G', 'Oracle Text': 'G', 'Artist': 'Dimitar', 'Rarity': 'Basic Land'}}\n",
      "{'name': 'Mountain', 'price': 'Price: $0.25', 'infos': {'Card Type': 'Basic Land', 'Subtype': 'Mountain', 'Card Text': 'R', 'Oracle Text': 'R', 'Artist': 'Titus Lunter', 'Rarity': 'Basic Land'}}\n",
      "{'name': 'Blasted Landscape', 'price': 'Price: $0.99', 'infos': {'Card Type': 'Land', 'Card Text': 'ocT: Add one colorless mana to your mana pool.', 'Oracle Text': 'Tap: Add C.', 'Artist': 'Ciruelo', 'Rarity': 'Uncommon'}}\n",
      "{'name': 'Brazen Scourge', 'price': 'Price: $0.25', 'infos': {'Card Type': 'Creature', 'Creature Type': 'Gremlin', 'Power/Toughness': '3/3', 'Casting Cost': '1 r r', 'Card Text': 'Haste', 'Oracle Text': 'Haste', 'Flavor Text': 'Driven by an insatiable hunger, gremlins never cease feeding. They can destroy a lifetime of work in just a few moments.', 'Artist': 'Kev Walker', 'Rarity': 'Uncommon'}}\n",
      "{'name': 'Chandra Nalaar', 'price': 'Price: $2.49', 'infos': {'Card Type': 'Legendary Planeswalker', 'Subtype': 'Chandra', 'Loyalty': '6', 'Casting Cost': '3 r r', 'Card Text': '+1: Chandra Nalaar deals 1 damage to target player.', 'Oracle Text': '+1: Chandra Nalaar deals 1 damage to target player or planeswalker.', 'Artist': 'Aleksi Briclot', 'Rarity': 'Mythic Rare'}}\n",
      "{'name': 'Child of Night', 'price': 'Price: $0.15', 'infos': {'Card Type': 'Creature', 'Creature Type': 'Vampire', 'Power/Toughness': '2/1', 'Casting Cost': '1 b', 'Card Text': 'Lifelink (Damage dealt by this creature also causes you to gain that much life.)', 'Oracle Text': 'Lifelink', 'Flavor Text': 'A vampire enacts vengeance on the entire world, claiming her debt two tiny pinpricks at a time.', 'Artist': 'Ash Wood', 'Rarity': 'Common'}}\n",
      "{'name': 'Clone', 'price': 'Price: $0.49', 'infos': {'Card Type': 'Creature', 'Creature Type': 'Shapeshifter', 'Power/Toughness': '0/0', 'Casting Cost': '3 u', 'Card Text': 'You may have Clone enter the battlefield as a copy of any creature on the battlefield.', 'Oracle Text': 'You may have Clone enter the battlefield as a copy of any creature on the battlefield.', 'Flavor Text': \"The shapeshifter mimics with a twin's esteem and a mirror's cruelty.\", 'Artist': 'Kev Walker', 'Rarity': 'Rare'}}\n",
      "{'name': 'Acidic Slime', 'price': 'Price: $0.29', 'infos': {'Card Type': 'Creature', 'Creature Type': 'Ooze', 'Power/Toughness': '2/2', 'Casting Cost': '3 g g', 'Card Text': \"Deathtouch (Creatures dealt damage by this creature are destroyed. You can divide this creature's combat damage among any of the creatures blocking or blocked by it.)\", 'Oracle Text': 'Deathtouch (Any amount of damage this deals to a creature is enough to destroy it.)', 'Artist': 'Karl Kopinski', 'Rarity': 'Uncommon'}}\n",
      "{'name': 'Arcane Laboratory', 'price': 'Price: $1.49', 'infos': {'Card Type': 'Enchantment', 'Casting Cost': '2 u', 'Card Text': \"Each player can't play more than one spell each turn.\", 'Oracle Text': \"Each player can't cast more than one spell each turn.\", 'Flavor Text': 'Too many wizards spoil the spell, but too many spells spoil the wizard.—Sign on entry to arcane lab', 'Artist': 'Brian Snoddy', 'Rarity': 'Uncommon'}}\n",
      "{'name': 'Abyssal Horror', 'price': 'Price: $0.49', 'infos': {'Card Type': 'Creature', 'Creature Type': 'Horror', 'Power/Toughness': '2/2', 'Casting Cost': '4 b b', 'Card Text': 'Flying', 'Oracle Text': 'Flying', 'Flavor Text': '\"I dreamt of it once. Now I fear it dreams of me.\"—Tolarian scholar', 'Artist': 'Daren Bader', 'Rarity': 'Rare'}}\n"
     ]
    }
   ],
   "source": [
    "for url in urls:    \n",
    "    html = open(\"./train-set/\" + url, \"r\")\n",
    "    soup = BeautifulSoup(html)\n",
    "    print(extract_starcitygames(soup))"
   ]
  },
  {
   "cell_type": "markdown",
   "metadata": {},
   "source": [
    "## Mtgmintcards"
   ]
  },
  {
   "cell_type": "code",
   "execution_count": null,
   "metadata": {},
   "outputs": [],
   "source": [
    "urls = []\n",
    "\n",
    "urls = [encode_url_to_file(url) + \".html\" for url in urls]"
   ]
  },
  {
   "cell_type": "code",
   "execution_count": null,
   "metadata": {},
   "outputs": [],
   "source": [
    "def extract_mtgmintcards(url):\n",
    "    titulo = soup.find('h1',class_='pd-card-name').text\n",
    "    sets = soup.find('span',{'itemprop':'model'}).text\n",
    "    categoria = soup.find('span',{'itemprop':\"category\"}).text\n",
    "    preço = '$ ' + soup.find('span',{'itemprop':'price'}).text\n",
    "    divInfo = soup.find('div',class_=\"col-sm-6\",style=\"margin-top: 4px;\")\n",
    "    raridade = divInfo.find('span',{'itemprop':'model'}).text\n",
    "    descrição = divInfo.find('span',{'itemprop':'description'}).text\n",
    "    marca = divInfo.find('span',{'itemprop':\"brand\"}).text\n",
    "    \n",
    "    return infoMtgmintCard.append(dict(zip(['Titulo','Set','Categoria','Preço','Raridade','Marca','Descrição'],[titulo,sets,categoria,preço,raridade,marca,descrição])))\n"
   ]
  },
  {
   "cell_type": "code",
   "execution_count": null,
   "metadata": {},
   "outputs": [],
   "source": [
    "for url in urls:\n",
    "    Extract_MtgMintCards(url)"
   ]
  },
  {
   "cell_type": "code",
   "execution_count": null,
   "metadata": {},
   "outputs": [],
   "source": [
    "data = pd.DataFrame(infoMtgmintCard,columns=['Titulo','Set','Categoria','Preço','Raridade','Marca','Descrição'])\n",
    "data"
   ]
  },
  {
   "cell_type": "markdown",
   "metadata": {},
   "source": [
    "## Scryfall"
   ]
  },
  {
   "cell_type": "code",
   "execution_count": 327,
   "metadata": {},
   "outputs": [],
   "source": [
    "urls = [\"https://scryfall.com/card/gk2/60/auger-spree\",\n",
    "\"https://scryfall.com/card/gk2/7/archon-of-the-triumvirate\",\n",
    "\"https://scryfall.com/card/c19/227/ash-barrens\",\n",
    "\"https://scryfall.com/card/mh1/195/cloudshredder-sliver\",\n",
    "\"https://scryfall.com/card/c19/227/ash-barrens\",\n",
    "\"https://scryfall.com/card/c19/37/anje-falkenrath\",\n",
    "\"https://scryfall.com/card/c19/226/akoum-refuge\",\n",
    "\"https://scryfall.com/card/eld/112/barge-in\",\n",
    "\"https://scryfall.com/card/eld/38/animating-faerie-bring-to-life\",\n",
    "\"https://scryfall.com/card/eld/324/alela-artful-provocateur\"]\n",
    "\n",
    "urls = [encode_url_to_file(url) + \".html\" for url in urls]"
   ]
  },
  {
   "cell_type": "code",
   "execution_count": 330,
   "metadata": {},
   "outputs": [],
   "source": [
    "def extract_scryfall(soup):\n",
    "    divInfo = soup.find('div',class_=\"card-text\")\n",
    "    titulo = divInfo.find('h1',class_='card-text-title').text.strip(\" \\n\\t\\r\")\n",
    "    descrição = divInfo.find('div',class_='card-text-oracle').text.strip(\" \\n\\t\\r\")\n",
    "    sets = soup.find('span',class_='prints-current-set-name').text.strip(\" \\n\\t\\r\")\n",
    "    raridadeCategoria = soup.find('span',class_='prints-current-set-details').text.strip(\" \\n\\t\\r\")\n",
    "    raridadeCategoria = re.findall(\"[a-zA-Z0-9]+\", raridadeCategoria)\n",
    "    raridade = raridadeCategoria[1:-1]\n",
    "    categoria = raridadeCategoria[-1]\n",
    "    \n",
    "    return dict(zip(['Titulo','Set','Categoria','Raridade','Descrição'],[titulo,sets,categoria,raridade,descrição]))"
   ]
  },
  {
   "cell_type": "code",
   "execution_count": 331,
   "metadata": {},
   "outputs": [
    {
     "name": "stdout",
     "output_type": "stream",
     "text": [
      "{'Titulo': 'Auger Spree\\n            {1}{B}{R}', 'Set': 'RNA Guild Kit (GK2)', 'Categoria': 'English', 'Raridade': ['Common'], 'Descrição': 'Target creature gets +4/-4 until end of turn.'}\n",
      "{'Titulo': 'Archon of the Triumvirate\\n            {5}{W}{U}', 'Set': 'RNA Guild Kit (GK2)', 'Categoria': 'English', 'Raridade': ['Rare'], 'Descrição': 'Flying\\nWhenever Archon of the Triumvirate attacks, detain up to two target nonland permanents your opponents control. (Until your next turn, those permanents can’t attack or block and their activated abilities can’t be activated.)'}\n",
      "{'Titulo': 'Ash Barrens', 'Set': 'Commander 2019 (C19)', 'Categoria': 'English', 'Raridade': ['Common'], 'Descrição': '{T}: Add {C}.\\nBasic landcycling {1} ({1}, Discard this card: Search your library for a basic land card, reveal it, put it into your hand, then shuffle your library.)'}\n",
      "{'Titulo': 'Cloudshredder Sliver\\n            {R}{W}', 'Set': 'Modern Horizons (MH1)', 'Categoria': 'English', 'Raridade': ['Rare'], 'Descrição': 'Sliver creatures you control have flying and haste.'}\n",
      "{'Titulo': 'Ash Barrens', 'Set': 'Commander 2019 (C19)', 'Categoria': 'English', 'Raridade': ['Common'], 'Descrição': '{T}: Add {C}.\\nBasic landcycling {1} ({1}, Discard this card: Search your library for a basic land card, reveal it, put it into your hand, then shuffle your library.)'}\n",
      "{'Titulo': 'Anje Falkenrath\\n            {1}{B}{R}', 'Set': 'Commander 2019 (C19)', 'Categoria': 'English', 'Raridade': ['Mythic', 'Rare'], 'Descrição': 'Haste\\n{T}, Discard a card: Draw a card.\\nWhenever you discard a card, if it has madness, untap Anje Falkenrath.'}\n",
      "{'Titulo': 'Akoum Refuge', 'Set': 'Commander 2019 (C19)', 'Categoria': 'English', 'Raridade': ['Uncommon'], 'Descrição': 'Akoum Refuge enters the battlefield tapped.\\nWhen Akoum Refuge enters the battlefield, you gain 1 life.\\n{T}: Add {B} or {R}.'}\n",
      "{'Titulo': 'Barge In\\n            {R}', 'Set': 'Throne of Eldraine (ELD)', 'Categoria': 'English', 'Raridade': ['Common'], 'Descrição': 'Target attacking creature gets +2/+2 until end of turn. Each attacking non-Human creature gains trample until end of turn.'}\n",
      "{'Titulo': 'Animating Faerie\\n            {2}{U}', 'Set': 'Throne of Eldraine (ELD)', 'Categoria': 'English', 'Raridade': ['Uncommon'], 'Descrição': 'Flying'}\n",
      "{'Titulo': 'Alela, Artful Provocateur\\n            {1}{W}{U}{B}', 'Set': 'Throne of Eldraine (ELD)', 'Categoria': 'English', 'Raridade': ['Mythic', 'Rare'], 'Descrição': 'Flying, deathtouch, lifelink\\nOther creatures you control with flying get +1/+0.\\nWhenever you cast an artifact or enchantment spell, create a 1/1 blue Faerie creature token with flying.'}\n"
     ]
    }
   ],
   "source": [
    "for url in urls:    \n",
    "    html = open(\"./train-set/\" + url, \"r\")\n",
    "    soup = BeautifulSoup(html)\n",
    "    print(extract_scryfall(soup))"
   ]
  },
  {
   "cell_type": "markdown",
   "metadata": {},
   "source": [
    "## Abugames"
   ]
  },
  {
   "cell_type": "code",
   "execution_count": 332,
   "metadata": {},
   "outputs": [],
   "source": [
    "urls = [\"https://abugames.com/magic-the-gathering/singles/product-detail/Ainok-Survivalist/Commander-2019/English\",\n",
    "\"https://abugames.com/magic-the-gathering/singles/product-detail/Vivien's-Crocodile/Core-Set-2020-%2F-M20/English\",\n",
    "\"https://abugames.com/magic-the-gathering/singles/product-detail/Vivien,-Arkbow-Ranger/Core-Set-2020-%2F-M20/English\",\n",
    "\"https://abugames.com/magic-the-gathering/singles/product-detail/Zephyr-Charge/Core-Set-2020-%2F-M20/English\",\n",
    "\"https://abugames.com/magic-the-gathering/singles/product-detail/Bladebrand/Core-Set-2020-%2F-M20/English\",\n",
    "\"https://abugames.com/magic-the-gathering/singles/product-detail/Bishop-of-Wings-%252D-%2528Promo-Pack%2529/Core-Set-2020-%2F-M20/English\",\n",
    "\"https://abugames.com/magic-the-gathering/singles/product-detail/Agent-of-Treachery/Core-Set-2020-%2F-M20/English\",\n",
    "\"https://abugames.com/magic-the-gathering/singles/product-detail/Ash-Barrens/Commander-2019/English\",\n",
    "\"https://abugames.com/magic-the-gathering/singles/product-detail/Anje's-Ravager/Commander-2019/English\",\n",
    "\"https://abugames.com/magic-the-gathering/singles/product-detail/Akoum-Refuge/Commander-2019/English\"]\n",
    "\n",
    "urls = [encode_url_to_file(url) + \".html\" for url in urls]"
   ]
  },
  {
   "cell_type": "code",
   "execution_count": 333,
   "metadata": {},
   "outputs": [],
   "source": [
    "def extractor_abugames(soup):    \n",
    "    divInfo = soup.find('div',class_='row first')\n",
    "    titulo = divInfo.find('h1').text\n",
    "    sets = divInfo.find('div',class_=\"col-md-2 col-sm-2 col-xs-4\").text\n",
    "    descrição = soup.find('div',{'id':\"originalTextundefined\"}).text\n",
    "\n",
    "    info = soup.find('div',class_=\"tableHere ng-star-inserted\")\n",
    "    info.text.split()\n",
    "\n",
    "    raridade = info.text.split()[-1]\n",
    "    raridade = raridade[0:]\n",
    "\n",
    "    tipo = info.text.split()[1:4]\n",
    "\n",
    "    return infoAbu.append(dict(zip(['Titulo','Set','Raridade','Descrição','Tipo'],[titulo,sets,raridade,descrição,tipo])))"
   ]
  },
  {
   "cell_type": "code",
   "execution_count": 334,
   "metadata": {},
   "outputs": [
    {
     "ename": "AttributeError",
     "evalue": "'NoneType' object has no attribute 'find'",
     "output_type": "error",
     "traceback": [
      "\u001b[0;31m---------------------------------------------------------------------------\u001b[0m",
      "\u001b[0;31mAttributeError\u001b[0m                            Traceback (most recent call last)",
      "\u001b[0;32m<ipython-input-334-dfed135f7eaa>\u001b[0m in \u001b[0;36m<module>\u001b[0;34m\u001b[0m\n\u001b[1;32m      2\u001b[0m     \u001b[0mhtml\u001b[0m \u001b[0;34m=\u001b[0m \u001b[0mopen\u001b[0m\u001b[0;34m(\u001b[0m\u001b[0;34m\"./train-set/\"\u001b[0m \u001b[0;34m+\u001b[0m \u001b[0murl\u001b[0m\u001b[0;34m,\u001b[0m \u001b[0;34m\"r\"\u001b[0m\u001b[0;34m)\u001b[0m\u001b[0;34m\u001b[0m\u001b[0;34m\u001b[0m\u001b[0m\n\u001b[1;32m      3\u001b[0m     \u001b[0msoup\u001b[0m \u001b[0;34m=\u001b[0m \u001b[0mBeautifulSoup\u001b[0m\u001b[0;34m(\u001b[0m\u001b[0mhtml\u001b[0m\u001b[0;34m)\u001b[0m\u001b[0;34m\u001b[0m\u001b[0;34m\u001b[0m\u001b[0m\n\u001b[0;32m----> 4\u001b[0;31m     \u001b[0mprint\u001b[0m\u001b[0;34m(\u001b[0m\u001b[0mextractor_abugames\u001b[0m\u001b[0;34m(\u001b[0m\u001b[0msoup\u001b[0m\u001b[0;34m)\u001b[0m\u001b[0;34m)\u001b[0m\u001b[0;34m\u001b[0m\u001b[0;34m\u001b[0m\u001b[0m\n\u001b[0m",
      "\u001b[0;32m<ipython-input-333-3bc44587d33d>\u001b[0m in \u001b[0;36mextractor_abugames\u001b[0;34m(soup)\u001b[0m\n\u001b[1;32m      1\u001b[0m \u001b[0;32mdef\u001b[0m \u001b[0mextractor_abugames\u001b[0m\u001b[0;34m(\u001b[0m\u001b[0msoup\u001b[0m\u001b[0;34m)\u001b[0m\u001b[0;34m:\u001b[0m\u001b[0;34m\u001b[0m\u001b[0;34m\u001b[0m\u001b[0m\n\u001b[1;32m      2\u001b[0m     \u001b[0mdivInfo\u001b[0m \u001b[0;34m=\u001b[0m \u001b[0msoup\u001b[0m\u001b[0;34m.\u001b[0m\u001b[0mfind\u001b[0m\u001b[0;34m(\u001b[0m\u001b[0;34m'div'\u001b[0m\u001b[0;34m,\u001b[0m\u001b[0mclass_\u001b[0m\u001b[0;34m=\u001b[0m\u001b[0;34m'row first'\u001b[0m\u001b[0;34m)\u001b[0m\u001b[0;34m\u001b[0m\u001b[0;34m\u001b[0m\u001b[0m\n\u001b[0;32m----> 3\u001b[0;31m     \u001b[0mtitulo\u001b[0m \u001b[0;34m=\u001b[0m \u001b[0mdivInfo\u001b[0m\u001b[0;34m.\u001b[0m\u001b[0mfind\u001b[0m\u001b[0;34m(\u001b[0m\u001b[0;34m'h1'\u001b[0m\u001b[0;34m)\u001b[0m\u001b[0;34m.\u001b[0m\u001b[0mtext\u001b[0m\u001b[0;34m\u001b[0m\u001b[0;34m\u001b[0m\u001b[0m\n\u001b[0m\u001b[1;32m      4\u001b[0m     \u001b[0msets\u001b[0m \u001b[0;34m=\u001b[0m \u001b[0mdivInfo\u001b[0m\u001b[0;34m.\u001b[0m\u001b[0mfind\u001b[0m\u001b[0;34m(\u001b[0m\u001b[0;34m'div'\u001b[0m\u001b[0;34m,\u001b[0m\u001b[0mclass_\u001b[0m\u001b[0;34m=\u001b[0m\u001b[0;34m\"col-md-2 col-sm-2 col-xs-4\"\u001b[0m\u001b[0;34m)\u001b[0m\u001b[0;34m.\u001b[0m\u001b[0mtext\u001b[0m\u001b[0;34m\u001b[0m\u001b[0;34m\u001b[0m\u001b[0m\n\u001b[1;32m      5\u001b[0m     \u001b[0mdescrição\u001b[0m \u001b[0;34m=\u001b[0m \u001b[0msoup\u001b[0m\u001b[0;34m.\u001b[0m\u001b[0mfind\u001b[0m\u001b[0;34m(\u001b[0m\u001b[0;34m'div'\u001b[0m\u001b[0;34m,\u001b[0m\u001b[0;34m{\u001b[0m\u001b[0;34m'id'\u001b[0m\u001b[0;34m:\u001b[0m\u001b[0;34m\"originalTextundefined\"\u001b[0m\u001b[0;34m}\u001b[0m\u001b[0;34m)\u001b[0m\u001b[0;34m.\u001b[0m\u001b[0mtext\u001b[0m\u001b[0;34m\u001b[0m\u001b[0;34m\u001b[0m\u001b[0m\n",
      "\u001b[0;31mAttributeError\u001b[0m: 'NoneType' object has no attribute 'find'"
     ]
    }
   ],
   "source": [
    "for url in urls:    \n",
    "    html = open(\"./train-set/\" + url, \"r\")\n",
    "    soup = BeautifulSoup(html)\n",
    "    print(extractor_abugames(soup))"
   ]
  },
  {
   "cell_type": "code",
   "execution_count": null,
   "metadata": {},
   "outputs": [],
   "source": []
  }
 ],
 "metadata": {
  "kernelspec": {
   "display_name": "Python 3",
   "language": "python",
   "name": "python3"
  },
  "language_info": {
   "codemirror_mode": {
    "name": "ipython",
    "version": 3
   },
   "file_extension": ".py",
   "mimetype": "text/x-python",
   "name": "python",
   "nbconvert_exporter": "python",
   "pygments_lexer": "ipython3",
   "version": "3.7.3"
  }
 },
 "nbformat": 4,
 "nbformat_minor": 2
}
