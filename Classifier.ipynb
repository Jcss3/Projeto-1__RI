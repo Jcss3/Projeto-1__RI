{
 "cells": [
  {
   "cell_type": "code",
   "execution_count": 6,
   "metadata": {
    "scrolled": true
   },
   "outputs": [],
   "source": [
    "import nltk\n",
    "import requests\n",
    "from glob import glob\n",
    "import re\n",
    "import os\n",
    "import pandas as pd\n",
    "import numpy as np\n",
    "import matplotlib.pyplot as plt\n",
    "from sklearn.feature_extraction.text import CountVectorizer\n",
    "from sklearn.feature_extraction.text import TfidfTransformer\n",
    "from sklearn.naive_bayes import MultinomialNB\n",
    "from sklearn.pipeline import Pipeline\n",
    "from sklearn import metrics\n",
    "from sklearn.model_selection import train_test_split\n",
    "from sklearn.model_selection import cross_val_score\n",
    "from sklearn.model_selection import GridSearchCV\n",
    "from sklearn.linear_model import SGDClassifier\n",
    "from sklearn import tree\n",
    "from sklearn.neural_network import MLPClassifier\n",
    "from sklearn.linear_model import LogisticRegression\n",
    "from sklearn.svm import SVC\n",
    "\n",
    "%matplotlib inline\n",
    "\n",
    "from bs4 import BeautifulSoup\n",
    "from nltk.corpus import stopwords"
   ]
  },
  {
   "cell_type": "code",
   "execution_count": 7,
   "metadata": {},
   "outputs": [
    {
     "name": "stderr",
     "output_type": "stream",
     "text": [
      "[nltk_data] Downloading package stopwords to\n",
      "[nltk_data]     /Users/luizreis/nltk_data...\n",
      "[nltk_data]   Package stopwords is already up-to-date!\n"
     ]
    },
    {
     "data": {
      "text/plain": [
       "True"
      ]
     },
     "execution_count": 7,
     "metadata": {},
     "output_type": "execute_result"
    }
   ],
   "source": [
    "nltk.download('stopwords')"
   ]
  },
  {
   "cell_type": "markdown",
   "metadata": {},
   "source": [
    "## Downloading Data"
   ]
  },
  {
   "cell_type": "code",
   "execution_count": 8,
   "metadata": {
    "scrolled": true
   },
   "outputs": [],
   "source": [
    "csv = pd.read_csv(\"./conjunto-treinamento-classificador.csv\")"
   ]
  },
  {
   "cell_type": "markdown",
   "metadata": {},
   "source": [
    "## Feature Extraction"
   ]
  },
  {
   "cell_type": "code",
   "execution_count": 9,
   "metadata": {},
   "outputs": [],
   "source": [
    "def encode_url_to_file(url): \n",
    "    return re.sub(\"\\/\", \"-\", url)\n",
    "def get_html_text(url): \n",
    "    page = requests.get(url)\n",
    "    with open(\"./train-set/\" + encode_url_to_file(url) + \".html\", 'w' , encoding='utf-8') as outfile:\n",
    "        outfile.write(page.text)\n",
    "    soup = BeautifulSoup(page.content)\n",
    "    return soup.get_text()\n",
    "\n",
    "def get_text_from_link(link): \n",
    "    html = open(link, \"r\")\n",
    "    soup = BeautifulSoup(html)\n",
    "    return soup.get_text()"
   ]
  },
  {
   "cell_type": "code",
   "execution_count": 10,
   "metadata": {},
   "outputs": [],
   "source": [
    "en_stopwords = set(stopwords.words(\"english\"))\n",
    "\n",
    "def extract_features(text):     \n",
    "    data = re.sub(\"[^a-zA-Z]\", \" \", text).lower()\n",
    "    words = data.split() \n",
    "    return [w for w in words if not w in en_stopwords]"
   ]
  },
  {
   "cell_type": "code",
   "execution_count": 11,
   "metadata": {},
   "outputs": [],
   "source": [
    "bag = csv[\"urls\"].apply(get_html_text)"
   ]
  },
  {
   "cell_type": "code",
   "execution_count": 114,
   "metadata": {},
   "outputs": [
    {
     "name": "stdout",
     "output_type": "stream",
     "text": [
      "139\n"
     ]
    },
    {
     "ename": "KeyboardInterrupt",
     "evalue": "",
     "output_type": "error",
     "traceback": [
      "\u001b[0;31m---------------------------------------------------------------------------\u001b[0m",
      "\u001b[0;31mKeyboardInterrupt\u001b[0m                         Traceback (most recent call last)",
      "\u001b[0;32m<ipython-input-114-031f155bff01>\u001b[0m in \u001b[0;36m<module>\u001b[0;34m\u001b[0m\n\u001b[1;32m      1\u001b[0m \u001b[0mlinks\u001b[0m \u001b[0;34m=\u001b[0m \u001b[0msorted\u001b[0m\u001b[0;34m(\u001b[0m\u001b[0mglob\u001b[0m\u001b[0;34m(\u001b[0m\u001b[0;34m'./Projeto-1__RI/train-set/*.html'\u001b[0m\u001b[0;34m)\u001b[0m\u001b[0;34m,\u001b[0m \u001b[0mkey\u001b[0m\u001b[0;34m=\u001b[0m\u001b[0mos\u001b[0m\u001b[0;34m.\u001b[0m\u001b[0mpath\u001b[0m\u001b[0;34m.\u001b[0m\u001b[0mgetmtime\u001b[0m\u001b[0;34m)\u001b[0m\u001b[0;34m\u001b[0m\u001b[0;34m\u001b[0m\u001b[0m\n\u001b[1;32m      2\u001b[0m \u001b[0mprint\u001b[0m\u001b[0;34m(\u001b[0m\u001b[0mlen\u001b[0m\u001b[0;34m(\u001b[0m\u001b[0mlinks\u001b[0m\u001b[0;34m)\u001b[0m\u001b[0;34m)\u001b[0m\u001b[0;34m\u001b[0m\u001b[0;34m\u001b[0m\u001b[0m\n\u001b[0;32m----> 3\u001b[0;31m \u001b[0mbag\u001b[0m \u001b[0;34m=\u001b[0m \u001b[0;34m[\u001b[0m\u001b[0mget_text_from_link\u001b[0m\u001b[0;34m(\u001b[0m\u001b[0murl\u001b[0m\u001b[0;34m)\u001b[0m \u001b[0;32mfor\u001b[0m \u001b[0murl\u001b[0m \u001b[0;32min\u001b[0m \u001b[0mlinks\u001b[0m\u001b[0;34m]\u001b[0m\u001b[0;34m\u001b[0m\u001b[0;34m\u001b[0m\u001b[0m\n\u001b[0m",
      "\u001b[0;32m<ipython-input-114-031f155bff01>\u001b[0m in \u001b[0;36m<listcomp>\u001b[0;34m(.0)\u001b[0m\n\u001b[1;32m      1\u001b[0m \u001b[0mlinks\u001b[0m \u001b[0;34m=\u001b[0m \u001b[0msorted\u001b[0m\u001b[0;34m(\u001b[0m\u001b[0mglob\u001b[0m\u001b[0;34m(\u001b[0m\u001b[0;34m'./Projeto-1__RI/train-set/*.html'\u001b[0m\u001b[0;34m)\u001b[0m\u001b[0;34m,\u001b[0m \u001b[0mkey\u001b[0m\u001b[0;34m=\u001b[0m\u001b[0mos\u001b[0m\u001b[0;34m.\u001b[0m\u001b[0mpath\u001b[0m\u001b[0;34m.\u001b[0m\u001b[0mgetmtime\u001b[0m\u001b[0;34m)\u001b[0m\u001b[0;34m\u001b[0m\u001b[0;34m\u001b[0m\u001b[0m\n\u001b[1;32m      2\u001b[0m \u001b[0mprint\u001b[0m\u001b[0;34m(\u001b[0m\u001b[0mlen\u001b[0m\u001b[0;34m(\u001b[0m\u001b[0mlinks\u001b[0m\u001b[0;34m)\u001b[0m\u001b[0;34m)\u001b[0m\u001b[0;34m\u001b[0m\u001b[0;34m\u001b[0m\u001b[0m\n\u001b[0;32m----> 3\u001b[0;31m \u001b[0mbag\u001b[0m \u001b[0;34m=\u001b[0m \u001b[0;34m[\u001b[0m\u001b[0mget_text_from_link\u001b[0m\u001b[0;34m(\u001b[0m\u001b[0murl\u001b[0m\u001b[0;34m)\u001b[0m \u001b[0;32mfor\u001b[0m \u001b[0murl\u001b[0m \u001b[0;32min\u001b[0m \u001b[0mlinks\u001b[0m\u001b[0;34m]\u001b[0m\u001b[0;34m\u001b[0m\u001b[0;34m\u001b[0m\u001b[0m\n\u001b[0m",
      "\u001b[0;32m<ipython-input-99-549d4bb15ded>\u001b[0m in \u001b[0;36mget_text_from_link\u001b[0;34m(link)\u001b[0m\n\u001b[1;32m     10\u001b[0m \u001b[0;32mdef\u001b[0m \u001b[0mget_text_from_link\u001b[0m\u001b[0;34m(\u001b[0m\u001b[0mlink\u001b[0m\u001b[0;34m)\u001b[0m\u001b[0;34m:\u001b[0m\u001b[0;34m\u001b[0m\u001b[0;34m\u001b[0m\u001b[0m\n\u001b[1;32m     11\u001b[0m     \u001b[0mhtml\u001b[0m \u001b[0;34m=\u001b[0m \u001b[0mopen\u001b[0m\u001b[0;34m(\u001b[0m\u001b[0mlink\u001b[0m\u001b[0;34m,\u001b[0m \u001b[0;34m\"r\"\u001b[0m\u001b[0;34m)\u001b[0m\u001b[0;34m\u001b[0m\u001b[0;34m\u001b[0m\u001b[0m\n\u001b[0;32m---> 12\u001b[0;31m     \u001b[0msoup\u001b[0m \u001b[0;34m=\u001b[0m \u001b[0mBeautifulSoup\u001b[0m\u001b[0;34m(\u001b[0m\u001b[0mhtml\u001b[0m\u001b[0;34m)\u001b[0m\u001b[0;34m\u001b[0m\u001b[0;34m\u001b[0m\u001b[0m\n\u001b[0m\u001b[1;32m     13\u001b[0m     \u001b[0;32mreturn\u001b[0m \u001b[0msoup\u001b[0m\u001b[0;34m.\u001b[0m\u001b[0mget_text\u001b[0m\u001b[0;34m(\u001b[0m\u001b[0;34m)\u001b[0m\u001b[0;34m\u001b[0m\u001b[0;34m\u001b[0m\u001b[0m\n",
      "\u001b[0;32m~/anaconda3/lib/python3.7/site-packages/bs4/__init__.py\u001b[0m in \u001b[0;36m__init__\u001b[0;34m(self, markup, features, builder, parse_only, from_encoding, exclude_encodings, **kwargs)\u001b[0m\n\u001b[1;32m    279\u001b[0m             \u001b[0mself\u001b[0m\u001b[0;34m.\u001b[0m\u001b[0mreset\u001b[0m\u001b[0;34m(\u001b[0m\u001b[0;34m)\u001b[0m\u001b[0;34m\u001b[0m\u001b[0;34m\u001b[0m\u001b[0m\n\u001b[1;32m    280\u001b[0m             \u001b[0;32mtry\u001b[0m\u001b[0;34m:\u001b[0m\u001b[0;34m\u001b[0m\u001b[0;34m\u001b[0m\u001b[0m\n\u001b[0;32m--> 281\u001b[0;31m                 \u001b[0mself\u001b[0m\u001b[0;34m.\u001b[0m\u001b[0m_feed\u001b[0m\u001b[0;34m(\u001b[0m\u001b[0;34m)\u001b[0m\u001b[0;34m\u001b[0m\u001b[0;34m\u001b[0m\u001b[0m\n\u001b[0m\u001b[1;32m    282\u001b[0m                 \u001b[0;32mbreak\u001b[0m\u001b[0;34m\u001b[0m\u001b[0;34m\u001b[0m\u001b[0m\n\u001b[1;32m    283\u001b[0m             \u001b[0;32mexcept\u001b[0m \u001b[0mParserRejectedMarkup\u001b[0m\u001b[0;34m:\u001b[0m\u001b[0;34m\u001b[0m\u001b[0;34m\u001b[0m\u001b[0m\n",
      "\u001b[0;32m~/anaconda3/lib/python3.7/site-packages/bs4/__init__.py\u001b[0m in \u001b[0;36m_feed\u001b[0;34m(self)\u001b[0m\n\u001b[1;32m    340\u001b[0m         \u001b[0mself\u001b[0m\u001b[0;34m.\u001b[0m\u001b[0mbuilder\u001b[0m\u001b[0;34m.\u001b[0m\u001b[0mreset\u001b[0m\u001b[0;34m(\u001b[0m\u001b[0;34m)\u001b[0m\u001b[0;34m\u001b[0m\u001b[0;34m\u001b[0m\u001b[0m\n\u001b[1;32m    341\u001b[0m \u001b[0;34m\u001b[0m\u001b[0m\n\u001b[0;32m--> 342\u001b[0;31m         \u001b[0mself\u001b[0m\u001b[0;34m.\u001b[0m\u001b[0mbuilder\u001b[0m\u001b[0;34m.\u001b[0m\u001b[0mfeed\u001b[0m\u001b[0;34m(\u001b[0m\u001b[0mself\u001b[0m\u001b[0;34m.\u001b[0m\u001b[0mmarkup\u001b[0m\u001b[0;34m)\u001b[0m\u001b[0;34m\u001b[0m\u001b[0;34m\u001b[0m\u001b[0m\n\u001b[0m\u001b[1;32m    343\u001b[0m         \u001b[0;31m# Close out any unfinished strings and close all the open tags.\u001b[0m\u001b[0;34m\u001b[0m\u001b[0;34m\u001b[0m\u001b[0;34m\u001b[0m\u001b[0m\n\u001b[1;32m    344\u001b[0m         \u001b[0mself\u001b[0m\u001b[0;34m.\u001b[0m\u001b[0mendData\u001b[0m\u001b[0;34m(\u001b[0m\u001b[0;34m)\u001b[0m\u001b[0;34m\u001b[0m\u001b[0;34m\u001b[0m\u001b[0m\n",
      "\u001b[0;32m~/anaconda3/lib/python3.7/site-packages/bs4/builder/_lxml.py\u001b[0m in \u001b[0;36mfeed\u001b[0;34m(self, markup)\u001b[0m\n\u001b[1;32m    285\u001b[0m         \u001b[0;32mtry\u001b[0m\u001b[0;34m:\u001b[0m\u001b[0;34m\u001b[0m\u001b[0;34m\u001b[0m\u001b[0m\n\u001b[1;32m    286\u001b[0m             \u001b[0mself\u001b[0m\u001b[0;34m.\u001b[0m\u001b[0mparser\u001b[0m \u001b[0;34m=\u001b[0m \u001b[0mself\u001b[0m\u001b[0;34m.\u001b[0m\u001b[0mparser_for\u001b[0m\u001b[0;34m(\u001b[0m\u001b[0mencoding\u001b[0m\u001b[0;34m)\u001b[0m\u001b[0;34m\u001b[0m\u001b[0;34m\u001b[0m\u001b[0m\n\u001b[0;32m--> 287\u001b[0;31m             \u001b[0mself\u001b[0m\u001b[0;34m.\u001b[0m\u001b[0mparser\u001b[0m\u001b[0;34m.\u001b[0m\u001b[0mfeed\u001b[0m\u001b[0;34m(\u001b[0m\u001b[0mmarkup\u001b[0m\u001b[0;34m)\u001b[0m\u001b[0;34m\u001b[0m\u001b[0;34m\u001b[0m\u001b[0m\n\u001b[0m\u001b[1;32m    288\u001b[0m             \u001b[0mself\u001b[0m\u001b[0;34m.\u001b[0m\u001b[0mparser\u001b[0m\u001b[0;34m.\u001b[0m\u001b[0mclose\u001b[0m\u001b[0;34m(\u001b[0m\u001b[0;34m)\u001b[0m\u001b[0;34m\u001b[0m\u001b[0;34m\u001b[0m\u001b[0m\n\u001b[1;32m    289\u001b[0m         \u001b[0;32mexcept\u001b[0m \u001b[0;34m(\u001b[0m\u001b[0mUnicodeDecodeError\u001b[0m\u001b[0;34m,\u001b[0m \u001b[0mLookupError\u001b[0m\u001b[0;34m,\u001b[0m \u001b[0metree\u001b[0m\u001b[0;34m.\u001b[0m\u001b[0mParserError\u001b[0m\u001b[0;34m)\u001b[0m \u001b[0;32mas\u001b[0m \u001b[0me\u001b[0m\u001b[0;34m:\u001b[0m\u001b[0;34m\u001b[0m\u001b[0;34m\u001b[0m\u001b[0m\n",
      "\u001b[0;32msrc/lxml/parser.pxi\u001b[0m in \u001b[0;36mlxml.etree._FeedParser.feed\u001b[0;34m()\u001b[0m\n",
      "\u001b[0;32msrc/lxml/parser.pxi\u001b[0m in \u001b[0;36mlxml.etree._FeedParser.feed\u001b[0;34m()\u001b[0m\n",
      "\u001b[0;32msrc/lxml/parsertarget.pxi\u001b[0m in \u001b[0;36mlxml.etree._TargetParserContext._handleParseResult\u001b[0;34m()\u001b[0m\n",
      "\u001b[0;32msrc/lxml/parsertarget.pxi\u001b[0m in \u001b[0;36mlxml.etree._TargetParserContext._handleParseResult\u001b[0;34m()\u001b[0m\n",
      "\u001b[0;32msrc/lxml/etree.pyx\u001b[0m in \u001b[0;36mlxml.etree._ExceptionContext._raise_if_stored\u001b[0;34m()\u001b[0m\n",
      "\u001b[0;32msrc/lxml/saxparser.pxi\u001b[0m in \u001b[0;36mlxml.etree._handleSaxTargetStartNoNs\u001b[0;34m()\u001b[0m\n",
      "\u001b[0;32msrc/lxml/saxparser.pxi\u001b[0m in \u001b[0;36mlxml.etree._callTargetSaxStart\u001b[0;34m()\u001b[0m\n",
      "\u001b[0;32msrc/lxml/parsertarget.pxi\u001b[0m in \u001b[0;36mlxml.etree._PythonSaxParserTarget._handleSaxStart\u001b[0;34m()\u001b[0m\n",
      "\u001b[0;32m~/anaconda3/lib/python3.7/site-packages/bs4/builder/_lxml.py\u001b[0m in \u001b[0;36mstart\u001b[0;34m(self, name, attrs, nsmap)\u001b[0m\n\u001b[1;32m    217\u001b[0m \u001b[0;34m\u001b[0m\u001b[0m\n\u001b[1;32m    218\u001b[0m         \u001b[0mnamespace\u001b[0m\u001b[0;34m,\u001b[0m \u001b[0mname\u001b[0m \u001b[0;34m=\u001b[0m \u001b[0mself\u001b[0m\u001b[0;34m.\u001b[0m\u001b[0m_getNsTag\u001b[0m\u001b[0;34m(\u001b[0m\u001b[0mname\u001b[0m\u001b[0;34m)\u001b[0m\u001b[0;34m\u001b[0m\u001b[0;34m\u001b[0m\u001b[0m\n\u001b[0;32m--> 219\u001b[0;31m         \u001b[0mnsprefix\u001b[0m \u001b[0;34m=\u001b[0m \u001b[0mself\u001b[0m\u001b[0;34m.\u001b[0m\u001b[0m_prefix_for_namespace\u001b[0m\u001b[0;34m(\u001b[0m\u001b[0mnamespace\u001b[0m\u001b[0;34m)\u001b[0m\u001b[0;34m\u001b[0m\u001b[0;34m\u001b[0m\u001b[0m\n\u001b[0m\u001b[1;32m    220\u001b[0m         \u001b[0mself\u001b[0m\u001b[0;34m.\u001b[0m\u001b[0msoup\u001b[0m\u001b[0;34m.\u001b[0m\u001b[0mhandle_starttag\u001b[0m\u001b[0;34m(\u001b[0m\u001b[0mname\u001b[0m\u001b[0;34m,\u001b[0m \u001b[0mnamespace\u001b[0m\u001b[0;34m,\u001b[0m \u001b[0mnsprefix\u001b[0m\u001b[0;34m,\u001b[0m \u001b[0mattrs\u001b[0m\u001b[0;34m)\u001b[0m\u001b[0;34m\u001b[0m\u001b[0;34m\u001b[0m\u001b[0m\n\u001b[1;32m    221\u001b[0m \u001b[0;34m\u001b[0m\u001b[0m\n",
      "\u001b[0;31mKeyboardInterrupt\u001b[0m: "
     ]
    }
   ],
   "source": [
    "links = sorted(glob('./train-set/*.html'), key=os.path.getmtime)\n",
    "print(len(links))\n",
    "bag = [get_text_from_link(url) for url in links]"
   ]
  },
  {
   "cell_type": "code",
   "execution_count": 109,
   "metadata": {
    "scrolled": false
   },
   "outputs": [],
   "source": [
    "bag = [' '.join(extract_features(b)) for b in bag]"
   ]
  },
  {
   "cell_type": "markdown",
   "metadata": {},
   "source": [
    "## Preprocessing"
   ]
  },
  {
   "cell_type": "markdown",
   "metadata": {},
   "source": [
    "## Pipeline"
   ]
  },
  {
   "cell_type": "code",
   "execution_count": 110,
   "metadata": {},
   "outputs": [],
   "source": [
    "def train(clf, data, target):\n",
    "    pipe_clf = Pipeline([\n",
    "        ('vect', CountVectorizer(analyzer = \"word\",\n",
    "                                 tokenizer = None,    \n",
    "                                 preprocessor = None,\n",
    "                                 stop_words = None)),\n",
    "        ('tfidf', TfidfTransformer()),\n",
    "        ('clf', clf),\n",
    "    ])\n",
    "    parameters = {\n",
    "        'vect__ngram_range': [(1, 1), (1, 2)],\n",
    "        'vect__max_features': [500, 1000, 5000],\n",
    "        'tfidf__use_idf': (True, False),\n",
    "        #'clf__alpha': (1e-2, 1e-3),\n",
    "    }\n",
    "    gs_clf = GridSearchCV(pipe_clf, parameters, cv=10, iid=False, n_jobs=-1)\n",
    "    return gs_clf.fit(data, target)\n",
    "    "
   ]
  },
  {
   "cell_type": "code",
   "execution_count": 111,
   "metadata": {},
   "outputs": [],
   "source": [
    "clfs = [SVC(), MultinomialNB(), SGDClassifier(), LogisticRegression(), tree.DecisionTreeClassifier(), MLPClassifier()]"
   ]
  },
  {
   "cell_type": "code",
   "execution_count": 113,
   "metadata": {},
   "outputs": [
    {
     "name": "stdout",
     "output_type": "stream",
     "text": [
      "140\n"
     ]
    }
   ],
   "source": [
    "print(len(csv[\"target\"].tolist()))"
   ]
  },
  {
   "cell_type": "code",
   "execution_count": 91,
   "metadata": {},
   "outputs": [
    {
     "ename": "ValueError",
     "evalue": "Found input variables with inconsistent numbers of samples: [139, 160]",
     "output_type": "error",
     "traceback": [
      "\u001b[0;31m---------------------------------------------------------------------------\u001b[0m",
      "\u001b[0;31mValueError\u001b[0m                                Traceback (most recent call last)",
      "\u001b[0;32m<ipython-input-91-c13401496b98>\u001b[0m in \u001b[0;36m<module>\u001b[0;34m\u001b[0m\n\u001b[1;32m      1\u001b[0m \u001b[0;32mfor\u001b[0m \u001b[0mclf\u001b[0m \u001b[0;32min\u001b[0m \u001b[0mclfs\u001b[0m\u001b[0;34m:\u001b[0m\u001b[0;34m\u001b[0m\u001b[0;34m\u001b[0m\u001b[0m\n\u001b[0;32m----> 2\u001b[0;31m     \u001b[0mclf\u001b[0m \u001b[0;34m=\u001b[0m \u001b[0mtrain\u001b[0m\u001b[0;34m(\u001b[0m\u001b[0mclf\u001b[0m\u001b[0;34m,\u001b[0m \u001b[0mbag\u001b[0m\u001b[0;34m,\u001b[0m \u001b[0mcsv\u001b[0m\u001b[0;34m[\u001b[0m\u001b[0;34m\"target\"\u001b[0m\u001b[0;34m]\u001b[0m\u001b[0;34m.\u001b[0m\u001b[0mtolist\u001b[0m\u001b[0;34m(\u001b[0m\u001b[0;34m)\u001b[0m\u001b[0;34m)\u001b[0m\u001b[0;34m\u001b[0m\u001b[0;34m\u001b[0m\u001b[0m\n\u001b[0m\u001b[1;32m      3\u001b[0m     \u001b[0mprint\u001b[0m\u001b[0;34m(\u001b[0m\u001b[0mclf\u001b[0m\u001b[0;34m.\u001b[0m\u001b[0mbest_score_\u001b[0m\u001b[0;34m)\u001b[0m\u001b[0;34m\u001b[0m\u001b[0;34m\u001b[0m\u001b[0m\n",
      "\u001b[0;32m<ipython-input-89-5b6236376f48>\u001b[0m in \u001b[0;36mtrain\u001b[0;34m(clf, data, target)\u001b[0m\n\u001b[1;32m     15\u001b[0m     }\n\u001b[1;32m     16\u001b[0m     \u001b[0mgs_clf\u001b[0m \u001b[0;34m=\u001b[0m \u001b[0mGridSearchCV\u001b[0m\u001b[0;34m(\u001b[0m\u001b[0mpipe_clf\u001b[0m\u001b[0;34m,\u001b[0m \u001b[0mparameters\u001b[0m\u001b[0;34m,\u001b[0m \u001b[0mcv\u001b[0m\u001b[0;34m=\u001b[0m\u001b[0;36m10\u001b[0m\u001b[0;34m,\u001b[0m \u001b[0miid\u001b[0m\u001b[0;34m=\u001b[0m\u001b[0;32mFalse\u001b[0m\u001b[0;34m,\u001b[0m \u001b[0mn_jobs\u001b[0m\u001b[0;34m=\u001b[0m\u001b[0;34m-\u001b[0m\u001b[0;36m1\u001b[0m\u001b[0;34m)\u001b[0m\u001b[0;34m\u001b[0m\u001b[0;34m\u001b[0m\u001b[0m\n\u001b[0;32m---> 17\u001b[0;31m     \u001b[0;32mreturn\u001b[0m \u001b[0mgs_clf\u001b[0m\u001b[0;34m.\u001b[0m\u001b[0mfit\u001b[0m\u001b[0;34m(\u001b[0m\u001b[0mdata\u001b[0m\u001b[0;34m,\u001b[0m \u001b[0mtarget\u001b[0m\u001b[0;34m)\u001b[0m\u001b[0;34m\u001b[0m\u001b[0;34m\u001b[0m\u001b[0m\n\u001b[0m\u001b[1;32m     18\u001b[0m \u001b[0;34m\u001b[0m\u001b[0m\n",
      "\u001b[0;32m~/anaconda3/lib/python3.7/site-packages/sklearn/model_selection/_search.py\u001b[0m in \u001b[0;36mfit\u001b[0;34m(self, X, y, groups, **fit_params)\u001b[0m\n\u001b[1;32m    627\u001b[0m             \u001b[0mrefit_metric\u001b[0m \u001b[0;34m=\u001b[0m \u001b[0;34m'score'\u001b[0m\u001b[0;34m\u001b[0m\u001b[0;34m\u001b[0m\u001b[0m\n\u001b[1;32m    628\u001b[0m \u001b[0;34m\u001b[0m\u001b[0m\n\u001b[0;32m--> 629\u001b[0;31m         \u001b[0mX\u001b[0m\u001b[0;34m,\u001b[0m \u001b[0my\u001b[0m\u001b[0;34m,\u001b[0m \u001b[0mgroups\u001b[0m \u001b[0;34m=\u001b[0m \u001b[0mindexable\u001b[0m\u001b[0;34m(\u001b[0m\u001b[0mX\u001b[0m\u001b[0;34m,\u001b[0m \u001b[0my\u001b[0m\u001b[0;34m,\u001b[0m \u001b[0mgroups\u001b[0m\u001b[0;34m)\u001b[0m\u001b[0;34m\u001b[0m\u001b[0;34m\u001b[0m\u001b[0m\n\u001b[0m\u001b[1;32m    630\u001b[0m         \u001b[0mn_splits\u001b[0m \u001b[0;34m=\u001b[0m \u001b[0mcv\u001b[0m\u001b[0;34m.\u001b[0m\u001b[0mget_n_splits\u001b[0m\u001b[0;34m(\u001b[0m\u001b[0mX\u001b[0m\u001b[0;34m,\u001b[0m \u001b[0my\u001b[0m\u001b[0;34m,\u001b[0m \u001b[0mgroups\u001b[0m\u001b[0;34m)\u001b[0m\u001b[0;34m\u001b[0m\u001b[0;34m\u001b[0m\u001b[0m\n\u001b[1;32m    631\u001b[0m \u001b[0;34m\u001b[0m\u001b[0m\n",
      "\u001b[0;32m~/anaconda3/lib/python3.7/site-packages/sklearn/utils/validation.py\u001b[0m in \u001b[0;36mindexable\u001b[0;34m(*iterables)\u001b[0m\n\u001b[1;32m    228\u001b[0m         \u001b[0;32melse\u001b[0m\u001b[0;34m:\u001b[0m\u001b[0;34m\u001b[0m\u001b[0;34m\u001b[0m\u001b[0m\n\u001b[1;32m    229\u001b[0m             \u001b[0mresult\u001b[0m\u001b[0;34m.\u001b[0m\u001b[0mappend\u001b[0m\u001b[0;34m(\u001b[0m\u001b[0mnp\u001b[0m\u001b[0;34m.\u001b[0m\u001b[0marray\u001b[0m\u001b[0;34m(\u001b[0m\u001b[0mX\u001b[0m\u001b[0;34m)\u001b[0m\u001b[0;34m)\u001b[0m\u001b[0;34m\u001b[0m\u001b[0;34m\u001b[0m\u001b[0m\n\u001b[0;32m--> 230\u001b[0;31m     \u001b[0mcheck_consistent_length\u001b[0m\u001b[0;34m(\u001b[0m\u001b[0;34m*\u001b[0m\u001b[0mresult\u001b[0m\u001b[0;34m)\u001b[0m\u001b[0;34m\u001b[0m\u001b[0;34m\u001b[0m\u001b[0m\n\u001b[0m\u001b[1;32m    231\u001b[0m     \u001b[0;32mreturn\u001b[0m \u001b[0mresult\u001b[0m\u001b[0;34m\u001b[0m\u001b[0;34m\u001b[0m\u001b[0m\n\u001b[1;32m    232\u001b[0m \u001b[0;34m\u001b[0m\u001b[0m\n",
      "\u001b[0;32m~/anaconda3/lib/python3.7/site-packages/sklearn/utils/validation.py\u001b[0m in \u001b[0;36mcheck_consistent_length\u001b[0;34m(*arrays)\u001b[0m\n\u001b[1;32m    203\u001b[0m     \u001b[0;32mif\u001b[0m \u001b[0mlen\u001b[0m\u001b[0;34m(\u001b[0m\u001b[0muniques\u001b[0m\u001b[0;34m)\u001b[0m \u001b[0;34m>\u001b[0m \u001b[0;36m1\u001b[0m\u001b[0;34m:\u001b[0m\u001b[0;34m\u001b[0m\u001b[0;34m\u001b[0m\u001b[0m\n\u001b[1;32m    204\u001b[0m         raise ValueError(\"Found input variables with inconsistent numbers of\"\n\u001b[0;32m--> 205\u001b[0;31m                          \" samples: %r\" % [int(l) for l in lengths])\n\u001b[0m\u001b[1;32m    206\u001b[0m \u001b[0;34m\u001b[0m\u001b[0m\n\u001b[1;32m    207\u001b[0m \u001b[0;34m\u001b[0m\u001b[0m\n",
      "\u001b[0;31mValueError\u001b[0m: Found input variables with inconsistent numbers of samples: [139, 160]"
     ]
    }
   ],
   "source": [
    "\n",
    "for clf in clfs:\n",
    "    clf = train(clf, bag, csv[\"target\"].tolist())\n",
    "    print(clf.best_score_)"
   ]
  },
  {
   "cell_type": "markdown",
   "metadata": {},
   "source": [
    "## Test with Baseline"
   ]
  },
  {
   "cell_type": "code",
   "execution_count": 46,
   "metadata": {},
   "outputs": [
    {
     "ename": "AttributeError",
     "evalue": "'list' object has no attribute 'apply'",
     "output_type": "error",
     "traceback": [
      "\u001b[0;31m---------------------------------------------------------------------------\u001b[0m",
      "\u001b[0;31mAttributeError\u001b[0m                            Traceback (most recent call last)",
      "\u001b[0;32m<ipython-input-46-c5bcc6bd89f0>\u001b[0m in \u001b[0;36m<module>\u001b[0;34m\u001b[0m\n\u001b[1;32m      7\u001b[0m     \u001b[0;32mreturn\u001b[0m \u001b[0msoup\u001b[0m\u001b[0;34m.\u001b[0m\u001b[0mget_text\u001b[0m\u001b[0;34m(\u001b[0m\u001b[0;34m)\u001b[0m\u001b[0;34m\u001b[0m\u001b[0;34m\u001b[0m\u001b[0m\n\u001b[1;32m      8\u001b[0m \u001b[0;34m\u001b[0m\u001b[0m\n\u001b[0;32m----> 9\u001b[0;31m \u001b[0mbaseline_data\u001b[0m \u001b[0;34m=\u001b[0m \u001b[0mlinks\u001b[0m\u001b[0;34m.\u001b[0m\u001b[0mapply\u001b[0m\u001b[0;34m(\u001b[0m\u001b[0mget_text_from_link\u001b[0m\u001b[0;34m)\u001b[0m\u001b[0;34m\u001b[0m\u001b[0;34m\u001b[0m\u001b[0m\n\u001b[0m",
      "\u001b[0;31mAttributeError\u001b[0m: 'list' object has no attribute 'apply'"
     ]
    }
   ],
   "source": [
    "links = glob('./Paginas/PaginasBaseline/*')\n",
    "baseline_data = [get_text_from_link(link) for link in links ]"
   ]
  },
  {
   "cell_type": "code",
   "execution_count": 48,
   "metadata": {},
   "outputs": [],
   "source": [
    "data = [' '.join(extract_features(data)) for data in baseline_data]"
   ]
  },
  {
   "cell_type": "code",
   "execution_count": 49,
   "metadata": {},
   "outputs": [
    {
     "data": {
      "text/plain": [
       "'mtg booster boxes buy magic gathering booster boxes wizards cupboard cdata var cot loc window location protocol https https secure comodo net trustlogo javascript cot js http www trustlogo com trustlogo javascript cot js document writeln scr ipt language javascript src cot loc type text javascript scr ipt home magic gathering booster boxes account cart contents checkout quick find use keywords find product try theadvanced search categories singles foils setsbooster boxesbooster packsother sealed productspecialty itemsaccessoriesother ccg salternate art cards information blogdragon sculpturescompany detailsshipping returnstwc ramblingsnews archivegradingf q contact us tools sell uslink us articles articlescard combos decks general magic articles author please selectgabriel showersj turnerjustin vizarothe wizard cupboar promotion something special way comes var ans customer id ad f b ca c credit card services buy magic gathering booster boxes wizards cupboard largest selection mtg booster boxes anywhere var tooltips tooltips images boosterbox gif tooltips images boosterbox gif tooltips images boosterbox gif tooltips images boosterbox gif tooltips images boosterbox gif tooltips images boosterbox gif tooltips images boosterbox gif tooltips images artboosterbox png tooltips images arboosterbox jpg tooltips images alboosterbox gif tooltips images amobooster jpg tooltips images apboosterbox gif tooltips images avrboosterbox jpg tooltips images bfzboosterbox png tooltips images battlebond jpg tooltips images bkboosterbox gif tooltips images bogbooster jpg tooltips images ckboosterbox gif tooltips images cboosterbox gif tooltips images csboosterbox gif tooltips images cxboosterbox jpg tooltips images conspiracybox jpg tooltips images conspiracy take crown box jpg tooltips images cs boosterbox png tooltips images core set png tooltips images dabooster jpg tooltips images dboosterbox gif tooltips images dsboosterbox gif tooltips images dnboosterbox gif tooltips images domboosterbox jpg tooltips images dmbooster jpg tooltips images dragons tarkir jpg tooltips images embooster png tooltips images emabooster jpg tooltips images etboosterbox jpg tooltips images exboosterbox gif tooltips images feboosterbox gif tooltips images frbooster jpg tooltips images fdboosterbox gif tooltips images fsboosterbox gif tooltips images gcboosterbox jpg tooltips images gpboosterbox gif tooltips images gorboosterbox jpg tooltips images hboosterbox gif tooltips images hodbooster jpg tooltips images iaboosterbox gif tooltips images imboosterbox jpg tooltips images innboosterbox jpg tooltips images iboosterbox gif tooltips images ixabooster png tooltips images jinbooster jpg tooltips images jdboosterbox gif tooltips images kabooster jpg tooltips images tarkirlogo tooltips images legendsmain jpg tooltips images leboosterbox gif tooltips images lwboosterbox gif tooltips images boosterbox jpg tooltips images boosterbox gif tooltips images boosterbox gif tooltips images boosterbox jpg tooltips images boosterbox jpg tooltips images logo jpg tooltips images jpg tooltips images mmboosterbox gif tooltips images mboosterbox gif tooltips images mbbooster jpg tooltips images mbbooster jpg tooltips images mdboosterbox gif tooltips images mhbooster png tooltips images modernmasters box jpg tooltips images mm jpg tooltips images mmsealed png tooltips images mtboosterbox gif tooltips images nboosterbox gif tooltips images npbooster jpg tooltips images ogwboosterbox jpg tooltips images odboosterbox gif tooltips images osboosterbox gif tooltips images origins booster box jpg tooltips images pcboosterbox gif tooltips images psboosterbox gif tooltips images portalbooster jpg tooltips images pyboosterbox gif tooltips images rna booster box jpg tooltips images ravboosterbox gif tooltips images rtrboosterbox jpg tooltips images revboosterbox gif tooltips images reboosterbox jpg tooltips images roiboosterbox png tooltips images sokboosterbox gif tooltips images somboosterbox jpg tooltips images scboosterbox gif tooltips images smboosterbox jpg tooltips images soiboosterbox jpg tooltips images saboosterbox jpg tooltips images starter booster box jpg tooltips images sboosterbox gif tooltips images tboosterbox gif tooltips images therosboosterbox jpg tooltips images throne eldraine png tooltips images tsboosterbox gif tooltips images ttboosterbox gif tooltips images ultimate masters jpg tooltips images ungluedbox jpg tooltips images uhboosterbox gif tooltips images un jpg tooltips images unstable png tooltips images udboosterbox gif tooltips images ulboosterbox gif tooltips images usboosterbox gif tooltips images vboosterbox gif tooltips images wosboosterbox png tooltips images wboosterbox gif tooltips images wwbooster jpg tooltips images zkboosterbox jpg tooltips dynamicindex winter jpg tooltips dynamicindex bridge gif bridge somewhere background white font bold px arial image w description tooltip v c dynamic drive dhtml code library www dynamicdrive com notice must stay intact legal use visit dynamic drive http www dynamicdrive com script displaying products result pages next product name set color rarity cond qty price buy th edition booster box th edition booster box th edition booster box th edition booster box th edition booster box th edition booster box th edition booster box aether revolt booster box alara reborn booster box alliances booster box amonkhet booster box apocalypse booster box avacyn restored booster box battle zendikar booster box battlebond booster box betrayers kamigawa booster box born gods booster box champions kamigawa booster box chronicles booster box coldsnap booster box conflux booster box conspiracy booster box conspiracy take crown booster box core set booster box core set booster box dark ascension booster box dark booster box darksteel booster box dissension booster box dominaria booster box dragon maze booster box dragons tarkir booster box eldritch moon booster box eternal masters booster box eventide booster box exodus booster box fallen empires booster box fate reforged booster box fifth dawn booster box future sight booster box gatecrash booster box guildpact booster box guilds ravnica booster box homelands booster box hour devastation booster box ice age booster box iconic masters booster box innistrad booster box invasion booster box ixalan booster box displaying products result pages next shopping cart function couponpopupwindow url window open url popupwindow toolbar location directories status menubar scrollbars yes resizable yes copyhistory width height screenx screeny top left items specials global series reviews card best jace planswalker love sorry browser support iframes sunday september page hits since wednesday november site best viewed x display running internet explorer highersite structure originated oscommerceall magic gathering mtg magic cards magic gathering cards scans wizards coast links uacct ua urchintracker comodo ssl certificate cot https www wizardscupboard com images secure site gif sc none var foilsurl https www wizardscupboard com booster boxes c html show foils false function foilschange window location href foilsurl var packsurl https www wizardscupboard com booster boxes c html show packs false function packschange window location href packsurl var boxesurl https www wizardscupboard com booster boxes c html show boxes false function boxeschange window location href boxesurl var decksurl https www wizardscupboard com booster boxes c html show decks false function deckschange window location href decksurl'"
      ]
     },
     "execution_count": 49,
     "metadata": {},
     "output_type": "execute_result"
    }
   ],
   "source": []
  },
  {
   "cell_type": "markdown",
   "metadata": {},
   "source": [
    "# Content Extraction"
   ]
  },
  {
   "cell_type": "markdown",
   "metadata": {},
   "source": [
    "## Capefeargames"
   ]
  },
  {
   "cell_type": "code",
   "execution_count": 67,
   "metadata": {},
   "outputs": [],
   "source": [
    "urls = [\"https://www.capefeargames.com/catalog/magic_singles-throne_of_eldraine/oko_thief_of_crowns/606112\",\n",
    "\"https://www.capefeargames.com/buylist/magic_singles-masters_editions-modern_masters_2017/scalding_tarn/439123\",\n",
    "\"https://www.capefeargames.com/buylist/magic_singles-core_set_2020/chandra_awakened_inferno/601947\",\n",
    "\"https://www.capefeargames.com/catalog/magic_singles-throne_of_eldraine/the_circle_of_loyalty/606155\",\n",
    "\"https://www.capefeargames.com/catalog/magic_singles-ravnica_allegiance-ravnica_allegiance/bedevil__foil/593030\",\n",
    "\"https://www.capefeargames.com/catalog/magic_singles-core_set_2019/arcades_the_strategist/554263\",\n",
    "\"https://www.capefeargames.com/catalog/magic_singles-core_set_2019/goblin_instigator__foil/552313\",\n",
    "\"https://www.capefeargames.com/catalog/magic_singles-dominaria/jhoira_weatherlight_captain__foil/520393\",\n",
    "\"https://www.capefeargames.com/catalog/magic_singles-dominaria/knight_of_grace__foil/520593\",\n",
    "\"https://www.capefeargames.com/catalog/magic_singles-dominaria/karn_scion_of_urza/520483\"]\n",
    "\n",
    "urls = [encode_url_to_file(url) + \".html\" for url in urls]"
   ]
  },
  {
   "cell_type": "code",
   "execution_count": 86,
   "metadata": {},
   "outputs": [],
   "source": [
    "def extract_capefeargames(soup):\n",
    "    root_div = soup.find(\"div\", class_=\"product-info\")\n",
    "    title = root_div.find('h1').text\n",
    "    price_span = root_div.find('span', class_='price')\n",
    "    price = re.sub('[\\s+]', '', price_span.text) if price_span != None else ''\n",
    "    infos_box = root_div.find_all('div', class_='info-box')\n",
    "    description = infos_box[1].find('p').text\n",
    "    extra_infos = infos_box[2].find('p')\n",
    "    infos = {}\n",
    "    key = \"\"\n",
    "    value = \"\"\n",
    "    for child in extra_infos.children:\n",
    "        if child.name == None:\n",
    "            continue\n",
    "        if key == \"\": \n",
    "            key = child.text\n",
    "        else:\n",
    "            value = value + child.text + \" \"\n",
    "        if child.name == \"br\":\n",
    "            infos[key] = value.strip()\n",
    "            key = \"\"\n",
    "            value = \"\"\n",
    "    return {\"name\": title, \"desc\": description, \"price\": price, \"infos\": infos}"
   ]
  },
  {
   "cell_type": "code",
   "execution_count": 87,
   "metadata": {},
   "outputs": [
    {
     "name": "stdout",
     "output_type": "stream",
     "text": [
      "\n",
      "$50.00/$62.50\n",
      "$8.00/$10.00\n",
      "\n",
      "$4.95\n",
      "$3.95\n",
      "\n",
      "$7.55\n",
      "$0.56\n",
      "\n"
     ]
    }
   ],
   "source": [
    "for url in urls: \n",
    "    html = open(\"./train-set/\" + url, \"r\")\n",
    "    soup = BeautifulSoup(html)\n",
    "    print(extract_capefeargames(soup)[\"price\"])"
   ]
  },
  {
   "cell_type": "markdown",
   "metadata": {},
   "source": [
    "## Mtgotraders"
   ]
  },
  {
   "cell_type": "code",
   "execution_count": 88,
   "metadata": {},
   "outputs": [],
   "source": [
    "urls = [\"https://www.mtgotraders.com/store/M20_Act_of_Treason.html\",\n",
    "\"https://www.mtgotraders.com/store/M20_Ajani_Strength_of_the_Pride.html\",\n",
    "\"https://www.mtgotraders.com/store/M20_Angelic_Gift.html\",\n",
    "\"https://www.mtgotraders.com/store/M20_Barony_Vampire.html\",\n",
    "\"https://www.mtgotraders.com/store/M20_Barkhide_Troll.html\",\n",
    "\"https://www.mtgotraders.com/store/GRN_Assassins_Trophy.html\",\n",
    "\"https://www.mtgotraders.com/store/GRN_Assure_Assemble.html\",\n",
    "\"https://www.mtgotraders.com/store/GRN_Bartizan_Bats.html\",\n",
    "\"https://www.mtgotraders.com/store/XLN_Angraths_Marauders.html\",\n",
    "\"https://www.mtgotraders.com/store/XLN_Axis_of_Mortality.html\"]\n",
    "\n",
    "urls = [encode_url_to_file(url) + \".html\" for url in urls]"
   ]
  },
  {
   "cell_type": "code",
   "execution_count": 103,
   "metadata": {},
   "outputs": [
    {
     "name": "stdout",
     "output_type": "stream",
     "text": [
      "{'name': 'Act of Treason', 'desc': '', 'price': '$0.01', 'infos': {'Set:\\xa0': 'Core Set 2020', 'Mana Cost:': '2Red', 'Card Type:': 'Sorcery', 'Description:': 'Gain control of target creature until end of turn. Untap that creature. It gains haste until end of turn. (It can attack and Tap this turn.)', 'Qty:': '30'}}\n",
      "{'name': 'Ajani, Strength of the Pride', 'desc': '', 'price': '$9.80', 'infos': {'Set:\\xa0': 'Core Set 2020', 'Mana Cost:': '2WhiteWhite', 'Card Type:': 'Legendary Planeswalker - Ajani', 'Description:': '+1: You gain life equal to the number of creatures you control plus the number of planeswalkers you control.-2: Create a 2/2 white Cat Soldier creature token named Ajani\\'s Pridemate with \"Whenever you gain life, put a +1/+1 counter on Ajani\\'s Pridemate.\"0: If you have at least 15 life more than your starting life total, exile Ajani, Strength of the Pride and each artifact and creature your opponents control.', 'Qty:': '7'}}\n",
      "{'name': 'Angelic Gift', 'desc': '', 'price': '$0.01', 'infos': {'Set:\\xa0': 'Core Set 2020', 'Mana Cost:': '1White', 'Card Type:': 'Enchantment - Aura', 'Description:': 'Enchant creatureWhen Angelic Gift enters the battlefield, draw a card.Enchanted creature has flying.', 'Qty:': '26'}}\n",
      "{'name': 'Barony Vampire', 'desc': '', 'price': '$0.01', 'infos': {'Set:\\xa0': 'Core Set 2020', 'Mana Cost:': '2Black', 'Card Type:': 'Creature - Vampire', 'Qty:': '32'}}\n",
      "{'name': 'Barkhide Troll', 'desc': '', 'price': '$0.03', 'infos': {'Set:\\xa0': 'Core Set 2020', 'Mana Cost:': 'GreenGreen', 'Card Type:': 'Creature - Troll', 'Description:': \"Barkhide Troll enters the battlefield with a +1/+1 counter on it.1, Remove a +1/+1 counter from Barkhide Troll: Barkhide Troll gains hexproof until end of turn. (It can't be the target of spells or abilities your opponents control.)\", 'Qty:': '12'}}\n",
      "{'name': \"Assassin's Trophy\", 'desc': '', 'price': '$7.24', 'infos': {'Set:\\xa0': 'Guilds of Ravnica', 'Mana Cost:': 'BlackGreen', 'Card Type:': 'Instant', 'Description:': 'Destroy target permanent an opponent controls. Its controller may search their library for a basic land card, put it onto the battlefield, then shuffle their library.', 'Qty:': '24'}}\n",
      "{'name': 'Assure/Assemble', 'desc': '', 'price': '$0.01', 'infos': {'Set:\\xa0': 'Guilds of Ravnica', 'Mana Cost:': 'Green or WhiteGreen or White//4GreenWhite', 'Card Type:': 'Instant//Instant', 'Description:': 'Put a +1/+1 counter on target creature. That creature gains indestructible until end of turn.//Create three 2/2 green and white Elf Knight creature tokens with vigilance.', 'Qty:': '32'}}\n",
      "{'name': 'Bartizan Bats', 'desc': '', 'price': '$0.01', 'infos': {'Set:\\xa0': 'Guilds of Ravnica', 'Mana Cost:': '3Black', 'Card Type:': 'Creature - Bat', 'Description:': 'Flying', 'Qty:': '39'}}\n",
      "{'name': \"Angrath's Marauders\", 'desc': '', 'price': '$0.02', 'infos': {'Set:\\xa0': 'Ixalan', 'Mana Cost:': '5RedRed', 'Card Type:': 'Creature - Human Pirate', 'Description:': 'If a source you control would deal damage to a permanent or player, it deals double that damage to that permanent or player instead.', 'Qty:': '31'}}\n",
      "{'name': 'Axis of Mortality', 'desc': '', 'price': '$0.01', 'infos': {'Set:\\xa0': 'Ixalan', 'Mana Cost:': '4WhiteWhite', 'Card Type:': 'Enchantment', 'Description:': 'At the beginning of your upkeep, you may have two target players exchange life totals.', 'Qty:': '28'}}\n"
     ]
    }
   ],
   "source": [
    "def get_text_from_contents(contents):\n",
    "    text = ''\n",
    "    for content in contents:\n",
    "        if content.name == 'img':\n",
    "            text = text + content.get('alt')\n",
    "        elif content.name == None:\n",
    "            text = text + content\n",
    "        else:\n",
    "            text = text + get_text_from_contents(content.contents)\n",
    "    return text\n",
    "def extract_mtgotraders(soup):\n",
    "    root_div = soup.find('div', class_='product-info')\n",
    "    name = root_div.find('h1').text\n",
    "    price = root_div.find('span', class_='price').text\n",
    "    dl = root_div.find('div', class_='product-addtocart').find('dl')\n",
    "    keys = [dt.text for dt in dl.find_all('dt')]\n",
    "    values = [get_text_from_contents(dd.contents) for dd in dl.find_all('dd')]\n",
    "    infos = dict(zip(keys, values))\n",
    "    return {'name': name, 'desc': '', 'price': price, 'infos': infos}"
   ]
  },
  {
   "cell_type": "code",
   "execution_count": null,
   "metadata": {},
   "outputs": [],
   "source": [
    "for url in urls:    \n",
    "    html = open(\"./train-set/\" + url, \"r\")\n",
    "    soup = BeautifulSoup(html)\n",
    "    print(extract_mtgotraders(soup))"
   ]
  },
  {
   "cell_type": "markdown",
   "metadata": {},
   "source": [
    "## Wizardscupboard"
   ]
  },
  {
   "cell_type": "code",
   "execution_count": 105,
   "metadata": {},
   "outputs": [],
   "source": [
    "urls = [\"https://www.wizardscupboard.com/grisly-spectacle-p-41020.html\",\n",
    "\"https://www.wizardscupboard.com/jace-architect-thought-p-37824.html\",\n",
    "\"https://www.wizardscupboard.com/deathhood-cobra-p-41032.html\",\n",
    "\"https://www.wizardscupboard.com/cephalid-broker-p-49589.html\",\n",
    "\"https://www.wizardscupboard.com/charmbreaker-devils-p-49665.html\",\n",
    "\"https://www.wizardscupboard.com/benevolent-ancestor-p-49557.html\",\n",
    "\"https://www.wizardscupboard.com/adderstaff-boggart-p-22490.html\",\n",
    "\"https://www.wizardscupboard.com/ajani-goldmane-p-22492.html\",\n",
    "\"https://www.wizardscupboard.com/deadeye-quartermaster-p-50094.html\",\n",
    "\"https://www.wizardscupboard.com/colossal-dreadmaw-p-50227.html\"]\n",
    "\n",
    "urls = [encode_url_to_file(url) + \".html\" for url in urls]"
   ]
  },
  {
   "cell_type": "code",
   "execution_count": 153,
   "metadata": {},
   "outputs": [],
   "source": [
    "def extract_wizardscupboard(soup):\n",
    "    pageHeading = soup.find_all('td', class_='pageHeading')\n",
    "    name = pageHeading[0].text.strip()\n",
    "    price = pageHeading[1].text.strip()\n",
    "    main = soup.find('td', class_='main')\n",
    "    infos = {}\n",
    "    key = ''\n",
    "    for i, child in enumerate(main.children):\n",
    "        if key != '':\n",
    "            infos[key] = child\n",
    "            key = ''\n",
    "            continue\n",
    "        if child.name != 'b':\n",
    "            continue\n",
    "        if child.text == 'color:':\n",
    "            key = 'color'\n",
    "        if child.text == 'rarity:':\n",
    "            key = 'rarity'\n",
    "        if child.text == 'card type:':\n",
    "            key = 'card type'\n",
    "        if child.text == 'artist(s):':\n",
    "            key = 'artists'\n",
    "    return {'name': name, 'price': price, 'infos': infos}"
   ]
  },
  {
   "cell_type": "code",
   "execution_count": 156,
   "metadata": {},
   "outputs": [
    {
     "name": "stdout",
     "output_type": "stream",
     "text": [
      "{'name': 'Grisly Spectacle - Jace vs. Vraska', 'price': '$0.15', 'infos': {'color': ' Black', 'rarity': ' Common', 'card type': ' Instant', 'artists': ' Zoltan Boros'}}\n",
      "{'name': 'Jace, Architect of Thought (JvV) - Duel Decks Magic the Gathering Single', 'price': '$1.25', 'infos': {'color': ' Blue', 'rarity': ' Mythic Rare', 'card type': ' Planeswalker', 'artists': ' '}}\n",
      "{'name': 'Death-Hood Cobra - Jace vs. Vraska', 'price': '$0.15', 'infos': {'color': ' Green', 'rarity': ' Common', 'card type': ' Creature', 'artists': ' Jason Felix'}}\n",
      "{'name': 'Cephalid Broker - Iconic Masters', 'price': '$0.20', 'infos': {'color': ' Blue', 'rarity': ' Uncommon', 'card type': ' Creature', 'artists': ' '}}\n",
      "{'name': 'Charmbreaker Devils - Iconic Masters', 'price': '$0.25', 'infos': {'color': ' Red', 'rarity': ' Rare', 'card type': ' Creature', 'artists': ' '}}\n",
      "{'name': 'Benevolent Ancestor - Iconic Masters', 'price': '$0.10', 'infos': {'color': ' White', 'rarity': ' Common', 'card type': ' Creature', 'artists': ' '}}\n",
      "{'name': 'Adder-Staff Boggart - Lorwyn', 'price': '$0.05', 'infos': {'color': ' Red', 'rarity': ' Common', 'card type': ' Creature - Goblin Warrior', 'artists': ' Jeff Miracola'}}\n",
      "{'name': 'Ajani Goldmane - Lorwyn', 'price': '$6.75', 'infos': {'color': ' White', 'rarity': ' Rare', 'card type': ' Planeswalker - Ajani', 'artists': ' Aleksi Briclot'}}\n",
      "{'name': 'Deadeye Quartermaster - Ixalan', 'price': '$0.15', 'infos': {'color': ' Blue', 'rarity': ' Uncommon', 'card type': ' Creature', 'artists': ' '}}\n",
      "{'name': 'Colossal Dreadmaw - Ixalan', 'price': '$0.20', 'infos': {'color': ' Green', 'rarity': ' Common', 'card type': ' Creature', 'artists': ' '}}\n"
     ]
    }
   ],
   "source": [
    "for url in urls:    \n",
    "    html = open(\"./train-set/\" + url, \"r\")\n",
    "    soup = BeautifulSoup(html)\n",
    "    print(extract_wizardscupboard(soup))"
   ]
  },
  {
   "cell_type": "markdown",
   "metadata": {},
   "source": [
    "## Cardkingdom"
   ]
  },
  {
   "cell_type": "code",
   "execution_count": 160,
   "metadata": {},
   "outputs": [],
   "source": [
    "urls = [\"https://www.cardkingdom.com/mtg/core-set-2020/agonizing-syphon\",\n",
    "\"https://www.cardkingdom.com/mtg/core-set-2020/air-elemental\",\n",
    "\"https://www.cardkingdom.com/mtg/modern-horizons/alpine-guide\",\n",
    "\"https://www.cardkingdom.com/mtg/modern-horizons/altar-of-dementia\",\n",
    "\"https://www.cardkingdom.com/mtg/modern-horizons/angel-token\",\n",
    "\"https://www.cardkingdom.com/mtg/ultimate-masters/aethersnipe\",\n",
    "\"https://www.cardkingdom.com/mtg/ultimate-masters/all-is-dust\",\n",
    "\"https://www.cardkingdom.com/mtg/commander-2015/blasted-landscape\",\n",
    "\"https://www.cardkingdom.com/mtg/global-series-jiang-yanggu-mu-yanling/island\",\n",
    "\"https://www.cardkingdom.com/mtg/commander-2019/akoum-refuge\"]\n",
    "\n",
    "urls = [encode_url_to_file(url) + \".html\" for url in urls]"
   ]
  },
  {
   "cell_type": "code",
   "execution_count": 194,
   "metadata": {},
   "outputs": [],
   "source": [
    "def extract_cardkingdom(soup): \n",
    "    main = soup.find('div', class_='mainWrapper')\n",
    "    name = soup.find('h1').text\n",
    "    price = main.find('span', class_='stylePrice').text.strip()\n",
    "    trs = main.find('div', class_='cardDetailInfo').find('table').find_all('tr')\n",
    "    infos = {}\n",
    "    for tr in trs[:len(trs)-1]:\n",
    "        tds = tr.find_all('td')\n",
    "        if tds[0].text == 'Cast:':\n",
    "            infos[tds[0].text[:len(tds[0].text)-1]] = ''.join([c.get('src')[len(c.get('src'))-5] for c in tds[1].contents])\n",
    "        else:\n",
    "            infos[tds[0].text[:len(tds[0].text)-1]] = tds[1].text.strip(' \\n\\t\\r')\n",
    "    desc = trs[len(trs)-1].find('td').text.strip(' \\n\\t\\r')\n",
    "    return {'name': name, 'desc': desc, 'price': price, 'infos': infos}"
   ]
  },
  {
   "cell_type": "code",
   "execution_count": 195,
   "metadata": {},
   "outputs": [
    {
     "name": "stdout",
     "output_type": "stream",
     "text": [
      "{'name': 'Core Set 2020: Agonizing Syphon', 'desc': 'Agonizing Syphon deals 3 damage to any target and you gain 3 life.', 'price': '$0.25', 'infos': {'Edition': 'Core Set 2020', 'Type': 'Sorcery', 'Cast': '3b', 'Rarity': 'C'}}\n",
      "{'name': 'Core Set 2020: Air Elemental', 'desc': 'Flying', 'price': '$0.25', 'infos': {'Edition': 'Core Set 2020', 'Type': 'Creature - Elemental', 'Cast': '3uu', 'Rarity': 'U', 'Pow/Tuf': '4/4'}}\n",
      "{'name': 'Modern Horizons: Alpine Guide', 'desc': 'When Alpine Guide enters the battlefield, you may search your library for a Mountain card, put that card onto the battlefield tapped, then shuffle your library.\\nAlpine Guide attacks each combat if able.\\nWhen Alpine Guide leaves the battlefield, sacrifice a Mountain.', 'price': '$0.25', 'infos': {'Edition': 'Modern Horizons', 'Type': 'Snow Creature - Human Scout', 'Cast': '2r', 'Rarity': 'U', 'Pow/Tuf': '3/3'}}\n",
      "{'name': 'Modern Horizons: Altar of Dementia', 'desc': \"Sacrifice a creature: Target player puts a number of cards equal to the sacrificed creature's power from the top of their library into their graveyard. \\n Pro Tip!\\n\\nAltar of Dementia is a longtime Commander favorite, especially among players who love to fill up their graveyards. It recently entered the Modern format thanks to a reprint in Modern Horizons.\", 'price': '$1.79', 'infos': {'Edition': 'Modern Horizons', 'Type': 'Artifact', 'Cast': '2', 'Rarity': 'R'}}\n",
      "{'name': 'Modern Horizons: Angel Token', 'desc': 'Flying, vigilance', 'price': '$0.25', 'infos': {'Edition': 'Modern Horizons', 'Type': 'Token Creature - Angel', 'Cast': '', 'Rarity': 'S', 'Pow/Tuf': '4/4'}}\n",
      "{'name': 'Ultimate Masters: Aethersnipe', 'desc': \"When Aethersniper enters the battlefield, return target nonland permanent to its owner's hand.\\nEvoke  (You may cast this spell for its evoke cost. If you do, it's sacrificed when it enters the battlefield.)\", 'price': '$0.25', 'infos': {'Edition': 'Ultimate Masters', 'Type': 'Creature - Elemental', 'Cast': '5u', 'Rarity': 'C', 'Pow/Tuf': '4/4'}}\n",
      "{'name': 'Ultimate Masters: All Is Dust', 'desc': 'Each player sacrifices all colored permanents they control.', 'price': '$9.99', 'infos': {'Edition': 'Ultimate Masters', 'Type': 'Tribal Sorcery - Eldrazi', 'Cast': '7', 'Rarity': 'R'}}\n",
      "{'name': 'Commander 2015: Blasted Landscape', 'desc': ': Add  to your mana pool.\\nCycling  (, Discard this card: Draw a card.)', 'price': '$0.99', 'infos': {'Edition': 'Commander 2015', 'Type': 'Land', 'Cast': '', 'Rarity': 'U'}}\n",
      "{'name': 'Global Series: Jiang Yanggu & Mu Yanling: Island', 'desc': 'No Text', 'price': '$0.35', 'infos': {'Edition': 'Global Series: Jiang Yanggu & Mu Yanling', 'Type': 'Basic Land - Island', 'Cast': '', 'Rarity': 'L'}}\n",
      "{'name': 'Commander 2019: Akoum Refuge', 'desc': 'Akoum Refuge enters the battlefield tapped.\\nWhen Akoum Refuge enters the battlefield, you gain 1 life.\\n: Add  or .', 'price': '$0.25', 'infos': {'Edition': 'Commander 2019', 'Type': 'Land', 'Cast': '', 'Rarity': 'U'}}\n"
     ]
    }
   ],
   "source": [
    "for url in urls:    \n",
    "    html = open(\"./train-set/\" + url, \"r\")\n",
    "    soup = BeautifulSoup(html)\n",
    "    print(extract_cardkingdom(soup))"
   ]
  },
  {
   "cell_type": "markdown",
   "metadata": {},
   "source": [
    "## Starcitygames"
   ]
  },
  {
   "cell_type": "code",
   "execution_count": 198,
   "metadata": {},
   "outputs": [],
   "source": [
    "urls = [\"http://www.starcitygames.com/catalog/magic_the_gathering/product/1385121\",\n",
    "\"http://www.starcitygames.com/catalog/magic_the_gathering/product/1423921\",\n",
    "\"http://www.starcitygames.com/catalog/magic_the_gathering/product/7655/43686\",\n",
    "\"http://www.starcitygames.com/catalog/magic_the_gathering/product/1264395\",\n",
    "\"http://www.starcitygames.com/catalog/magic_the_gathering/product/57426/165797\",\n",
    "\"http://www.starcitygames.com/catalog/magic_the_gathering/product/57204\",\n",
    "\"http://www.starcitygames.com/catalog/magic_the_gathering/product/57462\",\n",
    "\"http://www.starcitygames.com/catalog/magic_the_gathering/product/57556\",\n",
    "\"http://www.starcitygames.com/catalog/magic_the_gathering/product/6015/27865\",\n",
    "\"http://www.starcitygames.com/catalog/magic_the_gathering/product/6086\"]\n",
    "\n",
    "urls = [encode_url_to_file(url) + \".html\" for url in urls]"
   ]
  },
  {
   "cell_type": "code",
   "execution_count": 255,
   "metadata": {},
   "outputs": [],
   "source": [
    "def get_text_from_value(value): \n",
    "    if value.name == None:\n",
    "        return value.strip()\n",
    "    if value.name == 'i' and len(value.get('class')) == 3:\n",
    "        print(value)\n",
    "        return value.get('class')[1][len(value.get('class')[1])-1]\n",
    "    else:\n",
    "        return ''.join([get_text_from_value(c) for c in value.contents])\n",
    "    \n",
    "def extract_starcitygames(soup): \n",
    "    table = soup.find('table')\n",
    "    name = table.find('h2').text\n",
    "    div = table.find('div')\n",
    "    price = div.find('span', class_='articletext').find('div').text\n",
    "    parent = div.find('div', class_='card_desc_details').find('strong').parent\n",
    "    infos = {}\n",
    "    key = ''\n",
    "    value = ''\n",
    "    for i, child in enumerate(parent.children):\n",
    "        if child.name == 'br' and key != '':\n",
    "            infos[key] = value.strip()\n",
    "            key = ''\n",
    "            value = ''\n",
    "            continue\n",
    "        if key != '':\n",
    "            value = value + ' ' + get_text_from_value(child)\n",
    "        if child.name == 'strong':\n",
    "            key = child.text[:len(child.text)-1]\n",
    "    return {'name': name, 'price': price, 'infos': infos}"
   ]
  },
  {
   "cell_type": "code",
   "execution_count": 256,
   "metadata": {},
   "outputs": [
    {
     "name": "stdout",
     "output_type": "stream",
     "text": [
      "{'name': 'Forest', 'price': 'Price: $0.25', 'infos': {'Card Type': 'Basic Land', 'Subtype': 'Forest', 'Card Text': 'G', 'Oracle Text': 'G', 'Artist': 'Dimitar', 'Rarity': 'Basic Land'}}\n",
      "{'name': 'Mountain', 'price': 'Price: $0.25', 'infos': {'Card Type': 'Basic Land', 'Subtype': 'Mountain', 'Card Text': 'R', 'Oracle Text': 'R', 'Artist': 'Titus Lunter', 'Rarity': 'Basic Land'}}\n",
      "{'name': 'Blasted Landscape', 'price': 'Price: $0.99', 'infos': {'Card Type': 'Land', 'Card Text': 'ocT: Add one colorless mana to your mana pool.', 'Oracle Text': 'Tap: Add C.', 'Artist': 'Ciruelo', 'Rarity': 'Uncommon'}}\n",
      "<i class=\"ms ms-1 ms-cost\"></i>\n",
      "<i class=\"ms ms-r ms-cost\"></i>\n",
      "<i class=\"ms ms-r ms-cost\"></i>\n",
      "{'name': 'Brazen Scourge', 'price': 'Price: $0.25', 'infos': {'Card Type': 'Creature', 'Creature Type': 'Gremlin', 'Power/Toughness': '3/3', 'Casting Cost': '1 r r', 'Card Text': 'Haste', 'Oracle Text': 'Haste', 'Flavor Text': 'Driven by an insatiable hunger, gremlins never cease feeding. They can destroy a lifetime of work in just a few moments.', 'Artist': 'Kev Walker', 'Rarity': 'Uncommon'}}\n",
      "<i class=\"ms ms-3 ms-cost\"></i>\n",
      "<i class=\"ms ms-r ms-cost\"></i>\n",
      "<i class=\"ms ms-r ms-cost\"></i>\n",
      "{'name': 'Chandra Nalaar', 'price': 'Price: $2.49', 'infos': {'Card Type': 'Legendary Planeswalker', 'Subtype': 'Chandra', 'Loyalty': '6', 'Casting Cost': '3 r r', 'Card Text': '+1: Chandra Nalaar deals 1 damage to target player.', 'Oracle Text': '+1: Chandra Nalaar deals 1 damage to target player or planeswalker.', 'Artist': 'Aleksi Briclot', 'Rarity': 'Mythic Rare'}}\n",
      "<i class=\"ms ms-1 ms-cost\"></i>\n",
      "<i class=\"ms ms-b ms-cost\"></i>\n"
     ]
    },
    {
     "ename": "TypeError",
     "evalue": "object of type 'NoneType' has no len()",
     "output_type": "error",
     "traceback": [
      "\u001b[0;31m---------------------------------------------------------------------------\u001b[0m",
      "\u001b[0;31mTypeError\u001b[0m                                 Traceback (most recent call last)",
      "\u001b[0;32m<ipython-input-256-e93f1307e5fd>\u001b[0m in \u001b[0;36m<module>\u001b[0;34m\u001b[0m\n\u001b[1;32m      2\u001b[0m     \u001b[0mhtml\u001b[0m \u001b[0;34m=\u001b[0m \u001b[0mopen\u001b[0m\u001b[0;34m(\u001b[0m\u001b[0;34m\"./train-set/\"\u001b[0m \u001b[0;34m+\u001b[0m \u001b[0murl\u001b[0m\u001b[0;34m,\u001b[0m \u001b[0;34m\"r\"\u001b[0m\u001b[0;34m)\u001b[0m\u001b[0;34m\u001b[0m\u001b[0;34m\u001b[0m\u001b[0m\n\u001b[1;32m      3\u001b[0m     \u001b[0msoup\u001b[0m \u001b[0;34m=\u001b[0m \u001b[0mBeautifulSoup\u001b[0m\u001b[0;34m(\u001b[0m\u001b[0mhtml\u001b[0m\u001b[0;34m)\u001b[0m\u001b[0;34m\u001b[0m\u001b[0;34m\u001b[0m\u001b[0m\n\u001b[0;32m----> 4\u001b[0;31m     \u001b[0mprint\u001b[0m\u001b[0;34m(\u001b[0m\u001b[0mextract_starcitygames\u001b[0m\u001b[0;34m(\u001b[0m\u001b[0msoup\u001b[0m\u001b[0;34m)\u001b[0m\u001b[0;34m)\u001b[0m\u001b[0;34m\u001b[0m\u001b[0;34m\u001b[0m\u001b[0m\n\u001b[0m",
      "\u001b[0;32m<ipython-input-255-c8491ef6650f>\u001b[0m in \u001b[0;36mextract_starcitygames\u001b[0;34m(soup)\u001b[0m\n\u001b[1;32m     24\u001b[0m             \u001b[0;32mcontinue\u001b[0m\u001b[0;34m\u001b[0m\u001b[0;34m\u001b[0m\u001b[0m\n\u001b[1;32m     25\u001b[0m         \u001b[0;32mif\u001b[0m \u001b[0mkey\u001b[0m \u001b[0;34m!=\u001b[0m \u001b[0;34m''\u001b[0m\u001b[0;34m:\u001b[0m\u001b[0;34m\u001b[0m\u001b[0;34m\u001b[0m\u001b[0m\n\u001b[0;32m---> 26\u001b[0;31m             \u001b[0mvalue\u001b[0m \u001b[0;34m=\u001b[0m \u001b[0mvalue\u001b[0m \u001b[0;34m+\u001b[0m \u001b[0;34m' '\u001b[0m \u001b[0;34m+\u001b[0m \u001b[0mget_text_from_value\u001b[0m\u001b[0;34m(\u001b[0m\u001b[0mchild\u001b[0m\u001b[0;34m)\u001b[0m\u001b[0;34m\u001b[0m\u001b[0;34m\u001b[0m\u001b[0m\n\u001b[0m\u001b[1;32m     27\u001b[0m         \u001b[0;32mif\u001b[0m \u001b[0mchild\u001b[0m\u001b[0;34m.\u001b[0m\u001b[0mname\u001b[0m \u001b[0;34m==\u001b[0m \u001b[0;34m'strong'\u001b[0m\u001b[0;34m:\u001b[0m\u001b[0;34m\u001b[0m\u001b[0;34m\u001b[0m\u001b[0m\n\u001b[1;32m     28\u001b[0m             \u001b[0mkey\u001b[0m \u001b[0;34m=\u001b[0m \u001b[0mchild\u001b[0m\u001b[0;34m.\u001b[0m\u001b[0mtext\u001b[0m\u001b[0;34m[\u001b[0m\u001b[0;34m:\u001b[0m\u001b[0mlen\u001b[0m\u001b[0;34m(\u001b[0m\u001b[0mchild\u001b[0m\u001b[0;34m.\u001b[0m\u001b[0mtext\u001b[0m\u001b[0;34m)\u001b[0m\u001b[0;34m-\u001b[0m\u001b[0;36m1\u001b[0m\u001b[0;34m]\u001b[0m\u001b[0;34m\u001b[0m\u001b[0;34m\u001b[0m\u001b[0m\n",
      "\u001b[0;32m<ipython-input-255-c8491ef6650f>\u001b[0m in \u001b[0;36mget_text_from_value\u001b[0;34m(value)\u001b[0m\n\u001b[1;32m      2\u001b[0m     \u001b[0;32mif\u001b[0m \u001b[0mvalue\u001b[0m\u001b[0;34m.\u001b[0m\u001b[0mname\u001b[0m \u001b[0;34m==\u001b[0m \u001b[0;32mNone\u001b[0m\u001b[0;34m:\u001b[0m\u001b[0;34m\u001b[0m\u001b[0;34m\u001b[0m\u001b[0m\n\u001b[1;32m      3\u001b[0m         \u001b[0;32mreturn\u001b[0m \u001b[0mvalue\u001b[0m\u001b[0;34m.\u001b[0m\u001b[0mstrip\u001b[0m\u001b[0;34m(\u001b[0m\u001b[0;34m)\u001b[0m\u001b[0;34m\u001b[0m\u001b[0;34m\u001b[0m\u001b[0m\n\u001b[0;32m----> 4\u001b[0;31m     \u001b[0;32mif\u001b[0m \u001b[0mvalue\u001b[0m\u001b[0;34m.\u001b[0m\u001b[0mname\u001b[0m \u001b[0;34m==\u001b[0m \u001b[0;34m'i'\u001b[0m \u001b[0;32mand\u001b[0m \u001b[0mlen\u001b[0m\u001b[0;34m(\u001b[0m\u001b[0mvalue\u001b[0m\u001b[0;34m.\u001b[0m\u001b[0mget\u001b[0m\u001b[0;34m(\u001b[0m\u001b[0;34m'class'\u001b[0m\u001b[0;34m)\u001b[0m\u001b[0;34m)\u001b[0m \u001b[0;34m==\u001b[0m \u001b[0;36m3\u001b[0m\u001b[0;34m:\u001b[0m\u001b[0;34m\u001b[0m\u001b[0;34m\u001b[0m\u001b[0m\n\u001b[0m\u001b[1;32m      5\u001b[0m         \u001b[0mprint\u001b[0m\u001b[0;34m(\u001b[0m\u001b[0mvalue\u001b[0m\u001b[0;34m)\u001b[0m\u001b[0;34m\u001b[0m\u001b[0;34m\u001b[0m\u001b[0m\n\u001b[1;32m      6\u001b[0m         \u001b[0;32mreturn\u001b[0m \u001b[0mvalue\u001b[0m\u001b[0;34m.\u001b[0m\u001b[0mget\u001b[0m\u001b[0;34m(\u001b[0m\u001b[0;34m'class'\u001b[0m\u001b[0;34m)\u001b[0m\u001b[0;34m[\u001b[0m\u001b[0;36m1\u001b[0m\u001b[0;34m]\u001b[0m\u001b[0;34m[\u001b[0m\u001b[0mlen\u001b[0m\u001b[0;34m(\u001b[0m\u001b[0mvalue\u001b[0m\u001b[0;34m.\u001b[0m\u001b[0mget\u001b[0m\u001b[0;34m(\u001b[0m\u001b[0;34m'class'\u001b[0m\u001b[0;34m)\u001b[0m\u001b[0;34m[\u001b[0m\u001b[0;36m1\u001b[0m\u001b[0;34m]\u001b[0m\u001b[0;34m)\u001b[0m\u001b[0;34m-\u001b[0m\u001b[0;36m1\u001b[0m\u001b[0;34m]\u001b[0m\u001b[0;34m\u001b[0m\u001b[0;34m\u001b[0m\u001b[0m\n",
      "\u001b[0;31mTypeError\u001b[0m: object of type 'NoneType' has no len()"
     ]
    }
   ],
   "source": [
    "for url in urls:    \n",
    "    html = open(\"./train-set/\" + url, \"r\")\n",
    "    soup = BeautifulSoup(html)\n",
    "    print(extract_starcitygames(soup))"
   ]
  },
  {
   "cell_type": "code",
   "execution_count": null,
   "metadata": {},
   "outputs": [],
   "source": []
  }
 ],
 "metadata": {
  "kernelspec": {
   "display_name": "Python 3",
   "language": "python",
   "name": "python3"
  },
  "language_info": {
   "codemirror_mode": {
    "name": "ipython",
    "version": 3
   },
   "file_extension": ".py",
   "mimetype": "text/x-python",
   "name": "python",
   "nbconvert_exporter": "python",
   "pygments_lexer": "ipython3",
   "version": "3.7.3"
  }
 },
 "nbformat": 4,
 "nbformat_minor": 2
}
