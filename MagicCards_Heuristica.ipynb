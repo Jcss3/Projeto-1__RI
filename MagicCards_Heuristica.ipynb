{
 "cells": [
  {
   "cell_type": "code",
   "execution_count": 1,
   "metadata": {},
   "outputs": [],
   "source": [
    "import pandas as pd\n",
    "import numpy as np\n",
    "import scipy as scp\n",
    "from bs4 import BeautifulSoup\n",
    "import requests as rq\n",
    "import re\n",
    "from requests.exceptions import HTTPError\n",
    "import urllib\n",
    "from selenium import webdriver\n",
    "from reppy.robots import Robots\n",
    "from urllib.parse import urlparse\n",
    "import time"
   ]
  },
  {
   "cell_type": "code",
   "execution_count": 198,
   "metadata": {},
   "outputs": [],
   "source": [
    "Dominio = ['https://www.capefeargames.com/','https://www.mtgotraders.com/',\n",
    "           'https://www.wizardscupboard.com/','https://abugames.com/',\n",
    "           'https://www.cardkingdom.com/','http://www.starcitygames.com/',\n",
    "           'https://www.tcgplayer.com/','https://scryfall.com/']\n",
    "\n",
    "paginasVisitadas = []\n",
    "Dados = []"
   ]
  },
  {
   "cell_type": "code",
   "execution_count": 199,
   "metadata": {},
   "outputs": [],
   "source": [
    "# Função para marcar a page como visitada.\n",
    "def Visitou (url):\n",
    "    if url not in paginasVisitadas:\n",
    "        return False\n",
    "    else:\n",
    "        return True"
   ]
  },
  {
   "cell_type": "code",
   "execution_count": 200,
   "metadata": {},
   "outputs": [],
   "source": [
    "# Função para verificar se a requisição sofreu algum problema.\n",
    "def verificarRequest(url):\n",
    "    response = rq.head(url)\n",
    "    if respone == 200:\n",
    "        return True\n",
    "    else:\n",
    "        return False"
   ]
  },
  {
   "cell_type": "code",
   "execution_count": 201,
   "metadata": {},
   "outputs": [],
   "source": [
    "def CrawlerDinâmico(url):\n",
    "    #C:\\\\Users\\\\Usuário\\\\Downloads\\\\chromedriver76\\\\chromedriver.exe \n",
    "    driver = webdriver.Chrome(\"C:\\\\Users\\\\Usuário\\\\Downloads\\\\chromedriver76\\\\chromedriver.exe\")\n",
    "    driver.get(url)\n",
    "    res = driver.execute_script(\"return document.documentElement.outerHTML\")\n",
    "    driver.quit\n",
    "    return res"
   ]
  },
  {
   "cell_type": "code",
   "execution_count": 202,
   "metadata": {},
   "outputs": [],
   "source": [
    "def verificarRobotTxt(url):\n",
    "    robots = Robots.fetch(url + '/robots.txt')\n",
    "    return robots.allowed(url, '*')"
   ]
  },
  {
   "cell_type": "code",
   "execution_count": 203,
   "metadata": {},
   "outputs": [],
   "source": [
    "# Criar uma Tabela com as informações sobre links.\n",
    "def Tabela(count,url,site):\n",
    "    Dados.append(dict(zip(['Número','Link','Site'],[count,url,site])))"
   ]
  },
  {
   "cell_type": "code",
   "execution_count": 206,
   "metadata": {},
   "outputs": [
    {
     "name": "stdout",
     "output_type": "stream",
     "text": [
      "<re.Match object; span=(0, 97), match='https://www.capefeargames.com/catalog/magic_singl>\n",
      "<re.Match object; span=(0, 58), match='https://www.mtgotraders.com/store/M15_Accursed_Sp>\n",
      "<re.Match object; span=(0, 64), match='https://www.wizardscupboard.com/academy-researche>\n",
      "<re.Match object; span=(0, 94), match='https://abugames.com/magic-the-gathering/singles/>\n",
      "<re.Match object; span=(0, 70), match='https://www.cardkingdom.com/mtg/war-of-the-spark/>\n",
      "<re.Match object; span=(0, 78), match='http://www.starcitygames.com/catalog/magic_the_ga>\n",
      "<re.Match object; span=(0, 109), match='https://shop.tcgplayer.com/magic/core-set-2020/va>\n",
      "<re.Match object; span=(0, 55), match='https://scryfall.com/card/soi/262/shard-of-broken>\n"
     ]
    }
   ],
   "source": [
    "# Padroes links de Cartas\n",
    "\n",
    "sentenca ='https://www.capefeargames.com/catalog/magic_singles-throne_of_eldraine/oko_thief_of_crowns/606112'\n",
    "CapeFearGamesMagicCard = re.compile(r'(.)*(magic_singles)(.)+(\\d)$') # score = 5 \n",
    "matches = CapeFearGamesMagicCard.finditer(sentenca)\n",
    "for match in matches:\n",
    "    print(match)\n",
    "\n",
    "sentenca2 = 'https://www.mtgotraders.com/store/M15_Accursed_Spirit.html'\n",
    "MtGoTradersMagicCard = re.compile(r'(.)*(store)(.)+') # score 4 ou 5 (lista de links de cartas tbm é dessa forma)\n",
    "matches2 = MtGoTradersMagicCard.finditer(sentenca2)\n",
    "for match in matches2:\n",
    "    print(match)\n",
    "\n",
    "sentenca3 = 'https://www.wizardscupboard.com/academy-researchers-p-21746.html'    \n",
    "WizardCupBoardMagicCard = re.compile(r'(.)*(\\d)*(\\.html)$')\n",
    "matches3 = WizardCupBoardMagicCard.finditer(sentenca3)\n",
    "for match in matches3:\n",
    "    print(match)\n",
    "\n",
    "sentenca4 = 'https://abugames.com/magic-the-gathering/singles/product-detail/Abundance/10th-Edition/English' \n",
    "AbuGamesMagicCard = re.compile(r'(.)*(magic-the-gathering)(.)+(singles)(.)(product-detail)(.)*(\\w)$')\n",
    "matches4 = AbuGamesMagicCard.finditer(sentenca4)\n",
    "for match in matches4:\n",
    "    print(match)\n",
    "\n",
    "sentenca5 = 'https://www.cardkingdom.com/mtg/war-of-the-spark/zombie-army-token-008'\n",
    "CardKingdomMagicCard = re.compile(r'(.)*(mtg)(.)*(\\w)$')\n",
    "matches5 = CardKingdomMagicCard.finditer(teste2)\n",
    "for match in matches5:\n",
    "    print(match)\n",
    "\n",
    "sentenca6 = 'http://www.starcitygames.com/catalog/magic_the_gathering/product/404636/410829'\n",
    "StarCityMagicCard = re.compile(r'(.)*(magic_the_gathering).(product)(.)*(\\d)$')\n",
    "matches6 = StarCityMagicCard.finditer(sentenca6)\n",
    "for match in matches6:\n",
    "    print(match)\n",
    "\n",
    "sentenca7 = 'https://shop.tcgplayer.com/magic/core-set-2020/vampire-of-the-dire-moon?xid=pda7dbc375c11488d89c90a7adb114b70'\n",
    "TcgPlayerMagicCard = re.compile(r'(.)*(magic)(.)*(\\w)$')\n",
    "matches7 =TcgPlayerMagicCard.finditer(sentenca7)\n",
    "for match in matches7:\n",
    "    print(match)\n",
    "\n",
    "sentenca8 = 'https://scryfall.com/card/soi/262/shard-of-broken-glass' \n",
    "ScryfallMagicCard = re.compile(r'(.)*(card)(.)*(\\d)(.)*$')\n",
    "matches8 =ScryfallMagicCard.finditer(sentenca8)\n",
    "for match in matches8:\n",
    "    print(match)\n",
    "\n",
    "padroesLinks = [CapeFearGamesMagicCard,CardKingdomMagicCard,\n",
    "                TcgPlayerMagicCard,AbuGamesMagicCard,\n",
    "                ScryfallMagicCard,StarCityMagicCard,\n",
    "               WizardCupBoardMagicCard,MtGoTradersMagicCard]"
   ]
  },
  {
   "cell_type": "markdown",
   "metadata": {},
   "source": [
    "## * Heurística"
   ]
  },
  {
   "cell_type": "code",
   "execution_count": null,
   "metadata": {},
   "outputs": [],
   "source": []
  },
  {
   "cell_type": "code",
   "execution_count": null,
   "metadata": {},
   "outputs": [],
   "source": []
  }
 ],
 "metadata": {
  "kernelspec": {
   "display_name": "Python 3",
   "language": "python",
   "name": "python3"
  },
  "language_info": {
   "codemirror_mode": {
    "name": "ipython",
    "version": 3
   },
   "file_extension": ".py",
   "mimetype": "text/x-python",
   "name": "python",
   "nbconvert_exporter": "python",
   "pygments_lexer": "ipython3",
   "version": "3.7.3"
  }
 },
 "nbformat": 4,
 "nbformat_minor": 2
}
